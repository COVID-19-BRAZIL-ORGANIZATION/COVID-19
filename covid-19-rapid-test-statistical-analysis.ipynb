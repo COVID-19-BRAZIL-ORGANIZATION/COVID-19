{
 "cells": [
  {
   "cell_type": "code",
   "execution_count": 1,
   "metadata": {
    "_cell_guid": "b1076dfc-b9ad-4769-8c92-a6c4dae69d19",
    "_uuid": "8f2839f25d086af736a60e9eeb907d3b93b6e0e5",
    "execution": {
     "iopub.execute_input": "2021-03-07T19:50:56.524254Z",
     "iopub.status.busy": "2021-03-07T19:50:56.523526Z",
     "iopub.status.idle": "2021-03-07T19:50:57.589740Z",
     "shell.execute_reply": "2021-03-07T19:50:57.590575Z"
    },
    "papermill": {
     "duration": 1.117369,
     "end_time": "2021-03-07T19:50:57.590821",
     "exception": false,
     "start_time": "2021-03-07T19:50:56.473452",
     "status": "completed"
    },
    "tags": []
   },
   "outputs": [
    {
     "name": "stdout",
     "output_type": "stream",
     "text": [
      "/kaggle/input/covid19final-dataset/both_test_unbalanced.csv\n",
      "/kaggle/input/covid19final-dataset/pcr_unbalanced.csv\n",
      "/kaggle/input/covid19final-dataset/rapid_balanced.csv\n",
      "/kaggle/input/covid19final-dataset/both_test_balanced.csv\n",
      "/kaggle/input/covid19final-dataset/rapid_unbalanced.csv\n",
      "/kaggle/input/covid19final-dataset/pcr_balanced.csv\n"
     ]
    }
   ],
   "source": [
    "# This Python 3 environment comes with many helpful analytics libraries installed\n",
    "# It is defined by the kaggle/python Docker image: https://github.com/kaggle/docker-python\n",
    "# For example, here's several helpful packages to load\n",
    "\n",
    "import numpy as np # linear algebra\n",
    "import pandas as pd # data processing, CSV file I/O (e.g. pd.read_csv)\n",
    "from scipy import stats\n",
    "from scipy.stats import chi2\n",
    "import seaborn as sns \n",
    "import matplotlib\n",
    "import matplotlib.pyplot as plt\n",
    "# Input data files are available in the read-only \"../input/\" directory\n",
    "# For example, running this (by clicking run or pressing Shift+Enter) will list all files under the input directory\n",
    "\n",
    "import os\n",
    "for dirname, _, filenames in os.walk('/kaggle/input'):\n",
    "    for filename in filenames:\n",
    "        print(os.path.join(dirname, filename))\n",
    "\n",
    "# You can write up to 20GB to the current directory (/kaggle/working/) that gets preserved as output when you create a version using \"Save & Run All\" \n",
    "# You can also write temporary files to /kaggle/temp/, but they won't be saved outside of the current session"
   ]
  },
  {
   "cell_type": "code",
   "execution_count": 2,
   "metadata": {
    "_cell_guid": "79c7e3d0-c299-4dcb-8224-4455121ee9b0",
    "_uuid": "d629ff2d2480ee46fbb7e2d37f6b5fab8052498a",
    "execution": {
     "iopub.execute_input": "2021-03-07T19:50:57.684835Z",
     "iopub.status.busy": "2021-03-07T19:50:57.684040Z",
     "iopub.status.idle": "2021-03-07T19:50:57.717980Z",
     "shell.execute_reply": "2021-03-07T19:50:57.718515Z"
    },
    "papermill": {
     "duration": 0.082478,
     "end_time": "2021-03-07T19:50:57.718681",
     "exception": false,
     "start_time": "2021-03-07T19:50:57.636203",
     "status": "completed"
    },
    "tags": []
   },
   "outputs": [],
   "source": [
    "rapid= pd.read_csv(\"/kaggle/input/covid19final-dataset/rapid_balanced.csv\")\n",
    "rapid_unb= pd.read_csv(\"/kaggle/input/covid19final-dataset/rapid_unbalanced.csv\")\n"
   ]
  },
  {
   "cell_type": "markdown",
   "metadata": {
    "papermill": {
     "duration": 0.042456,
     "end_time": "2021-03-07T19:50:57.804115",
     "exception": false,
     "start_time": "2021-03-07T19:50:57.761659",
     "status": "completed"
    },
    "tags": []
   },
   "source": [
    "dictionary:\n",
    "* Class: 0 (positive) and 1(negative)\n",
    "1. sum: sum of total values with (0 and 1)\n",
    "1. pt: percentage of total values\n",
    "1. p_p: percentage of positive test result(pt)\n",
    "1. p_n: percentage of negative test result(pt)"
   ]
  },
  {
   "cell_type": "markdown",
   "metadata": {
    "papermill": {
     "duration": 0.041774,
     "end_time": "2021-03-07T19:50:57.887847",
     "exception": false,
     "start_time": "2021-03-07T19:50:57.846073",
     "status": "completed"
    },
    "tags": []
   },
   "source": [
    "# Setting cross tab with frequency distribution!"
   ]
  },
  {
   "cell_type": "code",
   "execution_count": 3,
   "metadata": {
    "execution": {
     "iopub.execute_input": "2021-03-07T19:50:57.976759Z",
     "iopub.status.busy": "2021-03-07T19:50:57.975766Z",
     "iopub.status.idle": "2021-03-07T19:50:57.996008Z",
     "shell.execute_reply": "2021-03-07T19:50:57.995467Z"
    },
    "papermill": {
     "duration": 0.06628,
     "end_time": "2021-03-07T19:50:57.996129",
     "exception": false,
     "start_time": "2021-03-07T19:50:57.929849",
     "status": "completed"
    },
    "tags": []
   },
   "outputs": [],
   "source": [
    "def set_crosstab(index_value,dt):\n",
    "    data=pd.crosstab(index=dt[index_value],columns=dt[\"Class\"])\n",
    "    data['sum']=None\n",
    "    data['p_t']=None\n",
    "    data['p_p']=None\n",
    "    data['p_n']=None\n",
    "    data.iloc[:1,2:3]=data[0][0]+data[1][0]\n",
    "    data.iloc[1:2,2:3]=data[0][1]+data[1][1]\n",
    "    data.iloc[:1,3:4]=data.iloc[:1,2:3].values[0][0]*100/len(dt)\n",
    "    data.iloc[1:2,3:4]=data.iloc[1:2,2:3].values[0][0]*100/len(dt)\n",
    "    data.iloc[:1,4:5]=data.iloc[:1,:1].values[0][0]*data.iloc[:1,3:4].values[0][0]/data.iloc[:1,2:3].values[0][0]\n",
    "    data.iloc[1:2,4:5]=data.iloc[1:2,:1].values[0][0]*data.iloc[1:2,3:4].values[0][0]/data.iloc[1:2,2:3].values[0][0]\n",
    "    data.iloc[:1,5:6]=data.iloc[:1,1:2].values[0][0]*data.iloc[:1,3:4].values[0][0]/data.iloc[:1,2:3].values[0][0]\n",
    "    data.iloc[1:2,5:6]=data.iloc[1:2,1:2].values[0][0]*data.iloc[1:2,3:4].values[0][0]/data.iloc[1:2,2:3].values[0][0]\n",
    "    return data\n",
    "    "
   ]
  },
  {
   "cell_type": "markdown",
   "metadata": {
    "papermill": {
     "duration": 0.042014,
     "end_time": "2021-03-07T19:50:58.080657",
     "exception": false,
     "start_time": "2021-03-07T19:50:58.038643",
     "status": "completed"
    },
    "tags": []
   },
   "source": [
    "# Chi2 test analyze!"
   ]
  },
  {
   "cell_type": "code",
   "execution_count": 4,
   "metadata": {
    "execution": {
     "iopub.execute_input": "2021-03-07T19:50:58.173048Z",
     "iopub.status.busy": "2021-03-07T19:50:58.172346Z",
     "iopub.status.idle": "2021-03-07T19:50:58.174990Z",
     "shell.execute_reply": "2021-03-07T19:50:58.175536Z"
    },
    "papermill": {
     "duration": 0.052841,
     "end_time": "2021-03-07T19:50:58.175682",
     "exception": false,
     "start_time": "2021-03-07T19:50:58.122841",
     "status": "completed"
    },
    "tags": []
   },
   "outputs": [],
   "source": [
    "def test_statistic_chi2(value,data):\n",
    "    test_result=pd.crosstab(index=data[value],columns=data[\"Class\"])\n",
    "\n",
    "    test_statistic, p_value, dof, expected=stats.chi2_contingency([test_result.iloc[0].values,\n",
    "                                           test_result.iloc[1].values],correction=True)\n",
    "    alpha = 0.01\n",
    "    if p_value <= alpha:\n",
    "        print('Dependent (reject H0)')\n",
    "    else:\n",
    "        print('Independent (fail to reject H0)')\n"
   ]
  },
  {
   "cell_type": "markdown",
   "metadata": {
    "papermill": {
     "duration": 0.043404,
     "end_time": "2021-03-07T19:50:58.261586",
     "exception": false,
     "start_time": "2021-03-07T19:50:58.218182",
     "status": "completed"
    },
    "tags": []
   },
   "source": [
    "# rapid test"
   ]
  },
  {
   "cell_type": "markdown",
   "metadata": {
    "papermill": {
     "duration": 0.041897,
     "end_time": "2021-03-07T19:50:58.350531",
     "exception": false,
     "start_time": "2021-03-07T19:50:58.308634",
     "status": "completed"
    },
    "tags": []
   },
   "source": [
    "# Symptom- Throat Pain"
   ]
  },
  {
   "cell_type": "markdown",
   "metadata": {
    "papermill": {
     "duration": 0.042537,
     "end_time": "2021-03-07T19:50:58.435988",
     "exception": false,
     "start_time": "2021-03-07T19:50:58.393451",
     "status": "completed"
    },
    "tags": []
   },
   "source": [
    "balanced dataset"
   ]
  },
  {
   "cell_type": "code",
   "execution_count": 5,
   "metadata": {
    "execution": {
     "iopub.execute_input": "2021-03-07T19:50:58.525733Z",
     "iopub.status.busy": "2021-03-07T19:50:58.524925Z",
     "iopub.status.idle": "2021-03-07T19:50:58.602071Z",
     "shell.execute_reply": "2021-03-07T19:50:58.602570Z"
    },
    "papermill": {
     "duration": 0.123392,
     "end_time": "2021-03-07T19:50:58.602733",
     "exception": false,
     "start_time": "2021-03-07T19:50:58.479341",
     "status": "completed"
    },
    "tags": []
   },
   "outputs": [
    {
     "data": {
      "text/html": [
       "<div>\n",
       "<style scoped>\n",
       "    .dataframe tbody tr th:only-of-type {\n",
       "        vertical-align: middle;\n",
       "    }\n",
       "\n",
       "    .dataframe tbody tr th {\n",
       "        vertical-align: top;\n",
       "    }\n",
       "\n",
       "    .dataframe thead th {\n",
       "        text-align: right;\n",
       "    }\n",
       "</style>\n",
       "<table border=\"1\" class=\"dataframe\">\n",
       "  <thead>\n",
       "    <tr style=\"text-align: right;\">\n",
       "      <th>Class</th>\n",
       "      <th>0</th>\n",
       "      <th>1</th>\n",
       "      <th>sum</th>\n",
       "      <th>p_t</th>\n",
       "      <th>p_p</th>\n",
       "      <th>p_n</th>\n",
       "    </tr>\n",
       "    <tr>\n",
       "      <th>Symptom- Throat Pain</th>\n",
       "      <th></th>\n",
       "      <th></th>\n",
       "      <th></th>\n",
       "      <th></th>\n",
       "      <th></th>\n",
       "      <th></th>\n",
       "    </tr>\n",
       "  </thead>\n",
       "  <tbody>\n",
       "    <tr>\n",
       "      <th>0</th>\n",
       "      <td>168</td>\n",
       "      <td>182</td>\n",
       "      <td>350</td>\n",
       "      <td>27.0062</td>\n",
       "      <td>12.963</td>\n",
       "      <td>14.0432</td>\n",
       "    </tr>\n",
       "    <tr>\n",
       "      <th>1</th>\n",
       "      <td>480</td>\n",
       "      <td>466</td>\n",
       "      <td>946</td>\n",
       "      <td>72.9938</td>\n",
       "      <td>37.037</td>\n",
       "      <td>35.9568</td>\n",
       "    </tr>\n",
       "  </tbody>\n",
       "</table>\n",
       "</div>"
      ],
      "text/plain": [
       "Class                   0    1  sum      p_t     p_p      p_n\n",
       "Symptom- Throat Pain                                         \n",
       "0                     168  182  350  27.0062  12.963  14.0432\n",
       "1                     480  466  946  72.9938  37.037  35.9568"
      ]
     },
     "execution_count": 5,
     "metadata": {},
     "output_type": "execute_result"
    }
   ],
   "source": [
    "set_crosstab('Symptom- Throat Pain',rapid)\n"
   ]
  },
  {
   "cell_type": "code",
   "execution_count": 6,
   "metadata": {
    "execution": {
     "iopub.execute_input": "2021-03-07T19:50:58.699035Z",
     "iopub.status.busy": "2021-03-07T19:50:58.697791Z",
     "iopub.status.idle": "2021-03-07T19:50:58.717439Z",
     "shell.execute_reply": "2021-03-07T19:50:58.716125Z"
    },
    "papermill": {
     "duration": 0.070849,
     "end_time": "2021-03-07T19:50:58.717685",
     "exception": false,
     "start_time": "2021-03-07T19:50:58.646836",
     "status": "completed"
    },
    "tags": []
   },
   "outputs": [
    {
     "name": "stdout",
     "output_type": "stream",
     "text": [
      "Independent (fail to reject H0)\n"
     ]
    }
   ],
   "source": [
    "test_statistic_chi2('Symptom- Throat Pain',rapid)"
   ]
  },
  {
   "cell_type": "markdown",
   "metadata": {
    "papermill": {
     "duration": 0.043527,
     "end_time": "2021-03-07T19:50:58.805936",
     "exception": false,
     "start_time": "2021-03-07T19:50:58.762409",
     "status": "completed"
    },
    "tags": []
   },
   "source": [
    "unbalanced dataset"
   ]
  },
  {
   "cell_type": "code",
   "execution_count": 7,
   "metadata": {
    "execution": {
     "iopub.execute_input": "2021-03-07T19:50:58.899773Z",
     "iopub.status.busy": "2021-03-07T19:50:58.898128Z",
     "iopub.status.idle": "2021-03-07T19:50:58.934637Z",
     "shell.execute_reply": "2021-03-07T19:50:58.934003Z"
    },
    "papermill": {
     "duration": 0.085397,
     "end_time": "2021-03-07T19:50:58.934767",
     "exception": false,
     "start_time": "2021-03-07T19:50:58.849370",
     "status": "completed"
    },
    "tags": []
   },
   "outputs": [
    {
     "data": {
      "text/html": [
       "<div>\n",
       "<style scoped>\n",
       "    .dataframe tbody tr th:only-of-type {\n",
       "        vertical-align: middle;\n",
       "    }\n",
       "\n",
       "    .dataframe tbody tr th {\n",
       "        vertical-align: top;\n",
       "    }\n",
       "\n",
       "    .dataframe thead th {\n",
       "        text-align: right;\n",
       "    }\n",
       "</style>\n",
       "<table border=\"1\" class=\"dataframe\">\n",
       "  <thead>\n",
       "    <tr style=\"text-align: right;\">\n",
       "      <th>Class</th>\n",
       "      <th>0</th>\n",
       "      <th>1</th>\n",
       "      <th>sum</th>\n",
       "      <th>p_t</th>\n",
       "      <th>p_p</th>\n",
       "      <th>p_n</th>\n",
       "    </tr>\n",
       "    <tr>\n",
       "      <th>Symptom- Throat Pain</th>\n",
       "      <th></th>\n",
       "      <th></th>\n",
       "      <th></th>\n",
       "      <th></th>\n",
       "      <th></th>\n",
       "      <th></th>\n",
       "    </tr>\n",
       "  </thead>\n",
       "  <tbody>\n",
       "    <tr>\n",
       "      <th>0</th>\n",
       "      <td>168</td>\n",
       "      <td>5078</td>\n",
       "      <td>5246</td>\n",
       "      <td>30.4257</td>\n",
       "      <td>0.974365</td>\n",
       "      <td>29.4513</td>\n",
       "    </tr>\n",
       "    <tr>\n",
       "      <th>1</th>\n",
       "      <td>480</td>\n",
       "      <td>11516</td>\n",
       "      <td>11996</td>\n",
       "      <td>69.5743</td>\n",
       "      <td>2.7839</td>\n",
       "      <td>66.7904</td>\n",
       "    </tr>\n",
       "  </tbody>\n",
       "</table>\n",
       "</div>"
      ],
      "text/plain": [
       "Class                   0      1    sum      p_t       p_p      p_n\n",
       "Symptom- Throat Pain                                               \n",
       "0                     168   5078   5246  30.4257  0.974365  29.4513\n",
       "1                     480  11516  11996  69.5743    2.7839  66.7904"
      ]
     },
     "execution_count": 7,
     "metadata": {},
     "output_type": "execute_result"
    }
   ],
   "source": [
    "set_crosstab('Symptom- Throat Pain',rapid_unb)"
   ]
  },
  {
   "cell_type": "code",
   "execution_count": 8,
   "metadata": {
    "execution": {
     "iopub.execute_input": "2021-03-07T19:50:59.034802Z",
     "iopub.status.busy": "2021-03-07T19:50:59.033651Z",
     "iopub.status.idle": "2021-03-07T19:50:59.050442Z",
     "shell.execute_reply": "2021-03-07T19:50:59.050962Z"
    },
    "papermill": {
     "duration": 0.068873,
     "end_time": "2021-03-07T19:50:59.051119",
     "exception": false,
     "start_time": "2021-03-07T19:50:58.982246",
     "status": "completed"
    },
    "tags": []
   },
   "outputs": [
    {
     "name": "stdout",
     "output_type": "stream",
     "text": [
      "Independent (fail to reject H0)\n"
     ]
    }
   ],
   "source": [
    "test_statistic_chi2('Symptom- Throat Pain',rapid_unb)\n"
   ]
  },
  {
   "cell_type": "markdown",
   "metadata": {
    "papermill": {
     "duration": 0.044515,
     "end_time": "2021-03-07T19:50:59.140896",
     "exception": false,
     "start_time": "2021-03-07T19:50:59.096381",
     "status": "completed"
    },
    "tags": []
   },
   "source": [
    "# Symptom- Dyspnea"
   ]
  },
  {
   "cell_type": "markdown",
   "metadata": {
    "papermill": {
     "duration": 0.044161,
     "end_time": "2021-03-07T19:50:59.229700",
     "exception": false,
     "start_time": "2021-03-07T19:50:59.185539",
     "status": "completed"
    },
    "tags": []
   },
   "source": [
    "balanced dataset"
   ]
  },
  {
   "cell_type": "code",
   "execution_count": 9,
   "metadata": {
    "execution": {
     "iopub.execute_input": "2021-03-07T19:50:59.323951Z",
     "iopub.status.busy": "2021-03-07T19:50:59.323311Z",
     "iopub.status.idle": "2021-03-07T19:50:59.357065Z",
     "shell.execute_reply": "2021-03-07T19:50:59.356102Z"
    },
    "papermill": {
     "duration": 0.081247,
     "end_time": "2021-03-07T19:50:59.357220",
     "exception": false,
     "start_time": "2021-03-07T19:50:59.275973",
     "status": "completed"
    },
    "tags": []
   },
   "outputs": [
    {
     "data": {
      "text/html": [
       "<div>\n",
       "<style scoped>\n",
       "    .dataframe tbody tr th:only-of-type {\n",
       "        vertical-align: middle;\n",
       "    }\n",
       "\n",
       "    .dataframe tbody tr th {\n",
       "        vertical-align: top;\n",
       "    }\n",
       "\n",
       "    .dataframe thead th {\n",
       "        text-align: right;\n",
       "    }\n",
       "</style>\n",
       "<table border=\"1\" class=\"dataframe\">\n",
       "  <thead>\n",
       "    <tr style=\"text-align: right;\">\n",
       "      <th>Class</th>\n",
       "      <th>0</th>\n",
       "      <th>1</th>\n",
       "      <th>sum</th>\n",
       "      <th>p_t</th>\n",
       "      <th>p_p</th>\n",
       "      <th>p_n</th>\n",
       "    </tr>\n",
       "    <tr>\n",
       "      <th>Symptom- Dyspnea</th>\n",
       "      <th></th>\n",
       "      <th></th>\n",
       "      <th></th>\n",
       "      <th></th>\n",
       "      <th></th>\n",
       "      <th></th>\n",
       "    </tr>\n",
       "  </thead>\n",
       "  <tbody>\n",
       "    <tr>\n",
       "      <th>0</th>\n",
       "      <td>406</td>\n",
       "      <td>124</td>\n",
       "      <td>530</td>\n",
       "      <td>40.8951</td>\n",
       "      <td>31.3272</td>\n",
       "      <td>9.5679</td>\n",
       "    </tr>\n",
       "    <tr>\n",
       "      <th>1</th>\n",
       "      <td>242</td>\n",
       "      <td>524</td>\n",
       "      <td>766</td>\n",
       "      <td>59.1049</td>\n",
       "      <td>18.6728</td>\n",
       "      <td>40.4321</td>\n",
       "    </tr>\n",
       "  </tbody>\n",
       "</table>\n",
       "</div>"
      ],
      "text/plain": [
       "Class               0    1  sum      p_t      p_p      p_n\n",
       "Symptom- Dyspnea                                          \n",
       "0                 406  124  530  40.8951  31.3272   9.5679\n",
       "1                 242  524  766  59.1049  18.6728  40.4321"
      ]
     },
     "execution_count": 9,
     "metadata": {},
     "output_type": "execute_result"
    }
   ],
   "source": [
    "set_crosstab('Symptom- Dyspnea',rapid)"
   ]
  },
  {
   "cell_type": "code",
   "execution_count": 10,
   "metadata": {
    "execution": {
     "iopub.execute_input": "2021-03-07T19:50:59.451529Z",
     "iopub.status.busy": "2021-03-07T19:50:59.450844Z",
     "iopub.status.idle": "2021-03-07T19:50:59.470151Z",
     "shell.execute_reply": "2021-03-07T19:50:59.470712Z"
    },
    "papermill": {
     "duration": 0.068193,
     "end_time": "2021-03-07T19:50:59.470855",
     "exception": false,
     "start_time": "2021-03-07T19:50:59.402662",
     "status": "completed"
    },
    "tags": []
   },
   "outputs": [
    {
     "name": "stdout",
     "output_type": "stream",
     "text": [
      "Dependent (reject H0)\n"
     ]
    }
   ],
   "source": [
    "test_statistic_chi2('Symptom- Dyspnea',rapid)"
   ]
  },
  {
   "cell_type": "markdown",
   "metadata": {
    "papermill": {
     "duration": 0.045704,
     "end_time": "2021-03-07T19:50:59.563429",
     "exception": false,
     "start_time": "2021-03-07T19:50:59.517725",
     "status": "completed"
    },
    "tags": []
   },
   "source": [
    "unbalanced dataset"
   ]
  },
  {
   "cell_type": "code",
   "execution_count": 11,
   "metadata": {
    "execution": {
     "iopub.execute_input": "2021-03-07T19:50:59.662814Z",
     "iopub.status.busy": "2021-03-07T19:50:59.661760Z",
     "iopub.status.idle": "2021-03-07T19:50:59.695586Z",
     "shell.execute_reply": "2021-03-07T19:50:59.694999Z"
    },
    "papermill": {
     "duration": 0.086658,
     "end_time": "2021-03-07T19:50:59.695697",
     "exception": false,
     "start_time": "2021-03-07T19:50:59.609039",
     "status": "completed"
    },
    "tags": []
   },
   "outputs": [
    {
     "data": {
      "text/html": [
       "<div>\n",
       "<style scoped>\n",
       "    .dataframe tbody tr th:only-of-type {\n",
       "        vertical-align: middle;\n",
       "    }\n",
       "\n",
       "    .dataframe tbody tr th {\n",
       "        vertical-align: top;\n",
       "    }\n",
       "\n",
       "    .dataframe thead th {\n",
       "        text-align: right;\n",
       "    }\n",
       "</style>\n",
       "<table border=\"1\" class=\"dataframe\">\n",
       "  <thead>\n",
       "    <tr style=\"text-align: right;\">\n",
       "      <th>Class</th>\n",
       "      <th>0</th>\n",
       "      <th>1</th>\n",
       "      <th>sum</th>\n",
       "      <th>p_t</th>\n",
       "      <th>p_p</th>\n",
       "      <th>p_n</th>\n",
       "    </tr>\n",
       "    <tr>\n",
       "      <th>Symptom- Dyspnea</th>\n",
       "      <th></th>\n",
       "      <th></th>\n",
       "      <th></th>\n",
       "      <th></th>\n",
       "      <th></th>\n",
       "      <th></th>\n",
       "    </tr>\n",
       "  </thead>\n",
       "  <tbody>\n",
       "    <tr>\n",
       "      <th>0</th>\n",
       "      <td>406</td>\n",
       "      <td>2479</td>\n",
       "      <td>2885</td>\n",
       "      <td>16.7324</td>\n",
       "      <td>2.35472</td>\n",
       "      <td>14.3777</td>\n",
       "    </tr>\n",
       "    <tr>\n",
       "      <th>1</th>\n",
       "      <td>242</td>\n",
       "      <td>14115</td>\n",
       "      <td>14357</td>\n",
       "      <td>83.2676</td>\n",
       "      <td>1.40355</td>\n",
       "      <td>81.8641</td>\n",
       "    </tr>\n",
       "  </tbody>\n",
       "</table>\n",
       "</div>"
      ],
      "text/plain": [
       "Class               0      1    sum      p_t      p_p      p_n\n",
       "Symptom- Dyspnea                                              \n",
       "0                 406   2479   2885  16.7324  2.35472  14.3777\n",
       "1                 242  14115  14357  83.2676  1.40355  81.8641"
      ]
     },
     "execution_count": 11,
     "metadata": {},
     "output_type": "execute_result"
    }
   ],
   "source": [
    "set_crosstab('Symptom- Dyspnea',rapid_unb)"
   ]
  },
  {
   "cell_type": "code",
   "execution_count": 12,
   "metadata": {
    "execution": {
     "iopub.execute_input": "2021-03-07T19:50:59.797622Z",
     "iopub.status.busy": "2021-03-07T19:50:59.796843Z",
     "iopub.status.idle": "2021-03-07T19:50:59.815464Z",
     "shell.execute_reply": "2021-03-07T19:50:59.814884Z"
    },
    "papermill": {
     "duration": 0.073156,
     "end_time": "2021-03-07T19:50:59.815589",
     "exception": false,
     "start_time": "2021-03-07T19:50:59.742433",
     "status": "completed"
    },
    "tags": []
   },
   "outputs": [
    {
     "name": "stdout",
     "output_type": "stream",
     "text": [
      "Dependent (reject H0)\n"
     ]
    }
   ],
   "source": [
    "test_statistic_chi2('Symptom- Dyspnea',rapid_unb)"
   ]
  },
  {
   "cell_type": "markdown",
   "metadata": {
    "papermill": {
     "duration": 0.046715,
     "end_time": "2021-03-07T19:50:59.909480",
     "exception": false,
     "start_time": "2021-03-07T19:50:59.862765",
     "status": "completed"
    },
    "tags": []
   },
   "source": [
    "# Symptom- Fever"
   ]
  },
  {
   "cell_type": "markdown",
   "metadata": {
    "papermill": {
     "duration": 0.047724,
     "end_time": "2021-03-07T19:51:00.004265",
     "exception": false,
     "start_time": "2021-03-07T19:50:59.956541",
     "status": "completed"
    },
    "tags": []
   },
   "source": [
    "balanced dataset"
   ]
  },
  {
   "cell_type": "code",
   "execution_count": 13,
   "metadata": {
    "execution": {
     "iopub.execute_input": "2021-03-07T19:51:00.107377Z",
     "iopub.status.busy": "2021-03-07T19:51:00.106619Z",
     "iopub.status.idle": "2021-03-07T19:51:00.136053Z",
     "shell.execute_reply": "2021-03-07T19:51:00.135453Z"
    },
    "papermill": {
     "duration": 0.083645,
     "end_time": "2021-03-07T19:51:00.136164",
     "exception": false,
     "start_time": "2021-03-07T19:51:00.052519",
     "status": "completed"
    },
    "tags": []
   },
   "outputs": [
    {
     "data": {
      "text/html": [
       "<div>\n",
       "<style scoped>\n",
       "    .dataframe tbody tr th:only-of-type {\n",
       "        vertical-align: middle;\n",
       "    }\n",
       "\n",
       "    .dataframe tbody tr th {\n",
       "        vertical-align: top;\n",
       "    }\n",
       "\n",
       "    .dataframe thead th {\n",
       "        text-align: right;\n",
       "    }\n",
       "</style>\n",
       "<table border=\"1\" class=\"dataframe\">\n",
       "  <thead>\n",
       "    <tr style=\"text-align: right;\">\n",
       "      <th>Class</th>\n",
       "      <th>0</th>\n",
       "      <th>1</th>\n",
       "      <th>sum</th>\n",
       "      <th>p_t</th>\n",
       "      <th>p_p</th>\n",
       "      <th>p_n</th>\n",
       "    </tr>\n",
       "    <tr>\n",
       "      <th>Symptom- Fever</th>\n",
       "      <th></th>\n",
       "      <th></th>\n",
       "      <th></th>\n",
       "      <th></th>\n",
       "      <th></th>\n",
       "      <th></th>\n",
       "    </tr>\n",
       "  </thead>\n",
       "  <tbody>\n",
       "    <tr>\n",
       "      <th>0</th>\n",
       "      <td>506</td>\n",
       "      <td>266</td>\n",
       "      <td>772</td>\n",
       "      <td>59.5679</td>\n",
       "      <td>39.0432</td>\n",
       "      <td>20.5247</td>\n",
       "    </tr>\n",
       "    <tr>\n",
       "      <th>1</th>\n",
       "      <td>142</td>\n",
       "      <td>382</td>\n",
       "      <td>524</td>\n",
       "      <td>40.4321</td>\n",
       "      <td>10.9568</td>\n",
       "      <td>29.4753</td>\n",
       "    </tr>\n",
       "  </tbody>\n",
       "</table>\n",
       "</div>"
      ],
      "text/plain": [
       "Class             0    1  sum      p_t      p_p      p_n\n",
       "Symptom- Fever                                          \n",
       "0               506  266  772  59.5679  39.0432  20.5247\n",
       "1               142  382  524  40.4321  10.9568  29.4753"
      ]
     },
     "execution_count": 13,
     "metadata": {},
     "output_type": "execute_result"
    }
   ],
   "source": [
    "set_crosstab('Symptom- Fever',rapid)"
   ]
  },
  {
   "cell_type": "code",
   "execution_count": 14,
   "metadata": {
    "execution": {
     "iopub.execute_input": "2021-03-07T19:51:00.249330Z",
     "iopub.status.busy": "2021-03-07T19:51:00.246542Z",
     "iopub.status.idle": "2021-03-07T19:51:00.270980Z",
     "shell.execute_reply": "2021-03-07T19:51:00.271870Z"
    },
    "papermill": {
     "duration": 0.088455,
     "end_time": "2021-03-07T19:51:00.272059",
     "exception": false,
     "start_time": "2021-03-07T19:51:00.183604",
     "status": "completed"
    },
    "tags": []
   },
   "outputs": [
    {
     "name": "stdout",
     "output_type": "stream",
     "text": [
      "Dependent (reject H0)\n"
     ]
    }
   ],
   "source": [
    "test_statistic_chi2('Symptom- Fever',rapid)"
   ]
  },
  {
   "cell_type": "markdown",
   "metadata": {
    "papermill": {
     "duration": 0.069936,
     "end_time": "2021-03-07T19:51:00.412765",
     "exception": false,
     "start_time": "2021-03-07T19:51:00.342829",
     "status": "completed"
    },
    "tags": []
   },
   "source": [
    "unbalanced dataset"
   ]
  },
  {
   "cell_type": "code",
   "execution_count": 15,
   "metadata": {
    "execution": {
     "iopub.execute_input": "2021-03-07T19:51:00.548042Z",
     "iopub.status.busy": "2021-03-07T19:51:00.547349Z",
     "iopub.status.idle": "2021-03-07T19:51:00.583029Z",
     "shell.execute_reply": "2021-03-07T19:51:00.583887Z"
    },
    "papermill": {
     "duration": 0.095,
     "end_time": "2021-03-07T19:51:00.584115",
     "exception": false,
     "start_time": "2021-03-07T19:51:00.489115",
     "status": "completed"
    },
    "tags": []
   },
   "outputs": [
    {
     "data": {
      "text/html": [
       "<div>\n",
       "<style scoped>\n",
       "    .dataframe tbody tr th:only-of-type {\n",
       "        vertical-align: middle;\n",
       "    }\n",
       "\n",
       "    .dataframe tbody tr th {\n",
       "        vertical-align: top;\n",
       "    }\n",
       "\n",
       "    .dataframe thead th {\n",
       "        text-align: right;\n",
       "    }\n",
       "</style>\n",
       "<table border=\"1\" class=\"dataframe\">\n",
       "  <thead>\n",
       "    <tr style=\"text-align: right;\">\n",
       "      <th>Class</th>\n",
       "      <th>0</th>\n",
       "      <th>1</th>\n",
       "      <th>sum</th>\n",
       "      <th>p_t</th>\n",
       "      <th>p_p</th>\n",
       "      <th>p_n</th>\n",
       "    </tr>\n",
       "    <tr>\n",
       "      <th>Symptom- Fever</th>\n",
       "      <th></th>\n",
       "      <th></th>\n",
       "      <th></th>\n",
       "      <th></th>\n",
       "      <th></th>\n",
       "      <th></th>\n",
       "    </tr>\n",
       "  </thead>\n",
       "  <tbody>\n",
       "    <tr>\n",
       "      <th>0</th>\n",
       "      <td>506</td>\n",
       "      <td>7254</td>\n",
       "      <td>7760</td>\n",
       "      <td>45.0064</td>\n",
       "      <td>2.93469</td>\n",
       "      <td>42.0717</td>\n",
       "    </tr>\n",
       "    <tr>\n",
       "      <th>1</th>\n",
       "      <td>142</td>\n",
       "      <td>9340</td>\n",
       "      <td>9482</td>\n",
       "      <td>54.9936</td>\n",
       "      <td>0.82357</td>\n",
       "      <td>54.17</td>\n",
       "    </tr>\n",
       "  </tbody>\n",
       "</table>\n",
       "</div>"
      ],
      "text/plain": [
       "Class             0     1   sum      p_t      p_p      p_n\n",
       "Symptom- Fever                                            \n",
       "0               506  7254  7760  45.0064  2.93469  42.0717\n",
       "1               142  9340  9482  54.9936  0.82357    54.17"
      ]
     },
     "execution_count": 15,
     "metadata": {},
     "output_type": "execute_result"
    }
   ],
   "source": [
    "set_crosstab('Symptom- Fever',rapid_unb)"
   ]
  },
  {
   "cell_type": "code",
   "execution_count": 16,
   "metadata": {
    "execution": {
     "iopub.execute_input": "2021-03-07T19:51:00.704481Z",
     "iopub.status.busy": "2021-03-07T19:51:00.703332Z",
     "iopub.status.idle": "2021-03-07T19:51:00.722113Z",
     "shell.execute_reply": "2021-03-07T19:51:00.721205Z"
    },
    "papermill": {
     "duration": 0.080657,
     "end_time": "2021-03-07T19:51:00.722301",
     "exception": false,
     "start_time": "2021-03-07T19:51:00.641644",
     "status": "completed"
    },
    "tags": []
   },
   "outputs": [
    {
     "name": "stdout",
     "output_type": "stream",
     "text": [
      "Dependent (reject H0)\n"
     ]
    }
   ],
   "source": [
    "test_statistic_chi2('Symptom- Fever',rapid_unb)"
   ]
  },
  {
   "cell_type": "markdown",
   "metadata": {
    "papermill": {
     "duration": 0.04846,
     "end_time": "2021-03-07T19:51:00.823447",
     "exception": false,
     "start_time": "2021-03-07T19:51:00.774987",
     "status": "completed"
    },
    "tags": []
   },
   "source": [
    "# Symptom- Cough"
   ]
  },
  {
   "cell_type": "markdown",
   "metadata": {
    "papermill": {
     "duration": 0.048968,
     "end_time": "2021-03-07T19:51:00.920996",
     "exception": false,
     "start_time": "2021-03-07T19:51:00.872028",
     "status": "completed"
    },
    "tags": []
   },
   "source": [
    "balanced dataset"
   ]
  },
  {
   "cell_type": "code",
   "execution_count": 17,
   "metadata": {
    "execution": {
     "iopub.execute_input": "2021-03-07T19:51:01.022563Z",
     "iopub.status.busy": "2021-03-07T19:51:01.021571Z",
     "iopub.status.idle": "2021-03-07T19:51:01.058616Z",
     "shell.execute_reply": "2021-03-07T19:51:01.059219Z"
    },
    "papermill": {
     "duration": 0.089645,
     "end_time": "2021-03-07T19:51:01.059396",
     "exception": false,
     "start_time": "2021-03-07T19:51:00.969751",
     "status": "completed"
    },
    "tags": []
   },
   "outputs": [
    {
     "data": {
      "text/html": [
       "<div>\n",
       "<style scoped>\n",
       "    .dataframe tbody tr th:only-of-type {\n",
       "        vertical-align: middle;\n",
       "    }\n",
       "\n",
       "    .dataframe tbody tr th {\n",
       "        vertical-align: top;\n",
       "    }\n",
       "\n",
       "    .dataframe thead th {\n",
       "        text-align: right;\n",
       "    }\n",
       "</style>\n",
       "<table border=\"1\" class=\"dataframe\">\n",
       "  <thead>\n",
       "    <tr style=\"text-align: right;\">\n",
       "      <th>Class</th>\n",
       "      <th>0</th>\n",
       "      <th>1</th>\n",
       "      <th>sum</th>\n",
       "      <th>p_t</th>\n",
       "      <th>p_p</th>\n",
       "      <th>p_n</th>\n",
       "    </tr>\n",
       "    <tr>\n",
       "      <th>Symptom- Cough</th>\n",
       "      <th></th>\n",
       "      <th></th>\n",
       "      <th></th>\n",
       "      <th></th>\n",
       "      <th></th>\n",
       "      <th></th>\n",
       "    </tr>\n",
       "  </thead>\n",
       "  <tbody>\n",
       "    <tr>\n",
       "      <th>0</th>\n",
       "      <td>500</td>\n",
       "      <td>359</td>\n",
       "      <td>859</td>\n",
       "      <td>66.2809</td>\n",
       "      <td>38.5802</td>\n",
       "      <td>27.7006</td>\n",
       "    </tr>\n",
       "    <tr>\n",
       "      <th>1</th>\n",
       "      <td>148</td>\n",
       "      <td>289</td>\n",
       "      <td>437</td>\n",
       "      <td>33.7191</td>\n",
       "      <td>11.4198</td>\n",
       "      <td>22.2994</td>\n",
       "    </tr>\n",
       "  </tbody>\n",
       "</table>\n",
       "</div>"
      ],
      "text/plain": [
       "Class             0    1  sum      p_t      p_p      p_n\n",
       "Symptom- Cough                                          \n",
       "0               500  359  859  66.2809  38.5802  27.7006\n",
       "1               148  289  437  33.7191  11.4198  22.2994"
      ]
     },
     "execution_count": 17,
     "metadata": {},
     "output_type": "execute_result"
    }
   ],
   "source": [
    "set_crosstab('Symptom- Cough',rapid)"
   ]
  },
  {
   "cell_type": "code",
   "execution_count": 18,
   "metadata": {
    "execution": {
     "iopub.execute_input": "2021-03-07T19:51:01.167580Z",
     "iopub.status.busy": "2021-03-07T19:51:01.166567Z",
     "iopub.status.idle": "2021-03-07T19:51:01.184647Z",
     "shell.execute_reply": "2021-03-07T19:51:01.185175Z"
    },
    "papermill": {
     "duration": 0.07096,
     "end_time": "2021-03-07T19:51:01.185334",
     "exception": false,
     "start_time": "2021-03-07T19:51:01.114374",
     "status": "completed"
    },
    "tags": []
   },
   "outputs": [
    {
     "name": "stdout",
     "output_type": "stream",
     "text": [
      "Dependent (reject H0)\n"
     ]
    }
   ],
   "source": [
    "test_statistic_chi2('Symptom- Cough',rapid)"
   ]
  },
  {
   "cell_type": "markdown",
   "metadata": {
    "papermill": {
     "duration": 0.05061,
     "end_time": "2021-03-07T19:51:01.286082",
     "exception": false,
     "start_time": "2021-03-07T19:51:01.235472",
     "status": "completed"
    },
    "tags": []
   },
   "source": [
    "unbalanced dataset"
   ]
  },
  {
   "cell_type": "code",
   "execution_count": 19,
   "metadata": {
    "execution": {
     "iopub.execute_input": "2021-03-07T19:51:01.390948Z",
     "iopub.status.busy": "2021-03-07T19:51:01.389979Z",
     "iopub.status.idle": "2021-03-07T19:51:01.424384Z",
     "shell.execute_reply": "2021-03-07T19:51:01.423724Z"
    },
    "papermill": {
     "duration": 0.087984,
     "end_time": "2021-03-07T19:51:01.424501",
     "exception": false,
     "start_time": "2021-03-07T19:51:01.336517",
     "status": "completed"
    },
    "tags": []
   },
   "outputs": [
    {
     "data": {
      "text/html": [
       "<div>\n",
       "<style scoped>\n",
       "    .dataframe tbody tr th:only-of-type {\n",
       "        vertical-align: middle;\n",
       "    }\n",
       "\n",
       "    .dataframe tbody tr th {\n",
       "        vertical-align: top;\n",
       "    }\n",
       "\n",
       "    .dataframe thead th {\n",
       "        text-align: right;\n",
       "    }\n",
       "</style>\n",
       "<table border=\"1\" class=\"dataframe\">\n",
       "  <thead>\n",
       "    <tr style=\"text-align: right;\">\n",
       "      <th>Class</th>\n",
       "      <th>0</th>\n",
       "      <th>1</th>\n",
       "      <th>sum</th>\n",
       "      <th>p_t</th>\n",
       "      <th>p_p</th>\n",
       "      <th>p_n</th>\n",
       "    </tr>\n",
       "    <tr>\n",
       "      <th>Symptom- Cough</th>\n",
       "      <th></th>\n",
       "      <th></th>\n",
       "      <th></th>\n",
       "      <th></th>\n",
       "      <th></th>\n",
       "      <th></th>\n",
       "    </tr>\n",
       "  </thead>\n",
       "  <tbody>\n",
       "    <tr>\n",
       "      <th>0</th>\n",
       "      <td>500</td>\n",
       "      <td>9458</td>\n",
       "      <td>9958</td>\n",
       "      <td>57.7543</td>\n",
       "      <td>2.8999</td>\n",
       "      <td>54.8544</td>\n",
       "    </tr>\n",
       "    <tr>\n",
       "      <th>1</th>\n",
       "      <td>148</td>\n",
       "      <td>7136</td>\n",
       "      <td>7284</td>\n",
       "      <td>42.2457</td>\n",
       "      <td>0.858369</td>\n",
       "      <td>41.3873</td>\n",
       "    </tr>\n",
       "  </tbody>\n",
       "</table>\n",
       "</div>"
      ],
      "text/plain": [
       "Class             0     1   sum      p_t       p_p      p_n\n",
       "Symptom- Cough                                             \n",
       "0               500  9458  9958  57.7543    2.8999  54.8544\n",
       "1               148  7136  7284  42.2457  0.858369  41.3873"
      ]
     },
     "execution_count": 19,
     "metadata": {},
     "output_type": "execute_result"
    }
   ],
   "source": [
    "set_crosstab('Symptom- Cough',rapid_unb)"
   ]
  },
  {
   "cell_type": "code",
   "execution_count": 20,
   "metadata": {
    "execution": {
     "iopub.execute_input": "2021-03-07T19:51:01.581233Z",
     "iopub.status.busy": "2021-03-07T19:51:01.580540Z",
     "iopub.status.idle": "2021-03-07T19:51:01.597908Z",
     "shell.execute_reply": "2021-03-07T19:51:01.598873Z"
    },
    "papermill": {
     "duration": 0.123445,
     "end_time": "2021-03-07T19:51:01.599164",
     "exception": false,
     "start_time": "2021-03-07T19:51:01.475719",
     "status": "completed"
    },
    "tags": []
   },
   "outputs": [
    {
     "name": "stdout",
     "output_type": "stream",
     "text": [
      "Dependent (reject H0)\n"
     ]
    }
   ],
   "source": [
    "test_statistic_chi2('Symptom- Cough',rapid_unb)"
   ]
  },
  {
   "cell_type": "markdown",
   "metadata": {
    "papermill": {
     "duration": 0.051146,
     "end_time": "2021-03-07T19:51:01.703755",
     "exception": false,
     "start_time": "2021-03-07T19:51:01.652609",
     "status": "completed"
    },
    "tags": []
   },
   "source": [
    "# Symptom- Headache"
   ]
  },
  {
   "cell_type": "markdown",
   "metadata": {
    "papermill": {
     "duration": 0.053066,
     "end_time": "2021-03-07T19:51:01.807890",
     "exception": false,
     "start_time": "2021-03-07T19:51:01.754824",
     "status": "completed"
    },
    "tags": []
   },
   "source": [
    "balanced dataset"
   ]
  },
  {
   "cell_type": "code",
   "execution_count": 21,
   "metadata": {
    "execution": {
     "iopub.execute_input": "2021-03-07T19:51:01.914750Z",
     "iopub.status.busy": "2021-03-07T19:51:01.914032Z",
     "iopub.status.idle": "2021-03-07T19:51:01.947439Z",
     "shell.execute_reply": "2021-03-07T19:51:01.946892Z"
    },
    "papermill": {
     "duration": 0.088142,
     "end_time": "2021-03-07T19:51:01.947555",
     "exception": false,
     "start_time": "2021-03-07T19:51:01.859413",
     "status": "completed"
    },
    "tags": []
   },
   "outputs": [
    {
     "data": {
      "text/html": [
       "<div>\n",
       "<style scoped>\n",
       "    .dataframe tbody tr th:only-of-type {\n",
       "        vertical-align: middle;\n",
       "    }\n",
       "\n",
       "    .dataframe tbody tr th {\n",
       "        vertical-align: top;\n",
       "    }\n",
       "\n",
       "    .dataframe thead th {\n",
       "        text-align: right;\n",
       "    }\n",
       "</style>\n",
       "<table border=\"1\" class=\"dataframe\">\n",
       "  <thead>\n",
       "    <tr style=\"text-align: right;\">\n",
       "      <th>Class</th>\n",
       "      <th>0</th>\n",
       "      <th>1</th>\n",
       "      <th>sum</th>\n",
       "      <th>p_t</th>\n",
       "      <th>p_p</th>\n",
       "      <th>p_n</th>\n",
       "    </tr>\n",
       "    <tr>\n",
       "      <th>Symptom- Headache</th>\n",
       "      <th></th>\n",
       "      <th></th>\n",
       "      <th></th>\n",
       "      <th></th>\n",
       "      <th></th>\n",
       "      <th></th>\n",
       "    </tr>\n",
       "  </thead>\n",
       "  <tbody>\n",
       "    <tr>\n",
       "      <th>0</th>\n",
       "      <td>234</td>\n",
       "      <td>171</td>\n",
       "      <td>405</td>\n",
       "      <td>31.25</td>\n",
       "      <td>18.0556</td>\n",
       "      <td>13.1944</td>\n",
       "    </tr>\n",
       "    <tr>\n",
       "      <th>1</th>\n",
       "      <td>414</td>\n",
       "      <td>477</td>\n",
       "      <td>891</td>\n",
       "      <td>68.75</td>\n",
       "      <td>31.9444</td>\n",
       "      <td>36.8056</td>\n",
       "    </tr>\n",
       "  </tbody>\n",
       "</table>\n",
       "</div>"
      ],
      "text/plain": [
       "Class                0    1  sum    p_t      p_p      p_n\n",
       "Symptom- Headache                                        \n",
       "0                  234  171  405  31.25  18.0556  13.1944\n",
       "1                  414  477  891  68.75  31.9444  36.8056"
      ]
     },
     "execution_count": 21,
     "metadata": {},
     "output_type": "execute_result"
    }
   ],
   "source": [
    "set_crosstab('Symptom- Headache',rapid)"
   ]
  },
  {
   "cell_type": "code",
   "execution_count": 22,
   "metadata": {
    "execution": {
     "iopub.execute_input": "2021-03-07T19:51:02.062852Z",
     "iopub.status.busy": "2021-03-07T19:51:02.062165Z",
     "iopub.status.idle": "2021-03-07T19:51:02.076355Z",
     "shell.execute_reply": "2021-03-07T19:51:02.075637Z"
    },
    "papermill": {
     "duration": 0.075884,
     "end_time": "2021-03-07T19:51:02.076476",
     "exception": false,
     "start_time": "2021-03-07T19:51:02.000592",
     "status": "completed"
    },
    "tags": []
   },
   "outputs": [
    {
     "name": "stdout",
     "output_type": "stream",
     "text": [
      "Dependent (reject H0)\n"
     ]
    }
   ],
   "source": [
    "test_statistic_chi2('Symptom- Headache',rapid)"
   ]
  },
  {
   "cell_type": "markdown",
   "metadata": {
    "papermill": {
     "duration": 0.0525,
     "end_time": "2021-03-07T19:51:02.181857",
     "exception": false,
     "start_time": "2021-03-07T19:51:02.129357",
     "status": "completed"
    },
    "tags": []
   },
   "source": [
    "unbalanced dataset"
   ]
  },
  {
   "cell_type": "code",
   "execution_count": 23,
   "metadata": {
    "execution": {
     "iopub.execute_input": "2021-03-07T19:51:02.293107Z",
     "iopub.status.busy": "2021-03-07T19:51:02.292367Z",
     "iopub.status.idle": "2021-03-07T19:51:02.325618Z",
     "shell.execute_reply": "2021-03-07T19:51:02.325036Z"
    },
    "papermill": {
     "duration": 0.091172,
     "end_time": "2021-03-07T19:51:02.325739",
     "exception": false,
     "start_time": "2021-03-07T19:51:02.234567",
     "status": "completed"
    },
    "tags": []
   },
   "outputs": [
    {
     "data": {
      "text/html": [
       "<div>\n",
       "<style scoped>\n",
       "    .dataframe tbody tr th:only-of-type {\n",
       "        vertical-align: middle;\n",
       "    }\n",
       "\n",
       "    .dataframe tbody tr th {\n",
       "        vertical-align: top;\n",
       "    }\n",
       "\n",
       "    .dataframe thead th {\n",
       "        text-align: right;\n",
       "    }\n",
       "</style>\n",
       "<table border=\"1\" class=\"dataframe\">\n",
       "  <thead>\n",
       "    <tr style=\"text-align: right;\">\n",
       "      <th>Class</th>\n",
       "      <th>0</th>\n",
       "      <th>1</th>\n",
       "      <th>sum</th>\n",
       "      <th>p_t</th>\n",
       "      <th>p_p</th>\n",
       "      <th>p_n</th>\n",
       "    </tr>\n",
       "    <tr>\n",
       "      <th>Symptom- Headache</th>\n",
       "      <th></th>\n",
       "      <th></th>\n",
       "      <th></th>\n",
       "      <th></th>\n",
       "      <th></th>\n",
       "      <th></th>\n",
       "    </tr>\n",
       "  </thead>\n",
       "  <tbody>\n",
       "    <tr>\n",
       "      <th>0</th>\n",
       "      <td>234</td>\n",
       "      <td>3531</td>\n",
       "      <td>3765</td>\n",
       "      <td>21.8362</td>\n",
       "      <td>1.35715</td>\n",
       "      <td>20.4791</td>\n",
       "    </tr>\n",
       "    <tr>\n",
       "      <th>1</th>\n",
       "      <td>414</td>\n",
       "      <td>13063</td>\n",
       "      <td>13477</td>\n",
       "      <td>78.1638</td>\n",
       "      <td>2.40111</td>\n",
       "      <td>75.7627</td>\n",
       "    </tr>\n",
       "  </tbody>\n",
       "</table>\n",
       "</div>"
      ],
      "text/plain": [
       "Class                0      1    sum      p_t      p_p      p_n\n",
       "Symptom- Headache                                              \n",
       "0                  234   3531   3765  21.8362  1.35715  20.4791\n",
       "1                  414  13063  13477  78.1638  2.40111  75.7627"
      ]
     },
     "execution_count": 23,
     "metadata": {},
     "output_type": "execute_result"
    }
   ],
   "source": [
    "set_crosstab('Symptom- Headache',rapid_unb)"
   ]
  },
  {
   "cell_type": "code",
   "execution_count": 24,
   "metadata": {
    "execution": {
     "iopub.execute_input": "2021-03-07T19:51:02.439551Z",
     "iopub.status.busy": "2021-03-07T19:51:02.438855Z",
     "iopub.status.idle": "2021-03-07T19:51:02.454783Z",
     "shell.execute_reply": "2021-03-07T19:51:02.455470Z"
    },
    "papermill": {
     "duration": 0.076625,
     "end_time": "2021-03-07T19:51:02.455624",
     "exception": false,
     "start_time": "2021-03-07T19:51:02.378999",
     "status": "completed"
    },
    "tags": []
   },
   "outputs": [
    {
     "name": "stdout",
     "output_type": "stream",
     "text": [
      "Dependent (reject H0)\n"
     ]
    }
   ],
   "source": [
    "test_statistic_chi2('Symptom- Headache',rapid_unb)"
   ]
  },
  {
   "cell_type": "markdown",
   "metadata": {
    "papermill": {
     "duration": 0.053552,
     "end_time": "2021-03-07T19:51:02.562949",
     "exception": false,
     "start_time": "2021-03-07T19:51:02.509397",
     "status": "completed"
    },
    "tags": []
   },
   "source": [
    "# Symptom- Taste Disorders"
   ]
  },
  {
   "cell_type": "markdown",
   "metadata": {
    "papermill": {
     "duration": 0.054499,
     "end_time": "2021-03-07T19:51:02.670608",
     "exception": false,
     "start_time": "2021-03-07T19:51:02.616109",
     "status": "completed"
    },
    "tags": []
   },
   "source": [
    "balanced dataset"
   ]
  },
  {
   "cell_type": "code",
   "execution_count": 25,
   "metadata": {
    "execution": {
     "iopub.execute_input": "2021-03-07T19:51:02.792375Z",
     "iopub.status.busy": "2021-03-07T19:51:02.786355Z",
     "iopub.status.idle": "2021-03-07T19:51:02.820528Z",
     "shell.execute_reply": "2021-03-07T19:51:02.819831Z"
    },
    "papermill": {
     "duration": 0.095181,
     "end_time": "2021-03-07T19:51:02.820659",
     "exception": false,
     "start_time": "2021-03-07T19:51:02.725478",
     "status": "completed"
    },
    "tags": []
   },
   "outputs": [
    {
     "data": {
      "text/html": [
       "<div>\n",
       "<style scoped>\n",
       "    .dataframe tbody tr th:only-of-type {\n",
       "        vertical-align: middle;\n",
       "    }\n",
       "\n",
       "    .dataframe tbody tr th {\n",
       "        vertical-align: top;\n",
       "    }\n",
       "\n",
       "    .dataframe thead th {\n",
       "        text-align: right;\n",
       "    }\n",
       "</style>\n",
       "<table border=\"1\" class=\"dataframe\">\n",
       "  <thead>\n",
       "    <tr style=\"text-align: right;\">\n",
       "      <th>Class</th>\n",
       "      <th>0</th>\n",
       "      <th>1</th>\n",
       "      <th>sum</th>\n",
       "      <th>p_t</th>\n",
       "      <th>p_p</th>\n",
       "      <th>p_n</th>\n",
       "    </tr>\n",
       "    <tr>\n",
       "      <th>Symptom- Taste Disorders</th>\n",
       "      <th></th>\n",
       "      <th></th>\n",
       "      <th></th>\n",
       "      <th></th>\n",
       "      <th></th>\n",
       "      <th></th>\n",
       "    </tr>\n",
       "  </thead>\n",
       "  <tbody>\n",
       "    <tr>\n",
       "      <th>0</th>\n",
       "      <td>172</td>\n",
       "      <td>77</td>\n",
       "      <td>249</td>\n",
       "      <td>19.213</td>\n",
       "      <td>13.2716</td>\n",
       "      <td>5.94136</td>\n",
       "    </tr>\n",
       "    <tr>\n",
       "      <th>1</th>\n",
       "      <td>476</td>\n",
       "      <td>571</td>\n",
       "      <td>1047</td>\n",
       "      <td>80.787</td>\n",
       "      <td>36.7284</td>\n",
       "      <td>44.0586</td>\n",
       "    </tr>\n",
       "  </tbody>\n",
       "</table>\n",
       "</div>"
      ],
      "text/plain": [
       "Class                       0    1   sum     p_t      p_p      p_n\n",
       "Symptom- Taste Disorders                                          \n",
       "0                         172   77   249  19.213  13.2716  5.94136\n",
       "1                         476  571  1047  80.787  36.7284  44.0586"
      ]
     },
     "execution_count": 25,
     "metadata": {},
     "output_type": "execute_result"
    }
   ],
   "source": [
    "set_crosstab('Symptom- Taste Disorders',rapid)"
   ]
  },
  {
   "cell_type": "code",
   "execution_count": 26,
   "metadata": {
    "execution": {
     "iopub.execute_input": "2021-03-07T19:51:02.943975Z",
     "iopub.status.busy": "2021-03-07T19:51:02.937152Z",
     "iopub.status.idle": "2021-03-07T19:51:02.955718Z",
     "shell.execute_reply": "2021-03-07T19:51:02.954588Z"
    },
    "papermill": {
     "duration": 0.080586,
     "end_time": "2021-03-07T19:51:02.955936",
     "exception": false,
     "start_time": "2021-03-07T19:51:02.875350",
     "status": "completed"
    },
    "tags": []
   },
   "outputs": [
    {
     "name": "stdout",
     "output_type": "stream",
     "text": [
      "Dependent (reject H0)\n"
     ]
    }
   ],
   "source": [
    "test_statistic_chi2('Symptom- Taste Disorders',rapid)"
   ]
  },
  {
   "cell_type": "markdown",
   "metadata": {
    "papermill": {
     "duration": 0.054597,
     "end_time": "2021-03-07T19:51:03.065997",
     "exception": false,
     "start_time": "2021-03-07T19:51:03.011400",
     "status": "completed"
    },
    "tags": []
   },
   "source": [
    "unbalanced dataset"
   ]
  },
  {
   "cell_type": "code",
   "execution_count": 27,
   "metadata": {
    "execution": {
     "iopub.execute_input": "2021-03-07T19:51:03.184156Z",
     "iopub.status.busy": "2021-03-07T19:51:03.183042Z",
     "iopub.status.idle": "2021-03-07T19:51:03.216023Z",
     "shell.execute_reply": "2021-03-07T19:51:03.215426Z"
    },
    "papermill": {
     "duration": 0.095368,
     "end_time": "2021-03-07T19:51:03.216200",
     "exception": false,
     "start_time": "2021-03-07T19:51:03.120832",
     "status": "completed"
    },
    "tags": []
   },
   "outputs": [
    {
     "data": {
      "text/html": [
       "<div>\n",
       "<style scoped>\n",
       "    .dataframe tbody tr th:only-of-type {\n",
       "        vertical-align: middle;\n",
       "    }\n",
       "\n",
       "    .dataframe tbody tr th {\n",
       "        vertical-align: top;\n",
       "    }\n",
       "\n",
       "    .dataframe thead th {\n",
       "        text-align: right;\n",
       "    }\n",
       "</style>\n",
       "<table border=\"1\" class=\"dataframe\">\n",
       "  <thead>\n",
       "    <tr style=\"text-align: right;\">\n",
       "      <th>Class</th>\n",
       "      <th>0</th>\n",
       "      <th>1</th>\n",
       "      <th>sum</th>\n",
       "      <th>p_t</th>\n",
       "      <th>p_p</th>\n",
       "      <th>p_n</th>\n",
       "    </tr>\n",
       "    <tr>\n",
       "      <th>Symptom- Taste Disorders</th>\n",
       "      <th></th>\n",
       "      <th></th>\n",
       "      <th></th>\n",
       "      <th></th>\n",
       "      <th></th>\n",
       "      <th></th>\n",
       "    </tr>\n",
       "  </thead>\n",
       "  <tbody>\n",
       "    <tr>\n",
       "      <th>0</th>\n",
       "      <td>172</td>\n",
       "      <td>1256</td>\n",
       "      <td>1428</td>\n",
       "      <td>8.2821</td>\n",
       "      <td>0.997564</td>\n",
       "      <td>7.28454</td>\n",
       "    </tr>\n",
       "    <tr>\n",
       "      <th>1</th>\n",
       "      <td>476</td>\n",
       "      <td>15338</td>\n",
       "      <td>15814</td>\n",
       "      <td>91.7179</td>\n",
       "      <td>2.7607</td>\n",
       "      <td>88.9572</td>\n",
       "    </tr>\n",
       "  </tbody>\n",
       "</table>\n",
       "</div>"
      ],
      "text/plain": [
       "Class                       0      1    sum      p_t       p_p      p_n\n",
       "Symptom- Taste Disorders                                               \n",
       "0                         172   1256   1428   8.2821  0.997564  7.28454\n",
       "1                         476  15338  15814  91.7179    2.7607  88.9572"
      ]
     },
     "execution_count": 27,
     "metadata": {},
     "output_type": "execute_result"
    }
   ],
   "source": [
    "set_crosstab('Symptom- Taste Disorders',rapid_unb)"
   ]
  },
  {
   "cell_type": "code",
   "execution_count": 28,
   "metadata": {
    "execution": {
     "iopub.execute_input": "2021-03-07T19:51:03.341504Z",
     "iopub.status.busy": "2021-03-07T19:51:03.339627Z",
     "iopub.status.idle": "2021-03-07T19:51:03.358751Z",
     "shell.execute_reply": "2021-03-07T19:51:03.358027Z"
    },
    "papermill": {
     "duration": 0.080185,
     "end_time": "2021-03-07T19:51:03.358872",
     "exception": false,
     "start_time": "2021-03-07T19:51:03.278687",
     "status": "completed"
    },
    "tags": []
   },
   "outputs": [
    {
     "name": "stdout",
     "output_type": "stream",
     "text": [
      "Dependent (reject H0)\n"
     ]
    }
   ],
   "source": [
    "test_statistic_chi2('Symptom- Taste Disorders',rapid_unb)"
   ]
  },
  {
   "cell_type": "markdown",
   "metadata": {
    "papermill": {
     "duration": 0.055521,
     "end_time": "2021-03-07T19:51:03.477144",
     "exception": false,
     "start_time": "2021-03-07T19:51:03.421623",
     "status": "completed"
    },
    "tags": []
   },
   "source": [
    "# Symptom- Olfactory Disorders"
   ]
  },
  {
   "cell_type": "markdown",
   "metadata": {
    "papermill": {
     "duration": 0.055807,
     "end_time": "2021-03-07T19:51:03.589001",
     "exception": false,
     "start_time": "2021-03-07T19:51:03.533194",
     "status": "completed"
    },
    "tags": []
   },
   "source": [
    "balanced dataset"
   ]
  },
  {
   "cell_type": "code",
   "execution_count": 29,
   "metadata": {
    "execution": {
     "iopub.execute_input": "2021-03-07T19:51:03.709343Z",
     "iopub.status.busy": "2021-03-07T19:51:03.708617Z",
     "iopub.status.idle": "2021-03-07T19:51:03.738756Z",
     "shell.execute_reply": "2021-03-07T19:51:03.738107Z"
    },
    "papermill": {
     "duration": 0.093101,
     "end_time": "2021-03-07T19:51:03.738879",
     "exception": false,
     "start_time": "2021-03-07T19:51:03.645778",
     "status": "completed"
    },
    "tags": []
   },
   "outputs": [
    {
     "data": {
      "text/html": [
       "<div>\n",
       "<style scoped>\n",
       "    .dataframe tbody tr th:only-of-type {\n",
       "        vertical-align: middle;\n",
       "    }\n",
       "\n",
       "    .dataframe tbody tr th {\n",
       "        vertical-align: top;\n",
       "    }\n",
       "\n",
       "    .dataframe thead th {\n",
       "        text-align: right;\n",
       "    }\n",
       "</style>\n",
       "<table border=\"1\" class=\"dataframe\">\n",
       "  <thead>\n",
       "    <tr style=\"text-align: right;\">\n",
       "      <th>Class</th>\n",
       "      <th>0</th>\n",
       "      <th>1</th>\n",
       "      <th>sum</th>\n",
       "      <th>p_t</th>\n",
       "      <th>p_p</th>\n",
       "      <th>p_n</th>\n",
       "    </tr>\n",
       "    <tr>\n",
       "      <th>Symptom- Olfactory Disorders</th>\n",
       "      <th></th>\n",
       "      <th></th>\n",
       "      <th></th>\n",
       "      <th></th>\n",
       "      <th></th>\n",
       "      <th></th>\n",
       "    </tr>\n",
       "  </thead>\n",
       "  <tbody>\n",
       "    <tr>\n",
       "      <th>0</th>\n",
       "      <td>287</td>\n",
       "      <td>96</td>\n",
       "      <td>383</td>\n",
       "      <td>29.5525</td>\n",
       "      <td>22.1451</td>\n",
       "      <td>7.40741</td>\n",
       "    </tr>\n",
       "    <tr>\n",
       "      <th>1</th>\n",
       "      <td>361</td>\n",
       "      <td>552</td>\n",
       "      <td>913</td>\n",
       "      <td>70.4475</td>\n",
       "      <td>27.8549</td>\n",
       "      <td>42.5926</td>\n",
       "    </tr>\n",
       "  </tbody>\n",
       "</table>\n",
       "</div>"
      ],
      "text/plain": [
       "Class                           0    1  sum      p_t      p_p      p_n\n",
       "Symptom- Olfactory Disorders                                          \n",
       "0                             287   96  383  29.5525  22.1451  7.40741\n",
       "1                             361  552  913  70.4475  27.8549  42.5926"
      ]
     },
     "execution_count": 29,
     "metadata": {},
     "output_type": "execute_result"
    }
   ],
   "source": [
    "set_crosstab('Symptom- Olfactory Disorders',rapid)"
   ]
  },
  {
   "cell_type": "code",
   "execution_count": 30,
   "metadata": {
    "execution": {
     "iopub.execute_input": "2021-03-07T19:51:03.860277Z",
     "iopub.status.busy": "2021-03-07T19:51:03.859632Z",
     "iopub.status.idle": "2021-03-07T19:51:03.875178Z",
     "shell.execute_reply": "2021-03-07T19:51:03.875738Z"
    },
    "papermill": {
     "duration": 0.080014,
     "end_time": "2021-03-07T19:51:03.875880",
     "exception": false,
     "start_time": "2021-03-07T19:51:03.795866",
     "status": "completed"
    },
    "tags": []
   },
   "outputs": [
    {
     "name": "stdout",
     "output_type": "stream",
     "text": [
      "Dependent (reject H0)\n"
     ]
    }
   ],
   "source": [
    "test_statistic_chi2('Symptom- Olfactory Disorders',rapid)"
   ]
  },
  {
   "cell_type": "markdown",
   "metadata": {
    "papermill": {
     "duration": 0.058228,
     "end_time": "2021-03-07T19:51:03.991612",
     "exception": false,
     "start_time": "2021-03-07T19:51:03.933384",
     "status": "completed"
    },
    "tags": []
   },
   "source": [
    "unbalanced dataset"
   ]
  },
  {
   "cell_type": "code",
   "execution_count": 31,
   "metadata": {
    "execution": {
     "iopub.execute_input": "2021-03-07T19:51:04.113974Z",
     "iopub.status.busy": "2021-03-07T19:51:04.113243Z",
     "iopub.status.idle": "2021-03-07T19:51:04.144373Z",
     "shell.execute_reply": "2021-03-07T19:51:04.143617Z"
    },
    "papermill": {
     "duration": 0.09579,
     "end_time": "2021-03-07T19:51:04.144492",
     "exception": false,
     "start_time": "2021-03-07T19:51:04.048702",
     "status": "completed"
    },
    "tags": []
   },
   "outputs": [
    {
     "data": {
      "text/html": [
       "<div>\n",
       "<style scoped>\n",
       "    .dataframe tbody tr th:only-of-type {\n",
       "        vertical-align: middle;\n",
       "    }\n",
       "\n",
       "    .dataframe tbody tr th {\n",
       "        vertical-align: top;\n",
       "    }\n",
       "\n",
       "    .dataframe thead th {\n",
       "        text-align: right;\n",
       "    }\n",
       "</style>\n",
       "<table border=\"1\" class=\"dataframe\">\n",
       "  <thead>\n",
       "    <tr style=\"text-align: right;\">\n",
       "      <th>Class</th>\n",
       "      <th>0</th>\n",
       "      <th>1</th>\n",
       "      <th>sum</th>\n",
       "      <th>p_t</th>\n",
       "      <th>p_p</th>\n",
       "      <th>p_n</th>\n",
       "    </tr>\n",
       "    <tr>\n",
       "      <th>Symptom- Olfactory Disorders</th>\n",
       "      <th></th>\n",
       "      <th></th>\n",
       "      <th></th>\n",
       "      <th></th>\n",
       "      <th></th>\n",
       "      <th></th>\n",
       "    </tr>\n",
       "  </thead>\n",
       "  <tbody>\n",
       "    <tr>\n",
       "      <th>0</th>\n",
       "      <td>287</td>\n",
       "      <td>1517</td>\n",
       "      <td>1804</td>\n",
       "      <td>10.4628</td>\n",
       "      <td>1.66454</td>\n",
       "      <td>8.79828</td>\n",
       "    </tr>\n",
       "    <tr>\n",
       "      <th>1</th>\n",
       "      <td>361</td>\n",
       "      <td>15077</td>\n",
       "      <td>15438</td>\n",
       "      <td>89.5372</td>\n",
       "      <td>2.09372</td>\n",
       "      <td>87.4435</td>\n",
       "    </tr>\n",
       "  </tbody>\n",
       "</table>\n",
       "</div>"
      ],
      "text/plain": [
       "Class                           0      1    sum      p_t      p_p      p_n\n",
       "Symptom- Olfactory Disorders                                              \n",
       "0                             287   1517   1804  10.4628  1.66454  8.79828\n",
       "1                             361  15077  15438  89.5372  2.09372  87.4435"
      ]
     },
     "execution_count": 31,
     "metadata": {},
     "output_type": "execute_result"
    }
   ],
   "source": [
    "set_crosstab('Symptom- Olfactory Disorders',rapid_unb)"
   ]
  },
  {
   "cell_type": "code",
   "execution_count": 32,
   "metadata": {
    "execution": {
     "iopub.execute_input": "2021-03-07T19:51:04.266752Z",
     "iopub.status.busy": "2021-03-07T19:51:04.266071Z",
     "iopub.status.idle": "2021-03-07T19:51:04.285217Z",
     "shell.execute_reply": "2021-03-07T19:51:04.283949Z"
    },
    "papermill": {
     "duration": 0.083419,
     "end_time": "2021-03-07T19:51:04.285494",
     "exception": false,
     "start_time": "2021-03-07T19:51:04.202075",
     "status": "completed"
    },
    "tags": []
   },
   "outputs": [
    {
     "name": "stdout",
     "output_type": "stream",
     "text": [
      "Dependent (reject H0)\n"
     ]
    }
   ],
   "source": [
    "test_statistic_chi2('Symptom- Olfactory Disorders',rapid_unb)"
   ]
  },
  {
   "cell_type": "markdown",
   "metadata": {
    "papermill": {
     "duration": 0.057696,
     "end_time": "2021-03-07T19:51:04.408925",
     "exception": false,
     "start_time": "2021-03-07T19:51:04.351229",
     "status": "completed"
    },
    "tags": []
   },
   "source": [
    "# Symptom- Coryza"
   ]
  },
  {
   "cell_type": "markdown",
   "metadata": {
    "papermill": {
     "duration": 0.057835,
     "end_time": "2021-03-07T19:51:04.524684",
     "exception": false,
     "start_time": "2021-03-07T19:51:04.466849",
     "status": "completed"
    },
    "tags": []
   },
   "source": [
    "balanced dataset"
   ]
  },
  {
   "cell_type": "code",
   "execution_count": 33,
   "metadata": {
    "execution": {
     "iopub.execute_input": "2021-03-07T19:51:04.649956Z",
     "iopub.status.busy": "2021-03-07T19:51:04.649264Z",
     "iopub.status.idle": "2021-03-07T19:51:04.678008Z",
     "shell.execute_reply": "2021-03-07T19:51:04.678576Z"
    },
    "papermill": {
     "duration": 0.094904,
     "end_time": "2021-03-07T19:51:04.678726",
     "exception": false,
     "start_time": "2021-03-07T19:51:04.583822",
     "status": "completed"
    },
    "tags": []
   },
   "outputs": [
    {
     "data": {
      "text/html": [
       "<div>\n",
       "<style scoped>\n",
       "    .dataframe tbody tr th:only-of-type {\n",
       "        vertical-align: middle;\n",
       "    }\n",
       "\n",
       "    .dataframe tbody tr th {\n",
       "        vertical-align: top;\n",
       "    }\n",
       "\n",
       "    .dataframe thead th {\n",
       "        text-align: right;\n",
       "    }\n",
       "</style>\n",
       "<table border=\"1\" class=\"dataframe\">\n",
       "  <thead>\n",
       "    <tr style=\"text-align: right;\">\n",
       "      <th>Class</th>\n",
       "      <th>0</th>\n",
       "      <th>1</th>\n",
       "      <th>sum</th>\n",
       "      <th>p_t</th>\n",
       "      <th>p_p</th>\n",
       "      <th>p_n</th>\n",
       "    </tr>\n",
       "    <tr>\n",
       "      <th>Symptom- Coryza</th>\n",
       "      <th></th>\n",
       "      <th></th>\n",
       "      <th></th>\n",
       "      <th></th>\n",
       "      <th></th>\n",
       "      <th></th>\n",
       "    </tr>\n",
       "  </thead>\n",
       "  <tbody>\n",
       "    <tr>\n",
       "      <th>0</th>\n",
       "      <td>137</td>\n",
       "      <td>38</td>\n",
       "      <td>175</td>\n",
       "      <td>13.5031</td>\n",
       "      <td>10.571</td>\n",
       "      <td>2.9321</td>\n",
       "    </tr>\n",
       "    <tr>\n",
       "      <th>1</th>\n",
       "      <td>511</td>\n",
       "      <td>610</td>\n",
       "      <td>1121</td>\n",
       "      <td>86.4969</td>\n",
       "      <td>39.429</td>\n",
       "      <td>47.0679</td>\n",
       "    </tr>\n",
       "  </tbody>\n",
       "</table>\n",
       "</div>"
      ],
      "text/plain": [
       "Class              0    1   sum      p_t     p_p      p_n\n",
       "Symptom- Coryza                                          \n",
       "0                137   38   175  13.5031  10.571   2.9321\n",
       "1                511  610  1121  86.4969  39.429  47.0679"
      ]
     },
     "execution_count": 33,
     "metadata": {},
     "output_type": "execute_result"
    }
   ],
   "source": [
    "set_crosstab('Symptom- Coryza',rapid)"
   ]
  },
  {
   "cell_type": "code",
   "execution_count": 34,
   "metadata": {
    "execution": {
     "iopub.execute_input": "2021-03-07T19:51:04.800406Z",
     "iopub.status.busy": "2021-03-07T19:51:04.799691Z",
     "iopub.status.idle": "2021-03-07T19:51:04.818499Z",
     "shell.execute_reply": "2021-03-07T19:51:04.817812Z"
    },
    "papermill": {
     "duration": 0.081299,
     "end_time": "2021-03-07T19:51:04.818613",
     "exception": false,
     "start_time": "2021-03-07T19:51:04.737314",
     "status": "completed"
    },
    "tags": []
   },
   "outputs": [
    {
     "name": "stdout",
     "output_type": "stream",
     "text": [
      "Dependent (reject H0)\n"
     ]
    }
   ],
   "source": [
    "test_statistic_chi2('Symptom- Coryza',rapid)"
   ]
  },
  {
   "cell_type": "markdown",
   "metadata": {
    "papermill": {
     "duration": 0.060444,
     "end_time": "2021-03-07T19:51:04.938375",
     "exception": false,
     "start_time": "2021-03-07T19:51:04.877931",
     "status": "completed"
    },
    "tags": []
   },
   "source": [
    "unbalanced dataset"
   ]
  },
  {
   "cell_type": "code",
   "execution_count": 35,
   "metadata": {
    "execution": {
     "iopub.execute_input": "2021-03-07T19:51:05.064306Z",
     "iopub.status.busy": "2021-03-07T19:51:05.063325Z",
     "iopub.status.idle": "2021-03-07T19:51:05.094871Z",
     "shell.execute_reply": "2021-03-07T19:51:05.094179Z"
    },
    "papermill": {
     "duration": 0.097664,
     "end_time": "2021-03-07T19:51:05.094990",
     "exception": false,
     "start_time": "2021-03-07T19:51:04.997326",
     "status": "completed"
    },
    "tags": []
   },
   "outputs": [
    {
     "data": {
      "text/html": [
       "<div>\n",
       "<style scoped>\n",
       "    .dataframe tbody tr th:only-of-type {\n",
       "        vertical-align: middle;\n",
       "    }\n",
       "\n",
       "    .dataframe tbody tr th {\n",
       "        vertical-align: top;\n",
       "    }\n",
       "\n",
       "    .dataframe thead th {\n",
       "        text-align: right;\n",
       "    }\n",
       "</style>\n",
       "<table border=\"1\" class=\"dataframe\">\n",
       "  <thead>\n",
       "    <tr style=\"text-align: right;\">\n",
       "      <th>Class</th>\n",
       "      <th>0</th>\n",
       "      <th>1</th>\n",
       "      <th>sum</th>\n",
       "      <th>p_t</th>\n",
       "      <th>p_p</th>\n",
       "      <th>p_n</th>\n",
       "    </tr>\n",
       "    <tr>\n",
       "      <th>Symptom- Coryza</th>\n",
       "      <th></th>\n",
       "      <th></th>\n",
       "      <th></th>\n",
       "      <th></th>\n",
       "      <th></th>\n",
       "      <th></th>\n",
       "    </tr>\n",
       "  </thead>\n",
       "  <tbody>\n",
       "    <tr>\n",
       "      <th>0</th>\n",
       "      <td>137</td>\n",
       "      <td>899</td>\n",
       "      <td>1036</td>\n",
       "      <td>6.00858</td>\n",
       "      <td>0.794571</td>\n",
       "      <td>5.21401</td>\n",
       "    </tr>\n",
       "    <tr>\n",
       "      <th>1</th>\n",
       "      <td>511</td>\n",
       "      <td>15695</td>\n",
       "      <td>16206</td>\n",
       "      <td>93.9914</td>\n",
       "      <td>2.96369</td>\n",
       "      <td>91.0277</td>\n",
       "    </tr>\n",
       "  </tbody>\n",
       "</table>\n",
       "</div>"
      ],
      "text/plain": [
       "Class              0      1    sum      p_t       p_p      p_n\n",
       "Symptom- Coryza                                               \n",
       "0                137    899   1036  6.00858  0.794571  5.21401\n",
       "1                511  15695  16206  93.9914   2.96369  91.0277"
      ]
     },
     "execution_count": 35,
     "metadata": {},
     "output_type": "execute_result"
    }
   ],
   "source": [
    "set_crosstab('Symptom- Coryza',rapid_unb)"
   ]
  },
  {
   "cell_type": "code",
   "execution_count": 36,
   "metadata": {
    "execution": {
     "iopub.execute_input": "2021-03-07T19:51:05.222022Z",
     "iopub.status.busy": "2021-03-07T19:51:05.221344Z",
     "iopub.status.idle": "2021-03-07T19:51:05.238976Z",
     "shell.execute_reply": "2021-03-07T19:51:05.238350Z"
    },
    "papermill": {
     "duration": 0.083966,
     "end_time": "2021-03-07T19:51:05.239098",
     "exception": false,
     "start_time": "2021-03-07T19:51:05.155132",
     "status": "completed"
    },
    "tags": []
   },
   "outputs": [
    {
     "name": "stdout",
     "output_type": "stream",
     "text": [
      "Dependent (reject H0)\n"
     ]
    }
   ],
   "source": [
    "test_statistic_chi2('Symptom- Coryza',rapid_unb)"
   ]
  },
  {
   "cell_type": "markdown",
   "metadata": {
    "papermill": {
     "duration": 0.060047,
     "end_time": "2021-03-07T19:51:05.366457",
     "exception": false,
     "start_time": "2021-03-07T19:51:05.306410",
     "status": "completed"
    },
    "tags": []
   },
   "source": [
    "# Gender"
   ]
  },
  {
   "cell_type": "markdown",
   "metadata": {
    "papermill": {
     "duration": 0.060233,
     "end_time": "2021-03-07T19:51:05.486855",
     "exception": false,
     "start_time": "2021-03-07T19:51:05.426622",
     "status": "completed"
    },
    "tags": []
   },
   "source": [
    "balanced dataset"
   ]
  },
  {
   "cell_type": "code",
   "execution_count": 37,
   "metadata": {
    "execution": {
     "iopub.execute_input": "2021-03-07T19:51:05.613815Z",
     "iopub.status.busy": "2021-03-07T19:51:05.613128Z",
     "iopub.status.idle": "2021-03-07T19:51:05.643496Z",
     "shell.execute_reply": "2021-03-07T19:51:05.642829Z"
    },
    "papermill": {
     "duration": 0.096855,
     "end_time": "2021-03-07T19:51:05.643608",
     "exception": false,
     "start_time": "2021-03-07T19:51:05.546753",
     "status": "completed"
    },
    "tags": []
   },
   "outputs": [
    {
     "data": {
      "text/html": [
       "<div>\n",
       "<style scoped>\n",
       "    .dataframe tbody tr th:only-of-type {\n",
       "        vertical-align: middle;\n",
       "    }\n",
       "\n",
       "    .dataframe tbody tr th {\n",
       "        vertical-align: top;\n",
       "    }\n",
       "\n",
       "    .dataframe thead th {\n",
       "        text-align: right;\n",
       "    }\n",
       "</style>\n",
       "<table border=\"1\" class=\"dataframe\">\n",
       "  <thead>\n",
       "    <tr style=\"text-align: right;\">\n",
       "      <th>Class</th>\n",
       "      <th>0</th>\n",
       "      <th>1</th>\n",
       "      <th>sum</th>\n",
       "      <th>p_t</th>\n",
       "      <th>p_p</th>\n",
       "      <th>p_n</th>\n",
       "    </tr>\n",
       "    <tr>\n",
       "      <th>Gender</th>\n",
       "      <th></th>\n",
       "      <th></th>\n",
       "      <th></th>\n",
       "      <th></th>\n",
       "      <th></th>\n",
       "      <th></th>\n",
       "    </tr>\n",
       "  </thead>\n",
       "  <tbody>\n",
       "    <tr>\n",
       "      <th>0</th>\n",
       "      <td>286</td>\n",
       "      <td>346</td>\n",
       "      <td>632</td>\n",
       "      <td>48.7654</td>\n",
       "      <td>22.0679</td>\n",
       "      <td>26.6975</td>\n",
       "    </tr>\n",
       "    <tr>\n",
       "      <th>1</th>\n",
       "      <td>362</td>\n",
       "      <td>302</td>\n",
       "      <td>664</td>\n",
       "      <td>51.2346</td>\n",
       "      <td>27.9321</td>\n",
       "      <td>23.3025</td>\n",
       "    </tr>\n",
       "  </tbody>\n",
       "</table>\n",
       "</div>"
      ],
      "text/plain": [
       "Class     0    1  sum      p_t      p_p      p_n\n",
       "Gender                                          \n",
       "0       286  346  632  48.7654  22.0679  26.6975\n",
       "1       362  302  664  51.2346  27.9321  23.3025"
      ]
     },
     "execution_count": 37,
     "metadata": {},
     "output_type": "execute_result"
    }
   ],
   "source": [
    "set_crosstab('Gender',rapid)"
   ]
  },
  {
   "cell_type": "code",
   "execution_count": 38,
   "metadata": {
    "execution": {
     "iopub.execute_input": "2021-03-07T19:51:05.773692Z",
     "iopub.status.busy": "2021-03-07T19:51:05.772981Z",
     "iopub.status.idle": "2021-03-07T19:51:05.788258Z",
     "shell.execute_reply": "2021-03-07T19:51:05.788845Z"
    },
    "papermill": {
     "duration": 0.083569,
     "end_time": "2021-03-07T19:51:05.788991",
     "exception": false,
     "start_time": "2021-03-07T19:51:05.705422",
     "status": "completed"
    },
    "tags": []
   },
   "outputs": [
    {
     "name": "stdout",
     "output_type": "stream",
     "text": [
      "Dependent (reject H0)\n"
     ]
    }
   ],
   "source": [
    "test_statistic_chi2('Gender',rapid)"
   ]
  },
  {
   "cell_type": "markdown",
   "metadata": {
    "papermill": {
     "duration": 0.061421,
     "end_time": "2021-03-07T19:51:05.911749",
     "exception": false,
     "start_time": "2021-03-07T19:51:05.850328",
     "status": "completed"
    },
    "tags": []
   },
   "source": [
    "unbalanced dataset"
   ]
  },
  {
   "cell_type": "code",
   "execution_count": 39,
   "metadata": {
    "execution": {
     "iopub.execute_input": "2021-03-07T19:51:06.044719Z",
     "iopub.status.busy": "2021-03-07T19:51:06.043689Z",
     "iopub.status.idle": "2021-03-07T19:51:06.076235Z",
     "shell.execute_reply": "2021-03-07T19:51:06.075562Z"
    },
    "papermill": {
     "duration": 0.102126,
     "end_time": "2021-03-07T19:51:06.076368",
     "exception": false,
     "start_time": "2021-03-07T19:51:05.974242",
     "status": "completed"
    },
    "tags": []
   },
   "outputs": [
    {
     "data": {
      "text/html": [
       "<div>\n",
       "<style scoped>\n",
       "    .dataframe tbody tr th:only-of-type {\n",
       "        vertical-align: middle;\n",
       "    }\n",
       "\n",
       "    .dataframe tbody tr th {\n",
       "        vertical-align: top;\n",
       "    }\n",
       "\n",
       "    .dataframe thead th {\n",
       "        text-align: right;\n",
       "    }\n",
       "</style>\n",
       "<table border=\"1\" class=\"dataframe\">\n",
       "  <thead>\n",
       "    <tr style=\"text-align: right;\">\n",
       "      <th>Class</th>\n",
       "      <th>0</th>\n",
       "      <th>1</th>\n",
       "      <th>sum</th>\n",
       "      <th>p_t</th>\n",
       "      <th>p_p</th>\n",
       "      <th>p_n</th>\n",
       "    </tr>\n",
       "    <tr>\n",
       "      <th>Gender</th>\n",
       "      <th></th>\n",
       "      <th></th>\n",
       "      <th></th>\n",
       "      <th></th>\n",
       "      <th></th>\n",
       "      <th></th>\n",
       "    </tr>\n",
       "  </thead>\n",
       "  <tbody>\n",
       "    <tr>\n",
       "      <th>0</th>\n",
       "      <td>286</td>\n",
       "      <td>9286</td>\n",
       "      <td>9572</td>\n",
       "      <td>55.5156</td>\n",
       "      <td>1.65874</td>\n",
       "      <td>53.8569</td>\n",
       "    </tr>\n",
       "    <tr>\n",
       "      <th>1</th>\n",
       "      <td>362</td>\n",
       "      <td>7308</td>\n",
       "      <td>7670</td>\n",
       "      <td>44.4844</td>\n",
       "      <td>2.09952</td>\n",
       "      <td>42.3849</td>\n",
       "    </tr>\n",
       "  </tbody>\n",
       "</table>\n",
       "</div>"
      ],
      "text/plain": [
       "Class     0     1   sum      p_t      p_p      p_n\n",
       "Gender                                            \n",
       "0       286  9286  9572  55.5156  1.65874  53.8569\n",
       "1       362  7308  7670  44.4844  2.09952  42.3849"
      ]
     },
     "execution_count": 39,
     "metadata": {},
     "output_type": "execute_result"
    }
   ],
   "source": [
    "set_crosstab('Gender',rapid_unb)"
   ]
  },
  {
   "cell_type": "code",
   "execution_count": 40,
   "metadata": {
    "execution": {
     "iopub.execute_input": "2021-03-07T19:51:06.208708Z",
     "iopub.status.busy": "2021-03-07T19:51:06.208003Z",
     "iopub.status.idle": "2021-03-07T19:51:06.225149Z",
     "shell.execute_reply": "2021-03-07T19:51:06.224617Z"
    },
    "papermill": {
     "duration": 0.08649,
     "end_time": "2021-03-07T19:51:06.225264",
     "exception": false,
     "start_time": "2021-03-07T19:51:06.138774",
     "status": "completed"
    },
    "tags": []
   },
   "outputs": [
    {
     "name": "stdout",
     "output_type": "stream",
     "text": [
      "Dependent (reject H0)\n"
     ]
    }
   ],
   "source": [
    "test_statistic_chi2('Gender',rapid_unb)"
   ]
  },
  {
   "cell_type": "markdown",
   "metadata": {
    "papermill": {
     "duration": 0.063515,
     "end_time": "2021-03-07T19:51:06.351556",
     "exception": false,
     "start_time": "2021-03-07T19:51:06.288041",
     "status": "completed"
    },
    "tags": []
   },
   "source": [
    "# Are you a health professional?"
   ]
  },
  {
   "cell_type": "markdown",
   "metadata": {
    "papermill": {
     "duration": 0.063611,
     "end_time": "2021-03-07T19:51:06.478530",
     "exception": false,
     "start_time": "2021-03-07T19:51:06.414919",
     "status": "completed"
    },
    "tags": []
   },
   "source": [
    "balanced dataset"
   ]
  },
  {
   "cell_type": "code",
   "execution_count": 41,
   "metadata": {
    "execution": {
     "iopub.execute_input": "2021-03-07T19:51:06.612848Z",
     "iopub.status.busy": "2021-03-07T19:51:06.611905Z",
     "iopub.status.idle": "2021-03-07T19:51:06.642207Z",
     "shell.execute_reply": "2021-03-07T19:51:06.641531Z"
    },
    "papermill": {
     "duration": 0.100941,
     "end_time": "2021-03-07T19:51:06.642340",
     "exception": false,
     "start_time": "2021-03-07T19:51:06.541399",
     "status": "completed"
    },
    "tags": []
   },
   "outputs": [
    {
     "data": {
      "text/html": [
       "<div>\n",
       "<style scoped>\n",
       "    .dataframe tbody tr th:only-of-type {\n",
       "        vertical-align: middle;\n",
       "    }\n",
       "\n",
       "    .dataframe tbody tr th {\n",
       "        vertical-align: top;\n",
       "    }\n",
       "\n",
       "    .dataframe thead th {\n",
       "        text-align: right;\n",
       "    }\n",
       "</style>\n",
       "<table border=\"1\" class=\"dataframe\">\n",
       "  <thead>\n",
       "    <tr style=\"text-align: right;\">\n",
       "      <th>Class</th>\n",
       "      <th>0</th>\n",
       "      <th>1</th>\n",
       "      <th>sum</th>\n",
       "      <th>p_t</th>\n",
       "      <th>p_p</th>\n",
       "      <th>p_n</th>\n",
       "    </tr>\n",
       "    <tr>\n",
       "      <th>Are you a health professional?</th>\n",
       "      <th></th>\n",
       "      <th></th>\n",
       "      <th></th>\n",
       "      <th></th>\n",
       "      <th></th>\n",
       "      <th></th>\n",
       "    </tr>\n",
       "  </thead>\n",
       "  <tbody>\n",
       "    <tr>\n",
       "      <th>0.0</th>\n",
       "      <td>58</td>\n",
       "      <td>98</td>\n",
       "      <td>156</td>\n",
       "      <td>12.037</td>\n",
       "      <td>4.47531</td>\n",
       "      <td>7.56173</td>\n",
       "    </tr>\n",
       "    <tr>\n",
       "      <th>1.0</th>\n",
       "      <td>590</td>\n",
       "      <td>550</td>\n",
       "      <td>1140</td>\n",
       "      <td>87.963</td>\n",
       "      <td>45.5247</td>\n",
       "      <td>42.4383</td>\n",
       "    </tr>\n",
       "  </tbody>\n",
       "</table>\n",
       "</div>"
      ],
      "text/plain": [
       "Class                             0    1   sum     p_t      p_p      p_n\n",
       "Are you a health professional?                                          \n",
       "0.0                              58   98   156  12.037  4.47531  7.56173\n",
       "1.0                             590  550  1140  87.963  45.5247  42.4383"
      ]
     },
     "execution_count": 41,
     "metadata": {},
     "output_type": "execute_result"
    }
   ],
   "source": [
    "set_crosstab('Are you a health professional?',rapid)"
   ]
  },
  {
   "cell_type": "code",
   "execution_count": 42,
   "metadata": {
    "execution": {
     "iopub.execute_input": "2021-03-07T19:51:06.779685Z",
     "iopub.status.busy": "2021-03-07T19:51:06.777632Z",
     "iopub.status.idle": "2021-03-07T19:51:06.793937Z",
     "shell.execute_reply": "2021-03-07T19:51:06.793413Z"
    },
    "papermill": {
     "duration": 0.086505,
     "end_time": "2021-03-07T19:51:06.794053",
     "exception": false,
     "start_time": "2021-03-07T19:51:06.707548",
     "status": "completed"
    },
    "tags": []
   },
   "outputs": [
    {
     "name": "stdout",
     "output_type": "stream",
     "text": [
      "Dependent (reject H0)\n"
     ]
    }
   ],
   "source": [
    "test_statistic_chi2('Are you a health professional?',rapid)"
   ]
  },
  {
   "cell_type": "markdown",
   "metadata": {
    "papermill": {
     "duration": 0.063339,
     "end_time": "2021-03-07T19:51:06.921191",
     "exception": false,
     "start_time": "2021-03-07T19:51:06.857852",
     "status": "completed"
    },
    "tags": []
   },
   "source": [
    "unbalanced dataset"
   ]
  },
  {
   "cell_type": "code",
   "execution_count": 43,
   "metadata": {
    "execution": {
     "iopub.execute_input": "2021-03-07T19:51:07.061914Z",
     "iopub.status.busy": "2021-03-07T19:51:07.056168Z",
     "iopub.status.idle": "2021-03-07T19:51:07.087748Z",
     "shell.execute_reply": "2021-03-07T19:51:07.087121Z"
    },
    "papermill": {
     "duration": 0.101986,
     "end_time": "2021-03-07T19:51:07.087891",
     "exception": false,
     "start_time": "2021-03-07T19:51:06.985905",
     "status": "completed"
    },
    "tags": []
   },
   "outputs": [
    {
     "data": {
      "text/html": [
       "<div>\n",
       "<style scoped>\n",
       "    .dataframe tbody tr th:only-of-type {\n",
       "        vertical-align: middle;\n",
       "    }\n",
       "\n",
       "    .dataframe tbody tr th {\n",
       "        vertical-align: top;\n",
       "    }\n",
       "\n",
       "    .dataframe thead th {\n",
       "        text-align: right;\n",
       "    }\n",
       "</style>\n",
       "<table border=\"1\" class=\"dataframe\">\n",
       "  <thead>\n",
       "    <tr style=\"text-align: right;\">\n",
       "      <th>Class</th>\n",
       "      <th>0</th>\n",
       "      <th>1</th>\n",
       "      <th>sum</th>\n",
       "      <th>p_t</th>\n",
       "      <th>p_p</th>\n",
       "      <th>p_n</th>\n",
       "    </tr>\n",
       "    <tr>\n",
       "      <th>Are you a health professional?</th>\n",
       "      <th></th>\n",
       "      <th></th>\n",
       "      <th></th>\n",
       "      <th></th>\n",
       "      <th></th>\n",
       "      <th></th>\n",
       "    </tr>\n",
       "  </thead>\n",
       "  <tbody>\n",
       "    <tr>\n",
       "      <th>0</th>\n",
       "      <td>58</td>\n",
       "      <td>1867</td>\n",
       "      <td>1925</td>\n",
       "      <td>11.1646</td>\n",
       "      <td>0.336388</td>\n",
       "      <td>10.8282</td>\n",
       "    </tr>\n",
       "    <tr>\n",
       "      <th>1</th>\n",
       "      <td>590</td>\n",
       "      <td>14727</td>\n",
       "      <td>15317</td>\n",
       "      <td>88.8354</td>\n",
       "      <td>3.42188</td>\n",
       "      <td>85.4135</td>\n",
       "    </tr>\n",
       "  </tbody>\n",
       "</table>\n",
       "</div>"
      ],
      "text/plain": [
       "Class                             0      1    sum      p_t       p_p      p_n\n",
       "Are you a health professional?                                               \n",
       "0                                58   1867   1925  11.1646  0.336388  10.8282\n",
       "1                               590  14727  15317  88.8354   3.42188  85.4135"
      ]
     },
     "execution_count": 43,
     "metadata": {},
     "output_type": "execute_result"
    }
   ],
   "source": [
    "set_crosstab('Are you a health professional?',rapid_unb)"
   ]
  },
  {
   "cell_type": "code",
   "execution_count": 44,
   "metadata": {
    "execution": {
     "iopub.execute_input": "2021-03-07T19:51:07.223945Z",
     "iopub.status.busy": "2021-03-07T19:51:07.223276Z",
     "iopub.status.idle": "2021-03-07T19:51:07.240010Z",
     "shell.execute_reply": "2021-03-07T19:51:07.239341Z"
    },
    "papermill": {
     "duration": 0.087297,
     "end_time": "2021-03-07T19:51:07.240119",
     "exception": false,
     "start_time": "2021-03-07T19:51:07.152822",
     "status": "completed"
    },
    "tags": []
   },
   "outputs": [
    {
     "name": "stdout",
     "output_type": "stream",
     "text": [
      "Independent (fail to reject H0)\n"
     ]
    }
   ],
   "source": [
    "test_statistic_chi2('Are you a health professional?',rapid_unb)"
   ]
  }
 ],
 "metadata": {
  "kernelspec": {
   "display_name": "Python 3",
   "language": "python",
   "name": "python3"
  },
  "language_info": {
   "codemirror_mode": {
    "name": "ipython",
    "version": 3
   },
   "file_extension": ".py",
   "mimetype": "text/x-python",
   "name": "python",
   "nbconvert_exporter": "python",
   "pygments_lexer": "ipython3",
   "version": "3.7.6"
  },
  "papermill": {
   "duration": 15.798177,
   "end_time": "2021-03-07T19:51:07.413558",
   "environment_variables": {},
   "exception": null,
   "input_path": "__notebook__.ipynb",
   "output_path": "__notebook__.ipynb",
   "parameters": {},
   "start_time": "2021-03-07T19:50:51.615381",
   "version": "2.1.0"
  }
 },
 "nbformat": 4,
 "nbformat_minor": 4
}
