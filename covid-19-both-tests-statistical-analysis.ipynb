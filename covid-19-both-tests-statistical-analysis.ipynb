{
 "cells": [
  {
   "cell_type": "code",
   "execution_count": 1,
   "metadata": {
    "_cell_guid": "b1076dfc-b9ad-4769-8c92-a6c4dae69d19",
    "_uuid": "8f2839f25d086af736a60e9eeb907d3b93b6e0e5",
    "execution": {
     "iopub.execute_input": "2021-03-07T19:37:50.817919Z",
     "iopub.status.busy": "2021-03-07T19:37:50.817194Z",
     "iopub.status.idle": "2021-03-07T19:37:51.852916Z",
     "shell.execute_reply": "2021-03-07T19:37:51.852214Z"
    },
    "papermill": {
     "duration": 1.082303,
     "end_time": "2021-03-07T19:37:51.853075",
     "exception": false,
     "start_time": "2021-03-07T19:37:50.770772",
     "status": "completed"
    },
    "tags": []
   },
   "outputs": [
    {
     "name": "stdout",
     "output_type": "stream",
     "text": [
      "/kaggle/input/covid19final-dataset/both_test_unbalanced.csv\n",
      "/kaggle/input/covid19final-dataset/pcr_unbalanced.csv\n",
      "/kaggle/input/covid19final-dataset/rapid_balanced.csv\n",
      "/kaggle/input/covid19final-dataset/both_test_balanced.csv\n",
      "/kaggle/input/covid19final-dataset/rapid_unbalanced.csv\n",
      "/kaggle/input/covid19final-dataset/pcr_balanced.csv\n"
     ]
    }
   ],
   "source": [
    "# This Python 3 environment comes with many helpful analytics libraries installed\n",
    "# It is defined by the kaggle/python Docker image: https://github.com/kaggle/docker-python\n",
    "# For example, here's several helpful packages to load\n",
    "\n",
    "import numpy as np # linear algebra\n",
    "import pandas as pd # data processing, CSV file I/O (e.g. pd.read_csv)\n",
    "from scipy import stats\n",
    "from scipy.stats import chi2\n",
    "import seaborn as sns \n",
    "import matplotlib\n",
    "import matplotlib.pyplot as plt\n",
    "# Input data files are available in the read-only \"../input/\" directory\n",
    "# For example, running this (by clicking run or pressing Shift+Enter) will list all files under the input directory\n",
    "\n",
    "import os\n",
    "for dirname, _, filenames in os.walk('/kaggle/input'):\n",
    "    for filename in filenames:\n",
    "        print(os.path.join(dirname, filename))\n",
    "\n",
    "# You can write up to 20GB to the current directory (/kaggle/working/) that gets preserved as output when you create a version using \"Save & Run All\" \n",
    "# You can also write temporary files to /kaggle/temp/, but they won't be saved outside of the current session"
   ]
  },
  {
   "cell_type": "code",
   "execution_count": 2,
   "metadata": {
    "_cell_guid": "79c7e3d0-c299-4dcb-8224-4455121ee9b0",
    "_uuid": "d629ff2d2480ee46fbb7e2d37f6b5fab8052498a",
    "execution": {
     "iopub.execute_input": "2021-03-07T19:37:51.945470Z",
     "iopub.status.busy": "2021-03-07T19:37:51.944680Z",
     "iopub.status.idle": "2021-03-07T19:37:51.994079Z",
     "shell.execute_reply": "2021-03-07T19:37:51.993469Z"
    },
    "papermill": {
     "duration": 0.098907,
     "end_time": "2021-03-07T19:37:51.994208",
     "exception": false,
     "start_time": "2021-03-07T19:37:51.895301",
     "status": "completed"
    },
    "tags": []
   },
   "outputs": [],
   "source": [
    "both_data = pd.read_csv(\"/kaggle/input/covid19final-dataset/both_test_balanced.csv\")\n",
    "\n",
    "\n",
    "both_data_unb =pd.read_csv( \"/kaggle/input/covid19final-dataset/both_test_unbalanced.csv\")\n",
    "\n"
   ]
  },
  {
   "cell_type": "markdown",
   "metadata": {
    "papermill": {
     "duration": 0.04214,
     "end_time": "2021-03-07T19:37:52.077991",
     "exception": false,
     "start_time": "2021-03-07T19:37:52.035851",
     "status": "completed"
    },
    "tags": []
   },
   "source": [
    "dictionary:\n",
    "* Class: 0 (positive) and 1(negative)\n",
    "1. sum: sum of total values with (0 and 1)\n",
    "1. pt: percentage of total values\n",
    "1. p_p: percentage of positive test result(pt)\n",
    "1. p_n: percentage of negative test result(pt)"
   ]
  },
  {
   "cell_type": "markdown",
   "metadata": {
    "papermill": {
     "duration": 0.042092,
     "end_time": "2021-03-07T19:37:52.163265",
     "exception": false,
     "start_time": "2021-03-07T19:37:52.121173",
     "status": "completed"
    },
    "tags": []
   },
   "source": [
    "# Setting cross tab with frequency distribution!"
   ]
  },
  {
   "cell_type": "code",
   "execution_count": 3,
   "metadata": {
    "execution": {
     "iopub.execute_input": "2021-03-07T19:37:52.256931Z",
     "iopub.status.busy": "2021-03-07T19:37:52.255805Z",
     "iopub.status.idle": "2021-03-07T19:37:52.270122Z",
     "shell.execute_reply": "2021-03-07T19:37:52.270689Z"
    },
    "papermill": {
     "duration": 0.065628,
     "end_time": "2021-03-07T19:37:52.270835",
     "exception": false,
     "start_time": "2021-03-07T19:37:52.205207",
     "status": "completed"
    },
    "tags": []
   },
   "outputs": [],
   "source": [
    "def set_crosstab(index_value,dt):\n",
    "    data=pd.crosstab(index=dt[index_value],columns=dt[\"Class\"])\n",
    "    data['sum']=None\n",
    "    data['p_t']=None\n",
    "    data['p_p']=None\n",
    "    data['p_n']=None\n",
    "    data.iloc[:1,2:3]=data[0][0]+data[1][0]\n",
    "    data.iloc[1:2,2:3]=data[0][1]+data[1][1]\n",
    "    data.iloc[:1,3:4]=data.iloc[:1,2:3].values[0][0]*100/len(dt)\n",
    "    data.iloc[1:2,3:4]=data.iloc[1:2,2:3].values[0][0]*100/len(dt)\n",
    "    data.iloc[:1,4:5]=data.iloc[:1,:1].values[0][0]*data.iloc[:1,3:4].values[0][0]/data.iloc[:1,2:3].values[0][0]\n",
    "    data.iloc[1:2,4:5]=data.iloc[1:2,:1].values[0][0]*data.iloc[1:2,3:4].values[0][0]/data.iloc[1:2,2:3].values[0][0]\n",
    "    data.iloc[:1,5:6]=data.iloc[:1,1:2].values[0][0]*data.iloc[:1,3:4].values[0][0]/data.iloc[:1,2:3].values[0][0]\n",
    "    data.iloc[1:2,5:6]=data.iloc[1:2,1:2].values[0][0]*data.iloc[1:2,3:4].values[0][0]/data.iloc[1:2,2:3].values[0][0]\n",
    "    return data\n",
    "    "
   ]
  },
  {
   "cell_type": "markdown",
   "metadata": {
    "papermill": {
     "duration": 0.041518,
     "end_time": "2021-03-07T19:37:52.354774",
     "exception": false,
     "start_time": "2021-03-07T19:37:52.313256",
     "status": "completed"
    },
    "tags": []
   },
   "source": [
    "# Chi2 test analyze!"
   ]
  },
  {
   "cell_type": "code",
   "execution_count": 4,
   "metadata": {
    "execution": {
     "iopub.execute_input": "2021-03-07T19:37:52.442018Z",
     "iopub.status.busy": "2021-03-07T19:37:52.441004Z",
     "iopub.status.idle": "2021-03-07T19:37:52.448389Z",
     "shell.execute_reply": "2021-03-07T19:37:52.448926Z"
    },
    "papermill": {
     "duration": 0.05272,
     "end_time": "2021-03-07T19:37:52.449081",
     "exception": false,
     "start_time": "2021-03-07T19:37:52.396361",
     "status": "completed"
    },
    "tags": []
   },
   "outputs": [],
   "source": [
    "def test_statistic_chi2(value,data):\n",
    "    test_result=pd.crosstab(index=data[value],columns=data[\"Class\"])\n",
    "\n",
    "    test_statistic, p_value, dof, expected=stats.chi2_contingency([test_result.iloc[0].values,\n",
    "                                           test_result.iloc[1].values],correction=True)\n",
    "    alpha = 0.01\n",
    "    if p_value <= alpha:\n",
    "        print('Dependent (reject H0)')\n",
    "    else:\n",
    "        print('Independent (fail to reject H0)')\n"
   ]
  },
  {
   "cell_type": "markdown",
   "metadata": {
    "papermill": {
     "duration": 0.041548,
     "end_time": "2021-03-07T19:37:52.533723",
     "exception": false,
     "start_time": "2021-03-07T19:37:52.492175",
     "status": "completed"
    },
    "tags": []
   },
   "source": [
    "# both tests"
   ]
  },
  {
   "cell_type": "markdown",
   "metadata": {
    "papermill": {
     "duration": 0.041488,
     "end_time": "2021-03-07T19:37:52.616908",
     "exception": false,
     "start_time": "2021-03-07T19:37:52.575420",
     "status": "completed"
    },
    "tags": []
   },
   "source": [
    "# Symptom- Throat Pain"
   ]
  },
  {
   "cell_type": "markdown",
   "metadata": {
    "papermill": {
     "duration": 0.041677,
     "end_time": "2021-03-07T19:37:52.700352",
     "exception": false,
     "start_time": "2021-03-07T19:37:52.658675",
     "status": "completed"
    },
    "tags": []
   },
   "source": [
    "balanced dataset"
   ]
  },
  {
   "cell_type": "code",
   "execution_count": 5,
   "metadata": {
    "execution": {
     "iopub.execute_input": "2021-03-07T19:37:52.798361Z",
     "iopub.status.busy": "2021-03-07T19:37:52.793686Z",
     "iopub.status.idle": "2021-03-07T19:37:52.863950Z",
     "shell.execute_reply": "2021-03-07T19:37:52.864455Z"
    },
    "papermill": {
     "duration": 0.122419,
     "end_time": "2021-03-07T19:37:52.864616",
     "exception": false,
     "start_time": "2021-03-07T19:37:52.742197",
     "status": "completed"
    },
    "tags": []
   },
   "outputs": [
    {
     "data": {
      "text/html": [
       "<div>\n",
       "<style scoped>\n",
       "    .dataframe tbody tr th:only-of-type {\n",
       "        vertical-align: middle;\n",
       "    }\n",
       "\n",
       "    .dataframe tbody tr th {\n",
       "        vertical-align: top;\n",
       "    }\n",
       "\n",
       "    .dataframe thead th {\n",
       "        text-align: right;\n",
       "    }\n",
       "</style>\n",
       "<table border=\"1\" class=\"dataframe\">\n",
       "  <thead>\n",
       "    <tr style=\"text-align: right;\">\n",
       "      <th>Class</th>\n",
       "      <th>0</th>\n",
       "      <th>1</th>\n",
       "      <th>sum</th>\n",
       "      <th>p_t</th>\n",
       "      <th>p_p</th>\n",
       "      <th>p_n</th>\n",
       "    </tr>\n",
       "    <tr>\n",
       "      <th>Symptom- Throat Pain</th>\n",
       "      <th></th>\n",
       "      <th></th>\n",
       "      <th></th>\n",
       "      <th></th>\n",
       "      <th></th>\n",
       "      <th></th>\n",
       "    </tr>\n",
       "  </thead>\n",
       "  <tbody>\n",
       "    <tr>\n",
       "      <th>0</th>\n",
       "      <td>383</td>\n",
       "      <td>465</td>\n",
       "      <td>848</td>\n",
       "      <td>27.11</td>\n",
       "      <td>12.2442</td>\n",
       "      <td>14.8657</td>\n",
       "    </tr>\n",
       "    <tr>\n",
       "      <th>1</th>\n",
       "      <td>1181</td>\n",
       "      <td>1099</td>\n",
       "      <td>2280</td>\n",
       "      <td>72.89</td>\n",
       "      <td>37.7558</td>\n",
       "      <td>35.1343</td>\n",
       "    </tr>\n",
       "  </tbody>\n",
       "</table>\n",
       "</div>"
      ],
      "text/plain": [
       "Class                    0     1   sum    p_t      p_p      p_n\n",
       "Symptom- Throat Pain                                           \n",
       "0                      383   465   848  27.11  12.2442  14.8657\n",
       "1                     1181  1099  2280  72.89  37.7558  35.1343"
      ]
     },
     "execution_count": 5,
     "metadata": {},
     "output_type": "execute_result"
    }
   ],
   "source": [
    "set_crosstab('Symptom- Throat Pain',both_data)\n"
   ]
  },
  {
   "cell_type": "code",
   "execution_count": 6,
   "metadata": {
    "execution": {
     "iopub.execute_input": "2021-03-07T19:37:52.955117Z",
     "iopub.status.busy": "2021-03-07T19:37:52.954100Z",
     "iopub.status.idle": "2021-03-07T19:37:52.974592Z",
     "shell.execute_reply": "2021-03-07T19:37:52.973901Z"
    },
    "papermill": {
     "duration": 0.067087,
     "end_time": "2021-03-07T19:37:52.974709",
     "exception": false,
     "start_time": "2021-03-07T19:37:52.907622",
     "status": "completed"
    },
    "tags": []
   },
   "outputs": [
    {
     "name": "stdout",
     "output_type": "stream",
     "text": [
      "Dependent (reject H0)\n"
     ]
    }
   ],
   "source": [
    "test_statistic_chi2('Symptom- Throat Pain',both_data)"
   ]
  },
  {
   "cell_type": "markdown",
   "metadata": {
    "papermill": {
     "duration": 0.04278,
     "end_time": "2021-03-07T19:37:53.060688",
     "exception": false,
     "start_time": "2021-03-07T19:37:53.017908",
     "status": "completed"
    },
    "tags": []
   },
   "source": [
    "unbalanced dataset"
   ]
  },
  {
   "cell_type": "code",
   "execution_count": 7,
   "metadata": {
    "execution": {
     "iopub.execute_input": "2021-03-07T19:37:53.155450Z",
     "iopub.status.busy": "2021-03-07T19:37:53.154275Z",
     "iopub.status.idle": "2021-03-07T19:37:53.184465Z",
     "shell.execute_reply": "2021-03-07T19:37:53.185111Z"
    },
    "papermill": {
     "duration": 0.081591,
     "end_time": "2021-03-07T19:37:53.185253",
     "exception": false,
     "start_time": "2021-03-07T19:37:53.103662",
     "status": "completed"
    },
    "tags": []
   },
   "outputs": [
    {
     "data": {
      "text/html": [
       "<div>\n",
       "<style scoped>\n",
       "    .dataframe tbody tr th:only-of-type {\n",
       "        vertical-align: middle;\n",
       "    }\n",
       "\n",
       "    .dataframe tbody tr th {\n",
       "        vertical-align: top;\n",
       "    }\n",
       "\n",
       "    .dataframe thead th {\n",
       "        text-align: right;\n",
       "    }\n",
       "</style>\n",
       "<table border=\"1\" class=\"dataframe\">\n",
       "  <thead>\n",
       "    <tr style=\"text-align: right;\">\n",
       "      <th>Class</th>\n",
       "      <th>0</th>\n",
       "      <th>1</th>\n",
       "      <th>sum</th>\n",
       "      <th>p_t</th>\n",
       "      <th>p_p</th>\n",
       "      <th>p_n</th>\n",
       "    </tr>\n",
       "    <tr>\n",
       "      <th>Symptom- Throat Pain</th>\n",
       "      <th></th>\n",
       "      <th></th>\n",
       "      <th></th>\n",
       "      <th></th>\n",
       "      <th></th>\n",
       "      <th></th>\n",
       "    </tr>\n",
       "  </thead>\n",
       "  <tbody>\n",
       "    <tr>\n",
       "      <th>0</th>\n",
       "      <td>383</td>\n",
       "      <td>5593</td>\n",
       "      <td>5976</td>\n",
       "      <td>29.8487</td>\n",
       "      <td>1.91299</td>\n",
       "      <td>27.9357</td>\n",
       "    </tr>\n",
       "    <tr>\n",
       "      <th>1</th>\n",
       "      <td>1181</td>\n",
       "      <td>12864</td>\n",
       "      <td>14045</td>\n",
       "      <td>70.1513</td>\n",
       "      <td>5.89881</td>\n",
       "      <td>64.2525</td>\n",
       "    </tr>\n",
       "  </tbody>\n",
       "</table>\n",
       "</div>"
      ],
      "text/plain": [
       "Class                    0      1    sum      p_t      p_p      p_n\n",
       "Symptom- Throat Pain                                               \n",
       "0                      383   5593   5976  29.8487  1.91299  27.9357\n",
       "1                     1181  12864  14045  70.1513  5.89881  64.2525"
      ]
     },
     "execution_count": 7,
     "metadata": {},
     "output_type": "execute_result"
    }
   ],
   "source": [
    "set_crosstab('Symptom- Throat Pain',both_data_unb)"
   ]
  },
  {
   "cell_type": "code",
   "execution_count": 8,
   "metadata": {
    "execution": {
     "iopub.execute_input": "2021-03-07T19:37:53.277920Z",
     "iopub.status.busy": "2021-03-07T19:37:53.277283Z",
     "iopub.status.idle": "2021-03-07T19:37:53.296040Z",
     "shell.execute_reply": "2021-03-07T19:37:53.295388Z"
    },
    "papermill": {
     "duration": 0.067469,
     "end_time": "2021-03-07T19:37:53.296155",
     "exception": false,
     "start_time": "2021-03-07T19:37:53.228686",
     "status": "completed"
    },
    "tags": []
   },
   "outputs": [
    {
     "name": "stdout",
     "output_type": "stream",
     "text": [
      "Dependent (reject H0)\n"
     ]
    }
   ],
   "source": [
    "test_statistic_chi2('Symptom- Throat Pain',both_data_unb)\n"
   ]
  },
  {
   "cell_type": "markdown",
   "metadata": {
    "papermill": {
     "duration": 0.043621,
     "end_time": "2021-03-07T19:37:53.384529",
     "exception": false,
     "start_time": "2021-03-07T19:37:53.340908",
     "status": "completed"
    },
    "tags": []
   },
   "source": [
    "# Symptom- Dyspnea"
   ]
  },
  {
   "cell_type": "markdown",
   "metadata": {
    "papermill": {
     "duration": 0.043545,
     "end_time": "2021-03-07T19:37:53.472400",
     "exception": false,
     "start_time": "2021-03-07T19:37:53.428855",
     "status": "completed"
    },
    "tags": []
   },
   "source": [
    "balanced dataset"
   ]
  },
  {
   "cell_type": "code",
   "execution_count": 9,
   "metadata": {
    "execution": {
     "iopub.execute_input": "2021-03-07T19:37:53.570614Z",
     "iopub.status.busy": "2021-03-07T19:37:53.569903Z",
     "iopub.status.idle": "2021-03-07T19:37:53.599306Z",
     "shell.execute_reply": "2021-03-07T19:37:53.598749Z"
    },
    "papermill": {
     "duration": 0.0815,
     "end_time": "2021-03-07T19:37:53.599425",
     "exception": false,
     "start_time": "2021-03-07T19:37:53.517925",
     "status": "completed"
    },
    "tags": []
   },
   "outputs": [
    {
     "data": {
      "text/html": [
       "<div>\n",
       "<style scoped>\n",
       "    .dataframe tbody tr th:only-of-type {\n",
       "        vertical-align: middle;\n",
       "    }\n",
       "\n",
       "    .dataframe tbody tr th {\n",
       "        vertical-align: top;\n",
       "    }\n",
       "\n",
       "    .dataframe thead th {\n",
       "        text-align: right;\n",
       "    }\n",
       "</style>\n",
       "<table border=\"1\" class=\"dataframe\">\n",
       "  <thead>\n",
       "    <tr style=\"text-align: right;\">\n",
       "      <th>Class</th>\n",
       "      <th>0</th>\n",
       "      <th>1</th>\n",
       "      <th>sum</th>\n",
       "      <th>p_t</th>\n",
       "      <th>p_p</th>\n",
       "      <th>p_n</th>\n",
       "    </tr>\n",
       "    <tr>\n",
       "      <th>Symptom- Dyspnea</th>\n",
       "      <th></th>\n",
       "      <th></th>\n",
       "      <th></th>\n",
       "      <th></th>\n",
       "      <th></th>\n",
       "      <th></th>\n",
       "    </tr>\n",
       "  </thead>\n",
       "  <tbody>\n",
       "    <tr>\n",
       "      <th>0</th>\n",
       "      <td>660</td>\n",
       "      <td>422</td>\n",
       "      <td>1082</td>\n",
       "      <td>34.5908</td>\n",
       "      <td>21.0997</td>\n",
       "      <td>13.491</td>\n",
       "    </tr>\n",
       "    <tr>\n",
       "      <th>1</th>\n",
       "      <td>904</td>\n",
       "      <td>1142</td>\n",
       "      <td>2046</td>\n",
       "      <td>65.4092</td>\n",
       "      <td>28.9003</td>\n",
       "      <td>36.509</td>\n",
       "    </tr>\n",
       "  </tbody>\n",
       "</table>\n",
       "</div>"
      ],
      "text/plain": [
       "Class               0     1   sum      p_t      p_p     p_n\n",
       "Symptom- Dyspnea                                           \n",
       "0                 660   422  1082  34.5908  21.0997  13.491\n",
       "1                 904  1142  2046  65.4092  28.9003  36.509"
      ]
     },
     "execution_count": 9,
     "metadata": {},
     "output_type": "execute_result"
    }
   ],
   "source": [
    "set_crosstab('Symptom- Dyspnea',both_data)"
   ]
  },
  {
   "cell_type": "code",
   "execution_count": 10,
   "metadata": {
    "execution": {
     "iopub.execute_input": "2021-03-07T19:37:53.697654Z",
     "iopub.status.busy": "2021-03-07T19:37:53.696583Z",
     "iopub.status.idle": "2021-03-07T19:37:53.711848Z",
     "shell.execute_reply": "2021-03-07T19:37:53.712408Z"
    },
    "papermill": {
     "duration": 0.068271,
     "end_time": "2021-03-07T19:37:53.712569",
     "exception": false,
     "start_time": "2021-03-07T19:37:53.644298",
     "status": "completed"
    },
    "tags": []
   },
   "outputs": [
    {
     "name": "stdout",
     "output_type": "stream",
     "text": [
      "Dependent (reject H0)\n"
     ]
    }
   ],
   "source": [
    "test_statistic_chi2('Symptom- Dyspnea',both_data)"
   ]
  },
  {
   "cell_type": "markdown",
   "metadata": {
    "papermill": {
     "duration": 0.050859,
     "end_time": "2021-03-07T19:37:53.808651",
     "exception": false,
     "start_time": "2021-03-07T19:37:53.757792",
     "status": "completed"
    },
    "tags": []
   },
   "source": [
    "unbalanced dataset"
   ]
  },
  {
   "cell_type": "code",
   "execution_count": 11,
   "metadata": {
    "execution": {
     "iopub.execute_input": "2021-03-07T19:37:53.937710Z",
     "iopub.status.busy": "2021-03-07T19:37:53.934143Z",
     "iopub.status.idle": "2021-03-07T19:37:53.970672Z",
     "shell.execute_reply": "2021-03-07T19:37:53.969996Z"
    },
    "papermill": {
     "duration": 0.103268,
     "end_time": "2021-03-07T19:37:53.970787",
     "exception": false,
     "start_time": "2021-03-07T19:37:53.867519",
     "status": "completed"
    },
    "tags": []
   },
   "outputs": [
    {
     "data": {
      "text/html": [
       "<div>\n",
       "<style scoped>\n",
       "    .dataframe tbody tr th:only-of-type {\n",
       "        vertical-align: middle;\n",
       "    }\n",
       "\n",
       "    .dataframe tbody tr th {\n",
       "        vertical-align: top;\n",
       "    }\n",
       "\n",
       "    .dataframe thead th {\n",
       "        text-align: right;\n",
       "    }\n",
       "</style>\n",
       "<table border=\"1\" class=\"dataframe\">\n",
       "  <thead>\n",
       "    <tr style=\"text-align: right;\">\n",
       "      <th>Class</th>\n",
       "      <th>0</th>\n",
       "      <th>1</th>\n",
       "      <th>sum</th>\n",
       "      <th>p_t</th>\n",
       "      <th>p_p</th>\n",
       "      <th>p_n</th>\n",
       "    </tr>\n",
       "    <tr>\n",
       "      <th>Symptom- Dyspnea</th>\n",
       "      <th></th>\n",
       "      <th></th>\n",
       "      <th></th>\n",
       "      <th></th>\n",
       "      <th></th>\n",
       "      <th></th>\n",
       "    </tr>\n",
       "  </thead>\n",
       "  <tbody>\n",
       "    <tr>\n",
       "      <th>0</th>\n",
       "      <td>660</td>\n",
       "      <td>3044</td>\n",
       "      <td>3704</td>\n",
       "      <td>18.5006</td>\n",
       "      <td>3.29654</td>\n",
       "      <td>15.204</td>\n",
       "    </tr>\n",
       "    <tr>\n",
       "      <th>1</th>\n",
       "      <td>904</td>\n",
       "      <td>15413</td>\n",
       "      <td>16317</td>\n",
       "      <td>81.4994</td>\n",
       "      <td>4.51526</td>\n",
       "      <td>76.9842</td>\n",
       "    </tr>\n",
       "  </tbody>\n",
       "</table>\n",
       "</div>"
      ],
      "text/plain": [
       "Class               0      1    sum      p_t      p_p      p_n\n",
       "Symptom- Dyspnea                                              \n",
       "0                 660   3044   3704  18.5006  3.29654   15.204\n",
       "1                 904  15413  16317  81.4994  4.51526  76.9842"
      ]
     },
     "execution_count": 11,
     "metadata": {},
     "output_type": "execute_result"
    }
   ],
   "source": [
    "set_crosstab('Symptom- Dyspnea',both_data_unb)"
   ]
  },
  {
   "cell_type": "code",
   "execution_count": 12,
   "metadata": {
    "execution": {
     "iopub.execute_input": "2021-03-07T19:37:54.071207Z",
     "iopub.status.busy": "2021-03-07T19:37:54.070104Z",
     "iopub.status.idle": "2021-03-07T19:37:54.089211Z",
     "shell.execute_reply": "2021-03-07T19:37:54.088534Z"
    },
    "papermill": {
     "duration": 0.071157,
     "end_time": "2021-03-07T19:37:54.089325",
     "exception": false,
     "start_time": "2021-03-07T19:37:54.018168",
     "status": "completed"
    },
    "tags": []
   },
   "outputs": [
    {
     "name": "stdout",
     "output_type": "stream",
     "text": [
      "Dependent (reject H0)\n"
     ]
    }
   ],
   "source": [
    "test_statistic_chi2('Symptom- Dyspnea',both_data_unb)"
   ]
  },
  {
   "cell_type": "markdown",
   "metadata": {
    "papermill": {
     "duration": 0.045841,
     "end_time": "2021-03-07T19:37:54.181420",
     "exception": false,
     "start_time": "2021-03-07T19:37:54.135579",
     "status": "completed"
    },
    "tags": []
   },
   "source": [
    "# Symptom- Fever"
   ]
  },
  {
   "cell_type": "markdown",
   "metadata": {
    "papermill": {
     "duration": 0.04579,
     "end_time": "2021-03-07T19:37:54.273430",
     "exception": false,
     "start_time": "2021-03-07T19:37:54.227640",
     "status": "completed"
    },
    "tags": []
   },
   "source": [
    "balanced dataset"
   ]
  },
  {
   "cell_type": "code",
   "execution_count": 13,
   "metadata": {
    "execution": {
     "iopub.execute_input": "2021-03-07T19:37:54.374166Z",
     "iopub.status.busy": "2021-03-07T19:37:54.373083Z",
     "iopub.status.idle": "2021-03-07T19:37:54.402918Z",
     "shell.execute_reply": "2021-03-07T19:37:54.402255Z"
    },
    "papermill": {
     "duration": 0.083339,
     "end_time": "2021-03-07T19:37:54.403055",
     "exception": false,
     "start_time": "2021-03-07T19:37:54.319716",
     "status": "completed"
    },
    "tags": []
   },
   "outputs": [
    {
     "data": {
      "text/html": [
       "<div>\n",
       "<style scoped>\n",
       "    .dataframe tbody tr th:only-of-type {\n",
       "        vertical-align: middle;\n",
       "    }\n",
       "\n",
       "    .dataframe tbody tr th {\n",
       "        vertical-align: top;\n",
       "    }\n",
       "\n",
       "    .dataframe thead th {\n",
       "        text-align: right;\n",
       "    }\n",
       "</style>\n",
       "<table border=\"1\" class=\"dataframe\">\n",
       "  <thead>\n",
       "    <tr style=\"text-align: right;\">\n",
       "      <th>Class</th>\n",
       "      <th>0</th>\n",
       "      <th>1</th>\n",
       "      <th>sum</th>\n",
       "      <th>p_t</th>\n",
       "      <th>p_p</th>\n",
       "      <th>p_n</th>\n",
       "    </tr>\n",
       "    <tr>\n",
       "      <th>Symptom- Fever</th>\n",
       "      <th></th>\n",
       "      <th></th>\n",
       "      <th></th>\n",
       "      <th></th>\n",
       "      <th></th>\n",
       "      <th></th>\n",
       "    </tr>\n",
       "  </thead>\n",
       "  <tbody>\n",
       "    <tr>\n",
       "      <th>0</th>\n",
       "      <td>1250</td>\n",
       "      <td>606</td>\n",
       "      <td>1856</td>\n",
       "      <td>59.335</td>\n",
       "      <td>39.9616</td>\n",
       "      <td>19.3734</td>\n",
       "    </tr>\n",
       "    <tr>\n",
       "      <th>1</th>\n",
       "      <td>314</td>\n",
       "      <td>958</td>\n",
       "      <td>1272</td>\n",
       "      <td>40.665</td>\n",
       "      <td>10.0384</td>\n",
       "      <td>30.6266</td>\n",
       "    </tr>\n",
       "  </tbody>\n",
       "</table>\n",
       "</div>"
      ],
      "text/plain": [
       "Class              0    1   sum     p_t      p_p      p_n\n",
       "Symptom- Fever                                           \n",
       "0               1250  606  1856  59.335  39.9616  19.3734\n",
       "1                314  958  1272  40.665  10.0384  30.6266"
      ]
     },
     "execution_count": 13,
     "metadata": {},
     "output_type": "execute_result"
    }
   ],
   "source": [
    "set_crosstab('Symptom- Fever',both_data)"
   ]
  },
  {
   "cell_type": "code",
   "execution_count": 14,
   "metadata": {
    "execution": {
     "iopub.execute_input": "2021-03-07T19:37:54.505217Z",
     "iopub.status.busy": "2021-03-07T19:37:54.504450Z",
     "iopub.status.idle": "2021-03-07T19:37:54.521363Z",
     "shell.execute_reply": "2021-03-07T19:37:54.521880Z"
    },
    "papermill": {
     "duration": 0.071258,
     "end_time": "2021-03-07T19:37:54.522052",
     "exception": false,
     "start_time": "2021-03-07T19:37:54.450794",
     "status": "completed"
    },
    "tags": []
   },
   "outputs": [
    {
     "name": "stdout",
     "output_type": "stream",
     "text": [
      "Dependent (reject H0)\n"
     ]
    }
   ],
   "source": [
    "test_statistic_chi2('Symptom- Fever',both_data)"
   ]
  },
  {
   "cell_type": "markdown",
   "metadata": {
    "papermill": {
     "duration": 0.047335,
     "end_time": "2021-03-07T19:37:54.617251",
     "exception": false,
     "start_time": "2021-03-07T19:37:54.569916",
     "status": "completed"
    },
    "tags": []
   },
   "source": [
    "unbalanced dataset"
   ]
  },
  {
   "cell_type": "code",
   "execution_count": 15,
   "metadata": {
    "execution": {
     "iopub.execute_input": "2021-03-07T19:37:54.719190Z",
     "iopub.status.busy": "2021-03-07T19:37:54.718462Z",
     "iopub.status.idle": "2021-03-07T19:37:54.747047Z",
     "shell.execute_reply": "2021-03-07T19:37:54.746449Z"
    },
    "papermill": {
     "duration": 0.082558,
     "end_time": "2021-03-07T19:37:54.747173",
     "exception": false,
     "start_time": "2021-03-07T19:37:54.664615",
     "status": "completed"
    },
    "tags": []
   },
   "outputs": [
    {
     "data": {
      "text/html": [
       "<div>\n",
       "<style scoped>\n",
       "    .dataframe tbody tr th:only-of-type {\n",
       "        vertical-align: middle;\n",
       "    }\n",
       "\n",
       "    .dataframe tbody tr th {\n",
       "        vertical-align: top;\n",
       "    }\n",
       "\n",
       "    .dataframe thead th {\n",
       "        text-align: right;\n",
       "    }\n",
       "</style>\n",
       "<table border=\"1\" class=\"dataframe\">\n",
       "  <thead>\n",
       "    <tr style=\"text-align: right;\">\n",
       "      <th>Class</th>\n",
       "      <th>0</th>\n",
       "      <th>1</th>\n",
       "      <th>sum</th>\n",
       "      <th>p_t</th>\n",
       "      <th>p_p</th>\n",
       "      <th>p_n</th>\n",
       "    </tr>\n",
       "    <tr>\n",
       "      <th>Symptom- Fever</th>\n",
       "      <th></th>\n",
       "      <th></th>\n",
       "      <th></th>\n",
       "      <th></th>\n",
       "      <th></th>\n",
       "      <th></th>\n",
       "    </tr>\n",
       "  </thead>\n",
       "  <tbody>\n",
       "    <tr>\n",
       "      <th>0</th>\n",
       "      <td>1250</td>\n",
       "      <td>7919</td>\n",
       "      <td>9169</td>\n",
       "      <td>45.7969</td>\n",
       "      <td>6.24344</td>\n",
       "      <td>39.5535</td>\n",
       "    </tr>\n",
       "    <tr>\n",
       "      <th>1</th>\n",
       "      <td>314</td>\n",
       "      <td>10538</td>\n",
       "      <td>10852</td>\n",
       "      <td>54.2031</td>\n",
       "      <td>1.56835</td>\n",
       "      <td>52.6347</td>\n",
       "    </tr>\n",
       "  </tbody>\n",
       "</table>\n",
       "</div>"
      ],
      "text/plain": [
       "Class              0      1    sum      p_t      p_p      p_n\n",
       "Symptom- Fever                                               \n",
       "0               1250   7919   9169  45.7969  6.24344  39.5535\n",
       "1                314  10538  10852  54.2031  1.56835  52.6347"
      ]
     },
     "execution_count": 15,
     "metadata": {},
     "output_type": "execute_result"
    }
   ],
   "source": [
    "set_crosstab('Symptom- Fever',both_data_unb)"
   ]
  },
  {
   "cell_type": "code",
   "execution_count": 16,
   "metadata": {
    "execution": {
     "iopub.execute_input": "2021-03-07T19:37:54.852410Z",
     "iopub.status.busy": "2021-03-07T19:37:54.851636Z",
     "iopub.status.idle": "2021-03-07T19:37:54.868157Z",
     "shell.execute_reply": "2021-03-07T19:37:54.868734Z"
    },
    "papermill": {
     "duration": 0.072992,
     "end_time": "2021-03-07T19:37:54.868889",
     "exception": false,
     "start_time": "2021-03-07T19:37:54.795897",
     "status": "completed"
    },
    "tags": []
   },
   "outputs": [
    {
     "name": "stdout",
     "output_type": "stream",
     "text": [
      "Dependent (reject H0)\n"
     ]
    }
   ],
   "source": [
    "test_statistic_chi2('Symptom- Fever',both_data_unb)"
   ]
  },
  {
   "cell_type": "markdown",
   "metadata": {
    "papermill": {
     "duration": 0.052011,
     "end_time": "2021-03-07T19:37:54.970260",
     "exception": false,
     "start_time": "2021-03-07T19:37:54.918249",
     "status": "completed"
    },
    "tags": []
   },
   "source": [
    "# Symptom- Cough"
   ]
  },
  {
   "cell_type": "markdown",
   "metadata": {
    "papermill": {
     "duration": 0.048417,
     "end_time": "2021-03-07T19:37:55.067637",
     "exception": false,
     "start_time": "2021-03-07T19:37:55.019220",
     "status": "completed"
    },
    "tags": []
   },
   "source": [
    "balanced dataset"
   ]
  },
  {
   "cell_type": "code",
   "execution_count": 17,
   "metadata": {
    "execution": {
     "iopub.execute_input": "2021-03-07T19:37:55.173420Z",
     "iopub.status.busy": "2021-03-07T19:37:55.172686Z",
     "iopub.status.idle": "2021-03-07T19:37:55.201110Z",
     "shell.execute_reply": "2021-03-07T19:37:55.200412Z"
    },
    "papermill": {
     "duration": 0.084624,
     "end_time": "2021-03-07T19:37:55.201232",
     "exception": false,
     "start_time": "2021-03-07T19:37:55.116608",
     "status": "completed"
    },
    "tags": []
   },
   "outputs": [
    {
     "data": {
      "text/html": [
       "<div>\n",
       "<style scoped>\n",
       "    .dataframe tbody tr th:only-of-type {\n",
       "        vertical-align: middle;\n",
       "    }\n",
       "\n",
       "    .dataframe tbody tr th {\n",
       "        vertical-align: top;\n",
       "    }\n",
       "\n",
       "    .dataframe thead th {\n",
       "        text-align: right;\n",
       "    }\n",
       "</style>\n",
       "<table border=\"1\" class=\"dataframe\">\n",
       "  <thead>\n",
       "    <tr style=\"text-align: right;\">\n",
       "      <th>Class</th>\n",
       "      <th>0</th>\n",
       "      <th>1</th>\n",
       "      <th>sum</th>\n",
       "      <th>p_t</th>\n",
       "      <th>p_p</th>\n",
       "      <th>p_n</th>\n",
       "    </tr>\n",
       "    <tr>\n",
       "      <th>Symptom- Cough</th>\n",
       "      <th></th>\n",
       "      <th></th>\n",
       "      <th></th>\n",
       "      <th></th>\n",
       "      <th></th>\n",
       "      <th></th>\n",
       "    </tr>\n",
       "  </thead>\n",
       "  <tbody>\n",
       "    <tr>\n",
       "      <th>0</th>\n",
       "      <td>1017</td>\n",
       "      <td>927</td>\n",
       "      <td>1944</td>\n",
       "      <td>62.1483</td>\n",
       "      <td>32.5128</td>\n",
       "      <td>29.6355</td>\n",
       "    </tr>\n",
       "    <tr>\n",
       "      <th>1</th>\n",
       "      <td>547</td>\n",
       "      <td>637</td>\n",
       "      <td>1184</td>\n",
       "      <td>37.8517</td>\n",
       "      <td>17.4872</td>\n",
       "      <td>20.3645</td>\n",
       "    </tr>\n",
       "  </tbody>\n",
       "</table>\n",
       "</div>"
      ],
      "text/plain": [
       "Class              0    1   sum      p_t      p_p      p_n\n",
       "Symptom- Cough                                            \n",
       "0               1017  927  1944  62.1483  32.5128  29.6355\n",
       "1                547  637  1184  37.8517  17.4872  20.3645"
      ]
     },
     "execution_count": 17,
     "metadata": {},
     "output_type": "execute_result"
    }
   ],
   "source": [
    "set_crosstab('Symptom- Cough',both_data)"
   ]
  },
  {
   "cell_type": "code",
   "execution_count": 18,
   "metadata": {
    "execution": {
     "iopub.execute_input": "2021-03-07T19:37:55.307940Z",
     "iopub.status.busy": "2021-03-07T19:37:55.307198Z",
     "iopub.status.idle": "2021-03-07T19:37:55.323571Z",
     "shell.execute_reply": "2021-03-07T19:37:55.322947Z"
    },
    "papermill": {
     "duration": 0.073299,
     "end_time": "2021-03-07T19:37:55.323689",
     "exception": false,
     "start_time": "2021-03-07T19:37:55.250390",
     "status": "completed"
    },
    "tags": []
   },
   "outputs": [
    {
     "name": "stdout",
     "output_type": "stream",
     "text": [
      "Dependent (reject H0)\n"
     ]
    }
   ],
   "source": [
    "test_statistic_chi2('Symptom- Cough',both_data)"
   ]
  },
  {
   "cell_type": "markdown",
   "metadata": {
    "papermill": {
     "duration": 0.04936,
     "end_time": "2021-03-07T19:37:55.422666",
     "exception": false,
     "start_time": "2021-03-07T19:37:55.373306",
     "status": "completed"
    },
    "tags": []
   },
   "source": [
    "unbalanced dataset"
   ]
  },
  {
   "cell_type": "code",
   "execution_count": 19,
   "metadata": {
    "execution": {
     "iopub.execute_input": "2021-03-07T19:37:55.527940Z",
     "iopub.status.busy": "2021-03-07T19:37:55.526914Z",
     "iopub.status.idle": "2021-03-07T19:37:55.557516Z",
     "shell.execute_reply": "2021-03-07T19:37:55.556950Z"
    },
    "papermill": {
     "duration": 0.085486,
     "end_time": "2021-03-07T19:37:55.557623",
     "exception": false,
     "start_time": "2021-03-07T19:37:55.472137",
     "status": "completed"
    },
    "tags": []
   },
   "outputs": [
    {
     "data": {
      "text/html": [
       "<div>\n",
       "<style scoped>\n",
       "    .dataframe tbody tr th:only-of-type {\n",
       "        vertical-align: middle;\n",
       "    }\n",
       "\n",
       "    .dataframe tbody tr th {\n",
       "        vertical-align: top;\n",
       "    }\n",
       "\n",
       "    .dataframe thead th {\n",
       "        text-align: right;\n",
       "    }\n",
       "</style>\n",
       "<table border=\"1\" class=\"dataframe\">\n",
       "  <thead>\n",
       "    <tr style=\"text-align: right;\">\n",
       "      <th>Class</th>\n",
       "      <th>0</th>\n",
       "      <th>1</th>\n",
       "      <th>sum</th>\n",
       "      <th>p_t</th>\n",
       "      <th>p_p</th>\n",
       "      <th>p_n</th>\n",
       "    </tr>\n",
       "    <tr>\n",
       "      <th>Symptom- Cough</th>\n",
       "      <th></th>\n",
       "      <th></th>\n",
       "      <th></th>\n",
       "      <th></th>\n",
       "      <th></th>\n",
       "      <th></th>\n",
       "    </tr>\n",
       "  </thead>\n",
       "  <tbody>\n",
       "    <tr>\n",
       "      <th>0</th>\n",
       "      <td>1017</td>\n",
       "      <td>10624</td>\n",
       "      <td>11641</td>\n",
       "      <td>58.1439</td>\n",
       "      <td>5.07967</td>\n",
       "      <td>53.0643</td>\n",
       "    </tr>\n",
       "    <tr>\n",
       "      <th>1</th>\n",
       "      <td>547</td>\n",
       "      <td>7833</td>\n",
       "      <td>8380</td>\n",
       "      <td>41.8561</td>\n",
       "      <td>2.73213</td>\n",
       "      <td>39.1239</td>\n",
       "    </tr>\n",
       "  </tbody>\n",
       "</table>\n",
       "</div>"
      ],
      "text/plain": [
       "Class              0      1    sum      p_t      p_p      p_n\n",
       "Symptom- Cough                                               \n",
       "0               1017  10624  11641  58.1439  5.07967  53.0643\n",
       "1                547   7833   8380  41.8561  2.73213  39.1239"
      ]
     },
     "execution_count": 19,
     "metadata": {},
     "output_type": "execute_result"
    }
   ],
   "source": [
    "set_crosstab('Symptom- Cough',both_data_unb)"
   ]
  },
  {
   "cell_type": "code",
   "execution_count": 20,
   "metadata": {
    "execution": {
     "iopub.execute_input": "2021-03-07T19:37:55.719960Z",
     "iopub.status.busy": "2021-03-07T19:37:55.718920Z",
     "iopub.status.idle": "2021-03-07T19:37:55.742228Z",
     "shell.execute_reply": "2021-03-07T19:37:55.742846Z"
    },
    "papermill": {
     "duration": 0.135144,
     "end_time": "2021-03-07T19:37:55.743034",
     "exception": false,
     "start_time": "2021-03-07T19:37:55.607890",
     "status": "completed"
    },
    "tags": []
   },
   "outputs": [
    {
     "name": "stdout",
     "output_type": "stream",
     "text": [
      "Dependent (reject H0)\n"
     ]
    }
   ],
   "source": [
    "test_statistic_chi2('Symptom- Cough',both_data_unb)"
   ]
  },
  {
   "cell_type": "markdown",
   "metadata": {
    "papermill": {
     "duration": 0.057557,
     "end_time": "2021-03-07T19:37:55.854683",
     "exception": false,
     "start_time": "2021-03-07T19:37:55.797126",
     "status": "completed"
    },
    "tags": []
   },
   "source": [
    "# Symptom- Headache"
   ]
  },
  {
   "cell_type": "markdown",
   "metadata": {
    "papermill": {
     "duration": 0.062134,
     "end_time": "2021-03-07T19:37:55.968397",
     "exception": false,
     "start_time": "2021-03-07T19:37:55.906263",
     "status": "completed"
    },
    "tags": []
   },
   "source": [
    "balanced dataset"
   ]
  },
  {
   "cell_type": "code",
   "execution_count": 21,
   "metadata": {
    "execution": {
     "iopub.execute_input": "2021-03-07T19:37:56.076828Z",
     "iopub.status.busy": "2021-03-07T19:37:56.075783Z",
     "iopub.status.idle": "2021-03-07T19:37:56.106226Z",
     "shell.execute_reply": "2021-03-07T19:37:56.106791Z"
    },
    "papermill": {
     "duration": 0.085132,
     "end_time": "2021-03-07T19:37:56.106930",
     "exception": false,
     "start_time": "2021-03-07T19:37:56.021798",
     "status": "completed"
    },
    "tags": []
   },
   "outputs": [
    {
     "data": {
      "text/html": [
       "<div>\n",
       "<style scoped>\n",
       "    .dataframe tbody tr th:only-of-type {\n",
       "        vertical-align: middle;\n",
       "    }\n",
       "\n",
       "    .dataframe tbody tr th {\n",
       "        vertical-align: top;\n",
       "    }\n",
       "\n",
       "    .dataframe thead th {\n",
       "        text-align: right;\n",
       "    }\n",
       "</style>\n",
       "<table border=\"1\" class=\"dataframe\">\n",
       "  <thead>\n",
       "    <tr style=\"text-align: right;\">\n",
       "      <th>Class</th>\n",
       "      <th>0</th>\n",
       "      <th>1</th>\n",
       "      <th>sum</th>\n",
       "      <th>p_t</th>\n",
       "      <th>p_p</th>\n",
       "      <th>p_n</th>\n",
       "    </tr>\n",
       "    <tr>\n",
       "      <th>Symptom- Headache</th>\n",
       "      <th></th>\n",
       "      <th></th>\n",
       "      <th></th>\n",
       "      <th></th>\n",
       "      <th></th>\n",
       "      <th></th>\n",
       "    </tr>\n",
       "  </thead>\n",
       "  <tbody>\n",
       "    <tr>\n",
       "      <th>0</th>\n",
       "      <td>313</td>\n",
       "      <td>264</td>\n",
       "      <td>577</td>\n",
       "      <td>18.4463</td>\n",
       "      <td>10.0064</td>\n",
       "      <td>8.4399</td>\n",
       "    </tr>\n",
       "    <tr>\n",
       "      <th>1</th>\n",
       "      <td>1251</td>\n",
       "      <td>1300</td>\n",
       "      <td>2551</td>\n",
       "      <td>81.5537</td>\n",
       "      <td>39.9936</td>\n",
       "      <td>41.5601</td>\n",
       "    </tr>\n",
       "  </tbody>\n",
       "</table>\n",
       "</div>"
      ],
      "text/plain": [
       "Class                 0     1   sum      p_t      p_p      p_n\n",
       "Symptom- Headache                                             \n",
       "0                   313   264   577  18.4463  10.0064   8.4399\n",
       "1                  1251  1300  2551  81.5537  39.9936  41.5601"
      ]
     },
     "execution_count": 21,
     "metadata": {},
     "output_type": "execute_result"
    }
   ],
   "source": [
    "set_crosstab('Symptom- Headache',both_data)"
   ]
  },
  {
   "cell_type": "code",
   "execution_count": 22,
   "metadata": {
    "execution": {
     "iopub.execute_input": "2021-03-07T19:37:56.215097Z",
     "iopub.status.busy": "2021-03-07T19:37:56.214083Z",
     "iopub.status.idle": "2021-03-07T19:37:56.232555Z",
     "shell.execute_reply": "2021-03-07T19:37:56.231950Z"
    },
    "papermill": {
     "duration": 0.07357,
     "end_time": "2021-03-07T19:37:56.232666",
     "exception": false,
     "start_time": "2021-03-07T19:37:56.159096",
     "status": "completed"
    },
    "tags": []
   },
   "outputs": [
    {
     "name": "stdout",
     "output_type": "stream",
     "text": [
      "Independent (fail to reject H0)\n"
     ]
    }
   ],
   "source": [
    "test_statistic_chi2('Symptom- Headache',both_data)"
   ]
  },
  {
   "cell_type": "markdown",
   "metadata": {
    "papermill": {
     "duration": 0.052146,
     "end_time": "2021-03-07T19:37:56.336749",
     "exception": false,
     "start_time": "2021-03-07T19:37:56.284603",
     "status": "completed"
    },
    "tags": []
   },
   "source": [
    "unbalanced dataset"
   ]
  },
  {
   "cell_type": "code",
   "execution_count": 23,
   "metadata": {
    "execution": {
     "iopub.execute_input": "2021-03-07T19:37:56.452135Z",
     "iopub.status.busy": "2021-03-07T19:37:56.450030Z",
     "iopub.status.idle": "2021-03-07T19:37:56.482119Z",
     "shell.execute_reply": "2021-03-07T19:37:56.481561Z"
    },
    "papermill": {
     "duration": 0.093307,
     "end_time": "2021-03-07T19:37:56.482241",
     "exception": false,
     "start_time": "2021-03-07T19:37:56.388934",
     "status": "completed"
    },
    "tags": []
   },
   "outputs": [
    {
     "data": {
      "text/html": [
       "<div>\n",
       "<style scoped>\n",
       "    .dataframe tbody tr th:only-of-type {\n",
       "        vertical-align: middle;\n",
       "    }\n",
       "\n",
       "    .dataframe tbody tr th {\n",
       "        vertical-align: top;\n",
       "    }\n",
       "\n",
       "    .dataframe thead th {\n",
       "        text-align: right;\n",
       "    }\n",
       "</style>\n",
       "<table border=\"1\" class=\"dataframe\">\n",
       "  <thead>\n",
       "    <tr style=\"text-align: right;\">\n",
       "      <th>Class</th>\n",
       "      <th>0</th>\n",
       "      <th>1</th>\n",
       "      <th>sum</th>\n",
       "      <th>p_t</th>\n",
       "      <th>p_p</th>\n",
       "      <th>p_n</th>\n",
       "    </tr>\n",
       "    <tr>\n",
       "      <th>Symptom- Headache</th>\n",
       "      <th></th>\n",
       "      <th></th>\n",
       "      <th></th>\n",
       "      <th></th>\n",
       "      <th></th>\n",
       "      <th></th>\n",
       "    </tr>\n",
       "  </thead>\n",
       "  <tbody>\n",
       "    <tr>\n",
       "      <th>0</th>\n",
       "      <td>313</td>\n",
       "      <td>3721</td>\n",
       "      <td>4034</td>\n",
       "      <td>20.1488</td>\n",
       "      <td>1.56336</td>\n",
       "      <td>18.5855</td>\n",
       "    </tr>\n",
       "    <tr>\n",
       "      <th>1</th>\n",
       "      <td>1251</td>\n",
       "      <td>14736</td>\n",
       "      <td>15987</td>\n",
       "      <td>79.8512</td>\n",
       "      <td>6.24844</td>\n",
       "      <td>73.6027</td>\n",
       "    </tr>\n",
       "  </tbody>\n",
       "</table>\n",
       "</div>"
      ],
      "text/plain": [
       "Class                 0      1    sum      p_t      p_p      p_n\n",
       "Symptom- Headache                                               \n",
       "0                   313   3721   4034  20.1488  1.56336  18.5855\n",
       "1                  1251  14736  15987  79.8512  6.24844  73.6027"
      ]
     },
     "execution_count": 23,
     "metadata": {},
     "output_type": "execute_result"
    }
   ],
   "source": [
    "set_crosstab('Symptom- Headache',both_data_unb)"
   ]
  },
  {
   "cell_type": "code",
   "execution_count": 24,
   "metadata": {
    "execution": {
     "iopub.execute_input": "2021-03-07T19:37:56.593258Z",
     "iopub.status.busy": "2021-03-07T19:37:56.592544Z",
     "iopub.status.idle": "2021-03-07T19:37:56.609526Z",
     "shell.execute_reply": "2021-03-07T19:37:56.610203Z"
    },
    "papermill": {
     "duration": 0.075536,
     "end_time": "2021-03-07T19:37:56.610411",
     "exception": false,
     "start_time": "2021-03-07T19:37:56.534875",
     "status": "completed"
    },
    "tags": []
   },
   "outputs": [
    {
     "name": "stdout",
     "output_type": "stream",
     "text": [
      "Independent (fail to reject H0)\n"
     ]
    }
   ],
   "source": [
    "test_statistic_chi2('Symptom- Headache',both_data_unb)"
   ]
  },
  {
   "cell_type": "markdown",
   "metadata": {
    "papermill": {
     "duration": 0.053687,
     "end_time": "2021-03-07T19:37:56.717467",
     "exception": false,
     "start_time": "2021-03-07T19:37:56.663780",
     "status": "completed"
    },
    "tags": []
   },
   "source": [
    "# Symptom- Taste Disorders"
   ]
  },
  {
   "cell_type": "markdown",
   "metadata": {
    "papermill": {
     "duration": 0.053291,
     "end_time": "2021-03-07T19:37:56.824082",
     "exception": false,
     "start_time": "2021-03-07T19:37:56.770791",
     "status": "completed"
    },
    "tags": []
   },
   "source": [
    "balanced dataset"
   ]
  },
  {
   "cell_type": "code",
   "execution_count": 25,
   "metadata": {
    "execution": {
     "iopub.execute_input": "2021-03-07T19:37:56.935221Z",
     "iopub.status.busy": "2021-03-07T19:37:56.934456Z",
     "iopub.status.idle": "2021-03-07T19:37:56.965590Z",
     "shell.execute_reply": "2021-03-07T19:37:56.964834Z"
    },
    "papermill": {
     "duration": 0.08807,
     "end_time": "2021-03-07T19:37:56.965707",
     "exception": false,
     "start_time": "2021-03-07T19:37:56.877637",
     "status": "completed"
    },
    "tags": []
   },
   "outputs": [
    {
     "data": {
      "text/html": [
       "<div>\n",
       "<style scoped>\n",
       "    .dataframe tbody tr th:only-of-type {\n",
       "        vertical-align: middle;\n",
       "    }\n",
       "\n",
       "    .dataframe tbody tr th {\n",
       "        vertical-align: top;\n",
       "    }\n",
       "\n",
       "    .dataframe thead th {\n",
       "        text-align: right;\n",
       "    }\n",
       "</style>\n",
       "<table border=\"1\" class=\"dataframe\">\n",
       "  <thead>\n",
       "    <tr style=\"text-align: right;\">\n",
       "      <th>Class</th>\n",
       "      <th>0</th>\n",
       "      <th>1</th>\n",
       "      <th>sum</th>\n",
       "      <th>p_t</th>\n",
       "      <th>p_p</th>\n",
       "      <th>p_n</th>\n",
       "    </tr>\n",
       "    <tr>\n",
       "      <th>Symptom- Taste Disorders</th>\n",
       "      <th></th>\n",
       "      <th></th>\n",
       "      <th></th>\n",
       "      <th></th>\n",
       "      <th></th>\n",
       "      <th></th>\n",
       "    </tr>\n",
       "  </thead>\n",
       "  <tbody>\n",
       "    <tr>\n",
       "      <th>0</th>\n",
       "      <td>265</td>\n",
       "      <td>122</td>\n",
       "      <td>387</td>\n",
       "      <td>12.3721</td>\n",
       "      <td>8.47187</td>\n",
       "      <td>3.90026</td>\n",
       "    </tr>\n",
       "    <tr>\n",
       "      <th>1</th>\n",
       "      <td>1299</td>\n",
       "      <td>1442</td>\n",
       "      <td>2741</td>\n",
       "      <td>87.6279</td>\n",
       "      <td>41.5281</td>\n",
       "      <td>46.0997</td>\n",
       "    </tr>\n",
       "  </tbody>\n",
       "</table>\n",
       "</div>"
      ],
      "text/plain": [
       "Class                        0     1   sum      p_t      p_p      p_n\n",
       "Symptom- Taste Disorders                                             \n",
       "0                          265   122   387  12.3721  8.47187  3.90026\n",
       "1                         1299  1442  2741  87.6279  41.5281  46.0997"
      ]
     },
     "execution_count": 25,
     "metadata": {},
     "output_type": "execute_result"
    }
   ],
   "source": [
    "set_crosstab('Symptom- Taste Disorders',both_data)"
   ]
  },
  {
   "cell_type": "code",
   "execution_count": 26,
   "metadata": {
    "execution": {
     "iopub.execute_input": "2021-03-07T19:37:57.078389Z",
     "iopub.status.busy": "2021-03-07T19:37:57.077355Z",
     "iopub.status.idle": "2021-03-07T19:37:57.097924Z",
     "shell.execute_reply": "2021-03-07T19:37:57.098745Z"
    },
    "papermill": {
     "duration": 0.07879,
     "end_time": "2021-03-07T19:37:57.098947",
     "exception": false,
     "start_time": "2021-03-07T19:37:57.020157",
     "status": "completed"
    },
    "tags": []
   },
   "outputs": [
    {
     "name": "stdout",
     "output_type": "stream",
     "text": [
      "Dependent (reject H0)\n"
     ]
    }
   ],
   "source": [
    "test_statistic_chi2('Symptom- Taste Disorders',both_data)"
   ]
  },
  {
   "cell_type": "markdown",
   "metadata": {
    "papermill": {
     "duration": 0.054905,
     "end_time": "2021-03-07T19:37:57.208485",
     "exception": false,
     "start_time": "2021-03-07T19:37:57.153580",
     "status": "completed"
    },
    "tags": []
   },
   "source": [
    "unbalanced dataset"
   ]
  },
  {
   "cell_type": "code",
   "execution_count": 27,
   "metadata": {
    "execution": {
     "iopub.execute_input": "2021-03-07T19:37:57.322568Z",
     "iopub.status.busy": "2021-03-07T19:37:57.320007Z",
     "iopub.status.idle": "2021-03-07T19:37:57.353942Z",
     "shell.execute_reply": "2021-03-07T19:37:57.353405Z"
    },
    "papermill": {
     "duration": 0.091474,
     "end_time": "2021-03-07T19:37:57.354080",
     "exception": false,
     "start_time": "2021-03-07T19:37:57.262606",
     "status": "completed"
    },
    "tags": []
   },
   "outputs": [
    {
     "data": {
      "text/html": [
       "<div>\n",
       "<style scoped>\n",
       "    .dataframe tbody tr th:only-of-type {\n",
       "        vertical-align: middle;\n",
       "    }\n",
       "\n",
       "    .dataframe tbody tr th {\n",
       "        vertical-align: top;\n",
       "    }\n",
       "\n",
       "    .dataframe thead th {\n",
       "        text-align: right;\n",
       "    }\n",
       "</style>\n",
       "<table border=\"1\" class=\"dataframe\">\n",
       "  <thead>\n",
       "    <tr style=\"text-align: right;\">\n",
       "      <th>Class</th>\n",
       "      <th>0</th>\n",
       "      <th>1</th>\n",
       "      <th>sum</th>\n",
       "      <th>p_t</th>\n",
       "      <th>p_p</th>\n",
       "      <th>p_n</th>\n",
       "    </tr>\n",
       "    <tr>\n",
       "      <th>Symptom- Taste Disorders</th>\n",
       "      <th></th>\n",
       "      <th></th>\n",
       "      <th></th>\n",
       "      <th></th>\n",
       "      <th></th>\n",
       "      <th></th>\n",
       "    </tr>\n",
       "  </thead>\n",
       "  <tbody>\n",
       "    <tr>\n",
       "      <th>0</th>\n",
       "      <td>265</td>\n",
       "      <td>1331</td>\n",
       "      <td>1596</td>\n",
       "      <td>7.97163</td>\n",
       "      <td>1.32361</td>\n",
       "      <td>6.64802</td>\n",
       "    </tr>\n",
       "    <tr>\n",
       "      <th>1</th>\n",
       "      <td>1299</td>\n",
       "      <td>17126</td>\n",
       "      <td>18425</td>\n",
       "      <td>92.0284</td>\n",
       "      <td>6.48819</td>\n",
       "      <td>85.5402</td>\n",
       "    </tr>\n",
       "  </tbody>\n",
       "</table>\n",
       "</div>"
      ],
      "text/plain": [
       "Class                        0      1    sum      p_t      p_p      p_n\n",
       "Symptom- Taste Disorders                                               \n",
       "0                          265   1331   1596  7.97163  1.32361  6.64802\n",
       "1                         1299  17126  18425  92.0284  6.48819  85.5402"
      ]
     },
     "execution_count": 27,
     "metadata": {},
     "output_type": "execute_result"
    }
   ],
   "source": [
    "set_crosstab('Symptom- Taste Disorders',both_data_unb)"
   ]
  },
  {
   "cell_type": "code",
   "execution_count": 28,
   "metadata": {
    "execution": {
     "iopub.execute_input": "2021-03-07T19:37:57.471761Z",
     "iopub.status.busy": "2021-03-07T19:37:57.470592Z",
     "iopub.status.idle": "2021-03-07T19:37:57.488325Z",
     "shell.execute_reply": "2021-03-07T19:37:57.487709Z"
    },
    "papermill": {
     "duration": 0.079642,
     "end_time": "2021-03-07T19:37:57.488445",
     "exception": false,
     "start_time": "2021-03-07T19:37:57.408803",
     "status": "completed"
    },
    "tags": []
   },
   "outputs": [
    {
     "name": "stdout",
     "output_type": "stream",
     "text": [
      "Dependent (reject H0)\n"
     ]
    }
   ],
   "source": [
    "test_statistic_chi2('Symptom- Taste Disorders',both_data_unb)"
   ]
  },
  {
   "cell_type": "markdown",
   "metadata": {
    "papermill": {
     "duration": 0.056535,
     "end_time": "2021-03-07T19:37:57.601712",
     "exception": false,
     "start_time": "2021-03-07T19:37:57.545177",
     "status": "completed"
    },
    "tags": []
   },
   "source": [
    "# Symptom- Olfactory Disorders"
   ]
  },
  {
   "cell_type": "markdown",
   "metadata": {
    "papermill": {
     "duration": 0.056352,
     "end_time": "2021-03-07T19:37:57.714595",
     "exception": false,
     "start_time": "2021-03-07T19:37:57.658243",
     "status": "completed"
    },
    "tags": []
   },
   "source": [
    "balanced dataset"
   ]
  },
  {
   "cell_type": "code",
   "execution_count": 29,
   "metadata": {
    "execution": {
     "iopub.execute_input": "2021-03-07T19:37:57.829134Z",
     "iopub.status.busy": "2021-03-07T19:37:57.828428Z",
     "iopub.status.idle": "2021-03-07T19:37:57.858872Z",
     "shell.execute_reply": "2021-03-07T19:37:57.858352Z"
    },
    "papermill": {
     "duration": 0.088823,
     "end_time": "2021-03-07T19:37:57.859015",
     "exception": false,
     "start_time": "2021-03-07T19:37:57.770192",
     "status": "completed"
    },
    "tags": []
   },
   "outputs": [
    {
     "data": {
      "text/html": [
       "<div>\n",
       "<style scoped>\n",
       "    .dataframe tbody tr th:only-of-type {\n",
       "        vertical-align: middle;\n",
       "    }\n",
       "\n",
       "    .dataframe tbody tr th {\n",
       "        vertical-align: top;\n",
       "    }\n",
       "\n",
       "    .dataframe thead th {\n",
       "        text-align: right;\n",
       "    }\n",
       "</style>\n",
       "<table border=\"1\" class=\"dataframe\">\n",
       "  <thead>\n",
       "    <tr style=\"text-align: right;\">\n",
       "      <th>Class</th>\n",
       "      <th>0</th>\n",
       "      <th>1</th>\n",
       "      <th>sum</th>\n",
       "      <th>p_t</th>\n",
       "      <th>p_p</th>\n",
       "      <th>p_n</th>\n",
       "    </tr>\n",
       "    <tr>\n",
       "      <th>Symptom- Olfactory Disorders</th>\n",
       "      <th></th>\n",
       "      <th></th>\n",
       "      <th></th>\n",
       "      <th></th>\n",
       "      <th></th>\n",
       "      <th></th>\n",
       "    </tr>\n",
       "  </thead>\n",
       "  <tbody>\n",
       "    <tr>\n",
       "      <th>0</th>\n",
       "      <td>383</td>\n",
       "      <td>139</td>\n",
       "      <td>522</td>\n",
       "      <td>16.688</td>\n",
       "      <td>12.2442</td>\n",
       "      <td>4.44373</td>\n",
       "    </tr>\n",
       "    <tr>\n",
       "      <th>1</th>\n",
       "      <td>1181</td>\n",
       "      <td>1425</td>\n",
       "      <td>2606</td>\n",
       "      <td>83.312</td>\n",
       "      <td>37.7558</td>\n",
       "      <td>45.5563</td>\n",
       "    </tr>\n",
       "  </tbody>\n",
       "</table>\n",
       "</div>"
      ],
      "text/plain": [
       "Class                            0     1   sum     p_t      p_p      p_n\n",
       "Symptom- Olfactory Disorders                                            \n",
       "0                              383   139   522  16.688  12.2442  4.44373\n",
       "1                             1181  1425  2606  83.312  37.7558  45.5563"
      ]
     },
     "execution_count": 29,
     "metadata": {},
     "output_type": "execute_result"
    }
   ],
   "source": [
    "set_crosstab('Symptom- Olfactory Disorders',both_data)"
   ]
  },
  {
   "cell_type": "code",
   "execution_count": 30,
   "metadata": {
    "execution": {
     "iopub.execute_input": "2021-03-07T19:37:57.981624Z",
     "iopub.status.busy": "2021-03-07T19:37:57.980903Z",
     "iopub.status.idle": "2021-03-07T19:37:57.995983Z",
     "shell.execute_reply": "2021-03-07T19:37:57.996563Z"
    },
    "papermill": {
     "duration": 0.080479,
     "end_time": "2021-03-07T19:37:57.996714",
     "exception": false,
     "start_time": "2021-03-07T19:37:57.916235",
     "status": "completed"
    },
    "tags": []
   },
   "outputs": [
    {
     "name": "stdout",
     "output_type": "stream",
     "text": [
      "Dependent (reject H0)\n"
     ]
    }
   ],
   "source": [
    "test_statistic_chi2('Symptom- Olfactory Disorders',both_data)"
   ]
  },
  {
   "cell_type": "markdown",
   "metadata": {
    "papermill": {
     "duration": 0.056941,
     "end_time": "2021-03-07T19:37:58.111135",
     "exception": false,
     "start_time": "2021-03-07T19:37:58.054194",
     "status": "completed"
    },
    "tags": []
   },
   "source": [
    "unbalanced dataset"
   ]
  },
  {
   "cell_type": "code",
   "execution_count": 31,
   "metadata": {
    "execution": {
     "iopub.execute_input": "2021-03-07T19:37:58.231484Z",
     "iopub.status.busy": "2021-03-07T19:37:58.230255Z",
     "iopub.status.idle": "2021-03-07T19:37:58.260907Z",
     "shell.execute_reply": "2021-03-07T19:37:58.260234Z"
    },
    "papermill": {
     "duration": 0.093254,
     "end_time": "2021-03-07T19:37:58.261057",
     "exception": false,
     "start_time": "2021-03-07T19:37:58.167803",
     "status": "completed"
    },
    "tags": []
   },
   "outputs": [
    {
     "data": {
      "text/html": [
       "<div>\n",
       "<style scoped>\n",
       "    .dataframe tbody tr th:only-of-type {\n",
       "        vertical-align: middle;\n",
       "    }\n",
       "\n",
       "    .dataframe tbody tr th {\n",
       "        vertical-align: top;\n",
       "    }\n",
       "\n",
       "    .dataframe thead th {\n",
       "        text-align: right;\n",
       "    }\n",
       "</style>\n",
       "<table border=\"1\" class=\"dataframe\">\n",
       "  <thead>\n",
       "    <tr style=\"text-align: right;\">\n",
       "      <th>Class</th>\n",
       "      <th>0</th>\n",
       "      <th>1</th>\n",
       "      <th>sum</th>\n",
       "      <th>p_t</th>\n",
       "      <th>p_p</th>\n",
       "      <th>p_n</th>\n",
       "    </tr>\n",
       "    <tr>\n",
       "      <th>Symptom- Olfactory Disorders</th>\n",
       "      <th></th>\n",
       "      <th></th>\n",
       "      <th></th>\n",
       "      <th></th>\n",
       "      <th></th>\n",
       "      <th></th>\n",
       "    </tr>\n",
       "  </thead>\n",
       "  <tbody>\n",
       "    <tr>\n",
       "      <th>0</th>\n",
       "      <td>383</td>\n",
       "      <td>1584</td>\n",
       "      <td>1967</td>\n",
       "      <td>9.82468</td>\n",
       "      <td>1.91299</td>\n",
       "      <td>7.91169</td>\n",
       "    </tr>\n",
       "    <tr>\n",
       "      <th>1</th>\n",
       "      <td>1181</td>\n",
       "      <td>16873</td>\n",
       "      <td>18054</td>\n",
       "      <td>90.1753</td>\n",
       "      <td>5.89881</td>\n",
       "      <td>84.2765</td>\n",
       "    </tr>\n",
       "  </tbody>\n",
       "</table>\n",
       "</div>"
      ],
      "text/plain": [
       "Class                            0      1    sum      p_t      p_p      p_n\n",
       "Symptom- Olfactory Disorders                                               \n",
       "0                              383   1584   1967  9.82468  1.91299  7.91169\n",
       "1                             1181  16873  18054  90.1753  5.89881  84.2765"
      ]
     },
     "execution_count": 31,
     "metadata": {},
     "output_type": "execute_result"
    }
   ],
   "source": [
    "set_crosstab('Symptom- Olfactory Disorders',both_data_unb)"
   ]
  },
  {
   "cell_type": "code",
   "execution_count": 32,
   "metadata": {
    "execution": {
     "iopub.execute_input": "2021-03-07T19:37:58.381419Z",
     "iopub.status.busy": "2021-03-07T19:37:58.380349Z",
     "iopub.status.idle": "2021-03-07T19:37:58.398541Z",
     "shell.execute_reply": "2021-03-07T19:37:58.399042Z"
    },
    "papermill": {
     "duration": 0.081014,
     "end_time": "2021-03-07T19:37:58.399195",
     "exception": false,
     "start_time": "2021-03-07T19:37:58.318181",
     "status": "completed"
    },
    "tags": []
   },
   "outputs": [
    {
     "name": "stdout",
     "output_type": "stream",
     "text": [
      "Dependent (reject H0)\n"
     ]
    }
   ],
   "source": [
    "test_statistic_chi2('Symptom- Olfactory Disorders',both_data_unb)"
   ]
  },
  {
   "cell_type": "markdown",
   "metadata": {
    "papermill": {
     "duration": 0.057222,
     "end_time": "2021-03-07T19:37:58.513649",
     "exception": false,
     "start_time": "2021-03-07T19:37:58.456427",
     "status": "completed"
    },
    "tags": []
   },
   "source": [
    "# Symptom- Coryza"
   ]
  },
  {
   "cell_type": "markdown",
   "metadata": {
    "papermill": {
     "duration": 0.05727,
     "end_time": "2021-03-07T19:37:58.628410",
     "exception": false,
     "start_time": "2021-03-07T19:37:58.571140",
     "status": "completed"
    },
    "tags": []
   },
   "source": [
    "balanced dataset"
   ]
  },
  {
   "cell_type": "code",
   "execution_count": 33,
   "metadata": {
    "execution": {
     "iopub.execute_input": "2021-03-07T19:37:58.750831Z",
     "iopub.status.busy": "2021-03-07T19:37:58.750166Z",
     "iopub.status.idle": "2021-03-07T19:37:58.777905Z",
     "shell.execute_reply": "2021-03-07T19:37:58.777288Z"
    },
    "papermill": {
     "duration": 0.092345,
     "end_time": "2021-03-07T19:37:58.778036",
     "exception": false,
     "start_time": "2021-03-07T19:37:58.685691",
     "status": "completed"
    },
    "tags": []
   },
   "outputs": [
    {
     "data": {
      "text/html": [
       "<div>\n",
       "<style scoped>\n",
       "    .dataframe tbody tr th:only-of-type {\n",
       "        vertical-align: middle;\n",
       "    }\n",
       "\n",
       "    .dataframe tbody tr th {\n",
       "        vertical-align: top;\n",
       "    }\n",
       "\n",
       "    .dataframe thead th {\n",
       "        text-align: right;\n",
       "    }\n",
       "</style>\n",
       "<table border=\"1\" class=\"dataframe\">\n",
       "  <thead>\n",
       "    <tr style=\"text-align: right;\">\n",
       "      <th>Class</th>\n",
       "      <th>0</th>\n",
       "      <th>1</th>\n",
       "      <th>sum</th>\n",
       "      <th>p_t</th>\n",
       "      <th>p_p</th>\n",
       "      <th>p_n</th>\n",
       "    </tr>\n",
       "    <tr>\n",
       "      <th>Symptom- Coryza</th>\n",
       "      <th></th>\n",
       "      <th></th>\n",
       "      <th></th>\n",
       "      <th></th>\n",
       "      <th></th>\n",
       "      <th></th>\n",
       "    </tr>\n",
       "  </thead>\n",
       "  <tbody>\n",
       "    <tr>\n",
       "      <th>0</th>\n",
       "      <td>184</td>\n",
       "      <td>82</td>\n",
       "      <td>266</td>\n",
       "      <td>8.50384</td>\n",
       "      <td>5.88235</td>\n",
       "      <td>2.62148</td>\n",
       "    </tr>\n",
       "    <tr>\n",
       "      <th>1</th>\n",
       "      <td>1380</td>\n",
       "      <td>1482</td>\n",
       "      <td>2862</td>\n",
       "      <td>91.4962</td>\n",
       "      <td>44.1176</td>\n",
       "      <td>47.3785</td>\n",
       "    </tr>\n",
       "  </tbody>\n",
       "</table>\n",
       "</div>"
      ],
      "text/plain": [
       "Class               0     1   sum      p_t      p_p      p_n\n",
       "Symptom- Coryza                                             \n",
       "0                 184    82   266  8.50384  5.88235  2.62148\n",
       "1                1380  1482  2862  91.4962  44.1176  47.3785"
      ]
     },
     "execution_count": 33,
     "metadata": {},
     "output_type": "execute_result"
    }
   ],
   "source": [
    "set_crosstab('Symptom- Coryza',both_data)"
   ]
  },
  {
   "cell_type": "code",
   "execution_count": 34,
   "metadata": {
    "execution": {
     "iopub.execute_input": "2021-03-07T19:37:58.901825Z",
     "iopub.status.busy": "2021-03-07T19:37:58.900841Z",
     "iopub.status.idle": "2021-03-07T19:37:58.915721Z",
     "shell.execute_reply": "2021-03-07T19:37:58.915030Z"
    },
    "papermill": {
     "duration": 0.07964,
     "end_time": "2021-03-07T19:37:58.915833",
     "exception": false,
     "start_time": "2021-03-07T19:37:58.836193",
     "status": "completed"
    },
    "tags": []
   },
   "outputs": [
    {
     "name": "stdout",
     "output_type": "stream",
     "text": [
      "Dependent (reject H0)\n"
     ]
    }
   ],
   "source": [
    "test_statistic_chi2('Symptom- Coryza',both_data)"
   ]
  },
  {
   "cell_type": "markdown",
   "metadata": {
    "papermill": {
     "duration": 0.058889,
     "end_time": "2021-03-07T19:37:59.033409",
     "exception": false,
     "start_time": "2021-03-07T19:37:58.974520",
     "status": "completed"
    },
    "tags": []
   },
   "source": [
    "unbalanced dataset"
   ]
  },
  {
   "cell_type": "code",
   "execution_count": 35,
   "metadata": {
    "execution": {
     "iopub.execute_input": "2021-03-07T19:37:59.155931Z",
     "iopub.status.busy": "2021-03-07T19:37:59.155279Z",
     "iopub.status.idle": "2021-03-07T19:37:59.185143Z",
     "shell.execute_reply": "2021-03-07T19:37:59.184441Z"
    },
    "papermill": {
     "duration": 0.093346,
     "end_time": "2021-03-07T19:37:59.185261",
     "exception": false,
     "start_time": "2021-03-07T19:37:59.091915",
     "status": "completed"
    },
    "tags": []
   },
   "outputs": [
    {
     "data": {
      "text/html": [
       "<div>\n",
       "<style scoped>\n",
       "    .dataframe tbody tr th:only-of-type {\n",
       "        vertical-align: middle;\n",
       "    }\n",
       "\n",
       "    .dataframe tbody tr th {\n",
       "        vertical-align: top;\n",
       "    }\n",
       "\n",
       "    .dataframe thead th {\n",
       "        text-align: right;\n",
       "    }\n",
       "</style>\n",
       "<table border=\"1\" class=\"dataframe\">\n",
       "  <thead>\n",
       "    <tr style=\"text-align: right;\">\n",
       "      <th>Class</th>\n",
       "      <th>0</th>\n",
       "      <th>1</th>\n",
       "      <th>sum</th>\n",
       "      <th>p_t</th>\n",
       "      <th>p_p</th>\n",
       "      <th>p_n</th>\n",
       "    </tr>\n",
       "    <tr>\n",
       "      <th>Symptom- Coryza</th>\n",
       "      <th></th>\n",
       "      <th></th>\n",
       "      <th></th>\n",
       "      <th></th>\n",
       "      <th></th>\n",
       "      <th></th>\n",
       "    </tr>\n",
       "  </thead>\n",
       "  <tbody>\n",
       "    <tr>\n",
       "      <th>0</th>\n",
       "      <td>184</td>\n",
       "      <td>975</td>\n",
       "      <td>1159</td>\n",
       "      <td>5.78892</td>\n",
       "      <td>0.919035</td>\n",
       "      <td>4.86989</td>\n",
       "    </tr>\n",
       "    <tr>\n",
       "      <th>1</th>\n",
       "      <td>1380</td>\n",
       "      <td>17482</td>\n",
       "      <td>18862</td>\n",
       "      <td>94.2111</td>\n",
       "      <td>6.89276</td>\n",
       "      <td>87.3183</td>\n",
       "    </tr>\n",
       "  </tbody>\n",
       "</table>\n",
       "</div>"
      ],
      "text/plain": [
       "Class               0      1    sum      p_t       p_p      p_n\n",
       "Symptom- Coryza                                                \n",
       "0                 184    975   1159  5.78892  0.919035  4.86989\n",
       "1                1380  17482  18862  94.2111   6.89276  87.3183"
      ]
     },
     "execution_count": 35,
     "metadata": {},
     "output_type": "execute_result"
    }
   ],
   "source": [
    "set_crosstab('Symptom- Coryza',both_data_unb)"
   ]
  },
  {
   "cell_type": "code",
   "execution_count": 36,
   "metadata": {
    "execution": {
     "iopub.execute_input": "2021-03-07T19:37:59.311017Z",
     "iopub.status.busy": "2021-03-07T19:37:59.310226Z",
     "iopub.status.idle": "2021-03-07T19:37:59.327021Z",
     "shell.execute_reply": "2021-03-07T19:37:59.326455Z"
    },
    "papermill": {
     "duration": 0.082756,
     "end_time": "2021-03-07T19:37:59.327145",
     "exception": false,
     "start_time": "2021-03-07T19:37:59.244389",
     "status": "completed"
    },
    "tags": []
   },
   "outputs": [
    {
     "name": "stdout",
     "output_type": "stream",
     "text": [
      "Dependent (reject H0)\n"
     ]
    }
   ],
   "source": [
    "test_statistic_chi2('Symptom- Coryza',both_data_unb)"
   ]
  },
  {
   "cell_type": "markdown",
   "metadata": {
    "papermill": {
     "duration": 0.059196,
     "end_time": "2021-03-07T19:37:59.446124",
     "exception": false,
     "start_time": "2021-03-07T19:37:59.386928",
     "status": "completed"
    },
    "tags": []
   },
   "source": [
    "# Gender"
   ]
  },
  {
   "cell_type": "markdown",
   "metadata": {
    "papermill": {
     "duration": 0.05955,
     "end_time": "2021-03-07T19:37:59.565138",
     "exception": false,
     "start_time": "2021-03-07T19:37:59.505588",
     "status": "completed"
    },
    "tags": []
   },
   "source": [
    "balanced dataset"
   ]
  },
  {
   "cell_type": "code",
   "execution_count": 37,
   "metadata": {
    "execution": {
     "iopub.execute_input": "2021-03-07T19:37:59.692470Z",
     "iopub.status.busy": "2021-03-07T19:37:59.691707Z",
     "iopub.status.idle": "2021-03-07T19:37:59.720111Z",
     "shell.execute_reply": "2021-03-07T19:37:59.719528Z"
    },
    "papermill": {
     "duration": 0.095511,
     "end_time": "2021-03-07T19:37:59.720228",
     "exception": false,
     "start_time": "2021-03-07T19:37:59.624717",
     "status": "completed"
    },
    "tags": []
   },
   "outputs": [
    {
     "data": {
      "text/html": [
       "<div>\n",
       "<style scoped>\n",
       "    .dataframe tbody tr th:only-of-type {\n",
       "        vertical-align: middle;\n",
       "    }\n",
       "\n",
       "    .dataframe tbody tr th {\n",
       "        vertical-align: top;\n",
       "    }\n",
       "\n",
       "    .dataframe thead th {\n",
       "        text-align: right;\n",
       "    }\n",
       "</style>\n",
       "<table border=\"1\" class=\"dataframe\">\n",
       "  <thead>\n",
       "    <tr style=\"text-align: right;\">\n",
       "      <th>Class</th>\n",
       "      <th>0</th>\n",
       "      <th>1</th>\n",
       "      <th>sum</th>\n",
       "      <th>p_t</th>\n",
       "      <th>p_p</th>\n",
       "      <th>p_n</th>\n",
       "    </tr>\n",
       "    <tr>\n",
       "      <th>Gender</th>\n",
       "      <th></th>\n",
       "      <th></th>\n",
       "      <th></th>\n",
       "      <th></th>\n",
       "      <th></th>\n",
       "      <th></th>\n",
       "    </tr>\n",
       "  </thead>\n",
       "  <tbody>\n",
       "    <tr>\n",
       "      <th>0</th>\n",
       "      <td>496</td>\n",
       "      <td>993</td>\n",
       "      <td>1489</td>\n",
       "      <td>47.6023</td>\n",
       "      <td>15.8568</td>\n",
       "      <td>31.7455</td>\n",
       "    </tr>\n",
       "    <tr>\n",
       "      <th>1</th>\n",
       "      <td>1068</td>\n",
       "      <td>571</td>\n",
       "      <td>1639</td>\n",
       "      <td>52.3977</td>\n",
       "      <td>34.1432</td>\n",
       "      <td>18.2545</td>\n",
       "    </tr>\n",
       "  </tbody>\n",
       "</table>\n",
       "</div>"
      ],
      "text/plain": [
       "Class      0    1   sum      p_t      p_p      p_n\n",
       "Gender                                            \n",
       "0        496  993  1489  47.6023  15.8568  31.7455\n",
       "1       1068  571  1639  52.3977  34.1432  18.2545"
      ]
     },
     "execution_count": 37,
     "metadata": {},
     "output_type": "execute_result"
    }
   ],
   "source": [
    "set_crosstab('Gender',both_data)"
   ]
  },
  {
   "cell_type": "code",
   "execution_count": 38,
   "metadata": {
    "execution": {
     "iopub.execute_input": "2021-03-07T19:37:59.852861Z",
     "iopub.status.busy": "2021-03-07T19:37:59.847307Z",
     "iopub.status.idle": "2021-03-07T19:37:59.863090Z",
     "shell.execute_reply": "2021-03-07T19:37:59.863578Z"
    },
    "papermill": {
     "duration": 0.083506,
     "end_time": "2021-03-07T19:37:59.863730",
     "exception": false,
     "start_time": "2021-03-07T19:37:59.780224",
     "status": "completed"
    },
    "tags": []
   },
   "outputs": [
    {
     "name": "stdout",
     "output_type": "stream",
     "text": [
      "Dependent (reject H0)\n"
     ]
    }
   ],
   "source": [
    "test_statistic_chi2('Gender',both_data)"
   ]
  },
  {
   "cell_type": "markdown",
   "metadata": {
    "papermill": {
     "duration": 0.061902,
     "end_time": "2021-03-07T19:37:59.986354",
     "exception": false,
     "start_time": "2021-03-07T19:37:59.924452",
     "status": "completed"
    },
    "tags": []
   },
   "source": [
    "unbalanced dataset"
   ]
  },
  {
   "cell_type": "code",
   "execution_count": 39,
   "metadata": {
    "execution": {
     "iopub.execute_input": "2021-03-07T19:38:00.116785Z",
     "iopub.status.busy": "2021-03-07T19:38:00.114827Z",
     "iopub.status.idle": "2021-03-07T19:38:00.146915Z",
     "shell.execute_reply": "2021-03-07T19:38:00.146221Z"
    },
    "papermill": {
     "duration": 0.09887,
     "end_time": "2021-03-07T19:38:00.147049",
     "exception": false,
     "start_time": "2021-03-07T19:38:00.048179",
     "status": "completed"
    },
    "tags": []
   },
   "outputs": [
    {
     "data": {
      "text/html": [
       "<div>\n",
       "<style scoped>\n",
       "    .dataframe tbody tr th:only-of-type {\n",
       "        vertical-align: middle;\n",
       "    }\n",
       "\n",
       "    .dataframe tbody tr th {\n",
       "        vertical-align: top;\n",
       "    }\n",
       "\n",
       "    .dataframe thead th {\n",
       "        text-align: right;\n",
       "    }\n",
       "</style>\n",
       "<table border=\"1\" class=\"dataframe\">\n",
       "  <thead>\n",
       "    <tr style=\"text-align: right;\">\n",
       "      <th>Class</th>\n",
       "      <th>0</th>\n",
       "      <th>1</th>\n",
       "      <th>sum</th>\n",
       "      <th>p_t</th>\n",
       "      <th>p_p</th>\n",
       "      <th>p_n</th>\n",
       "    </tr>\n",
       "    <tr>\n",
       "      <th>Gender</th>\n",
       "      <th></th>\n",
       "      <th></th>\n",
       "      <th></th>\n",
       "      <th></th>\n",
       "      <th></th>\n",
       "      <th></th>\n",
       "    </tr>\n",
       "  </thead>\n",
       "  <tbody>\n",
       "    <tr>\n",
       "      <th>0</th>\n",
       "      <td>496</td>\n",
       "      <td>10606</td>\n",
       "      <td>11102</td>\n",
       "      <td>55.4518</td>\n",
       "      <td>2.4774</td>\n",
       "      <td>52.9744</td>\n",
       "    </tr>\n",
       "    <tr>\n",
       "      <th>1</th>\n",
       "      <td>1068</td>\n",
       "      <td>7851</td>\n",
       "      <td>8919</td>\n",
       "      <td>44.5482</td>\n",
       "      <td>5.3344</td>\n",
       "      <td>39.2138</td>\n",
       "    </tr>\n",
       "  </tbody>\n",
       "</table>\n",
       "</div>"
      ],
      "text/plain": [
       "Class      0      1    sum      p_t     p_p      p_n\n",
       "Gender                                              \n",
       "0        496  10606  11102  55.4518  2.4774  52.9744\n",
       "1       1068   7851   8919  44.5482  5.3344  39.2138"
      ]
     },
     "execution_count": 39,
     "metadata": {},
     "output_type": "execute_result"
    }
   ],
   "source": [
    "set_crosstab('Gender',both_data_unb)"
   ]
  },
  {
   "cell_type": "code",
   "execution_count": 40,
   "metadata": {
    "execution": {
     "iopub.execute_input": "2021-03-07T19:38:00.277508Z",
     "iopub.status.busy": "2021-03-07T19:38:00.276334Z",
     "iopub.status.idle": "2021-03-07T19:38:00.293879Z",
     "shell.execute_reply": "2021-03-07T19:38:00.292781Z"
    },
    "papermill": {
     "duration": 0.085635,
     "end_time": "2021-03-07T19:38:00.294102",
     "exception": false,
     "start_time": "2021-03-07T19:38:00.208467",
     "status": "completed"
    },
    "tags": []
   },
   "outputs": [
    {
     "name": "stdout",
     "output_type": "stream",
     "text": [
      "Dependent (reject H0)\n"
     ]
    }
   ],
   "source": [
    "test_statistic_chi2('Gender',both_data_unb)"
   ]
  },
  {
   "cell_type": "markdown",
   "metadata": {
    "papermill": {
     "duration": 0.061406,
     "end_time": "2021-03-07T19:38:00.417626",
     "exception": false,
     "start_time": "2021-03-07T19:38:00.356220",
     "status": "completed"
    },
    "tags": []
   },
   "source": [
    "# Are you a health professional?"
   ]
  },
  {
   "cell_type": "markdown",
   "metadata": {
    "papermill": {
     "duration": 0.060933,
     "end_time": "2021-03-07T19:38:00.539776",
     "exception": false,
     "start_time": "2021-03-07T19:38:00.478843",
     "status": "completed"
    },
    "tags": []
   },
   "source": [
    "balanced dataset"
   ]
  },
  {
   "cell_type": "code",
   "execution_count": 41,
   "metadata": {
    "execution": {
     "iopub.execute_input": "2021-03-07T19:38:00.670192Z",
     "iopub.status.busy": "2021-03-07T19:38:00.669324Z",
     "iopub.status.idle": "2021-03-07T19:38:00.699123Z",
     "shell.execute_reply": "2021-03-07T19:38:00.698486Z"
    },
    "papermill": {
     "duration": 0.097779,
     "end_time": "2021-03-07T19:38:00.699242",
     "exception": false,
     "start_time": "2021-03-07T19:38:00.601463",
     "status": "completed"
    },
    "tags": []
   },
   "outputs": [
    {
     "data": {
      "text/html": [
       "<div>\n",
       "<style scoped>\n",
       "    .dataframe tbody tr th:only-of-type {\n",
       "        vertical-align: middle;\n",
       "    }\n",
       "\n",
       "    .dataframe tbody tr th {\n",
       "        vertical-align: top;\n",
       "    }\n",
       "\n",
       "    .dataframe thead th {\n",
       "        text-align: right;\n",
       "    }\n",
       "</style>\n",
       "<table border=\"1\" class=\"dataframe\">\n",
       "  <thead>\n",
       "    <tr style=\"text-align: right;\">\n",
       "      <th>Class</th>\n",
       "      <th>0</th>\n",
       "      <th>1</th>\n",
       "      <th>sum</th>\n",
       "      <th>p_t</th>\n",
       "      <th>p_p</th>\n",
       "      <th>p_n</th>\n",
       "    </tr>\n",
       "    <tr>\n",
       "      <th>Are you a health professional?</th>\n",
       "      <th></th>\n",
       "      <th></th>\n",
       "      <th></th>\n",
       "      <th></th>\n",
       "      <th></th>\n",
       "      <th></th>\n",
       "    </tr>\n",
       "  </thead>\n",
       "  <tbody>\n",
       "    <tr>\n",
       "      <th>0.0</th>\n",
       "      <td>124</td>\n",
       "      <td>351</td>\n",
       "      <td>475</td>\n",
       "      <td>15.1854</td>\n",
       "      <td>3.96419</td>\n",
       "      <td>11.2212</td>\n",
       "    </tr>\n",
       "    <tr>\n",
       "      <th>1.0</th>\n",
       "      <td>1440</td>\n",
       "      <td>1213</td>\n",
       "      <td>2653</td>\n",
       "      <td>84.8146</td>\n",
       "      <td>46.0358</td>\n",
       "      <td>38.7788</td>\n",
       "    </tr>\n",
       "  </tbody>\n",
       "</table>\n",
       "</div>"
      ],
      "text/plain": [
       "Class                              0     1   sum      p_t      p_p      p_n\n",
       "Are you a health professional?                                             \n",
       "0.0                              124   351   475  15.1854  3.96419  11.2212\n",
       "1.0                             1440  1213  2653  84.8146  46.0358  38.7788"
      ]
     },
     "execution_count": 41,
     "metadata": {},
     "output_type": "execute_result"
    }
   ],
   "source": [
    "set_crosstab('Are you a health professional?',both_data)"
   ]
  },
  {
   "cell_type": "code",
   "execution_count": 42,
   "metadata": {
    "execution": {
     "iopub.execute_input": "2021-03-07T19:38:00.836910Z",
     "iopub.status.busy": "2021-03-07T19:38:00.831574Z",
     "iopub.status.idle": "2021-03-07T19:38:00.849469Z",
     "shell.execute_reply": "2021-03-07T19:38:00.850301Z"
    },
    "papermill": {
     "duration": 0.08904,
     "end_time": "2021-03-07T19:38:00.850506",
     "exception": false,
     "start_time": "2021-03-07T19:38:00.761466",
     "status": "completed"
    },
    "tags": []
   },
   "outputs": [
    {
     "name": "stdout",
     "output_type": "stream",
     "text": [
      "Dependent (reject H0)\n"
     ]
    }
   ],
   "source": [
    "test_statistic_chi2('Are you a health professional?',both_data)"
   ]
  },
  {
   "cell_type": "markdown",
   "metadata": {
    "papermill": {
     "duration": 0.063889,
     "end_time": "2021-03-07T19:38:00.978050",
     "exception": false,
     "start_time": "2021-03-07T19:38:00.914161",
     "status": "completed"
    },
    "tags": []
   },
   "source": [
    "unbalanced dataset"
   ]
  },
  {
   "cell_type": "code",
   "execution_count": 43,
   "metadata": {
    "execution": {
     "iopub.execute_input": "2021-03-07T19:38:01.114242Z",
     "iopub.status.busy": "2021-03-07T19:38:01.113198Z",
     "iopub.status.idle": "2021-03-07T19:38:01.145705Z",
     "shell.execute_reply": "2021-03-07T19:38:01.145170Z"
    },
    "papermill": {
     "duration": 0.102436,
     "end_time": "2021-03-07T19:38:01.145821",
     "exception": false,
     "start_time": "2021-03-07T19:38:01.043385",
     "status": "completed"
    },
    "tags": []
   },
   "outputs": [
    {
     "data": {
      "text/html": [
       "<div>\n",
       "<style scoped>\n",
       "    .dataframe tbody tr th:only-of-type {\n",
       "        vertical-align: middle;\n",
       "    }\n",
       "\n",
       "    .dataframe tbody tr th {\n",
       "        vertical-align: top;\n",
       "    }\n",
       "\n",
       "    .dataframe thead th {\n",
       "        text-align: right;\n",
       "    }\n",
       "</style>\n",
       "<table border=\"1\" class=\"dataframe\">\n",
       "  <thead>\n",
       "    <tr style=\"text-align: right;\">\n",
       "      <th>Class</th>\n",
       "      <th>0</th>\n",
       "      <th>1</th>\n",
       "      <th>sum</th>\n",
       "      <th>p_t</th>\n",
       "      <th>p_p</th>\n",
       "      <th>p_n</th>\n",
       "    </tr>\n",
       "    <tr>\n",
       "      <th>Are you a health professional?</th>\n",
       "      <th></th>\n",
       "      <th></th>\n",
       "      <th></th>\n",
       "      <th></th>\n",
       "      <th></th>\n",
       "      <th></th>\n",
       "    </tr>\n",
       "  </thead>\n",
       "  <tbody>\n",
       "    <tr>\n",
       "      <th>0</th>\n",
       "      <td>124</td>\n",
       "      <td>2361</td>\n",
       "      <td>2485</td>\n",
       "      <td>12.412</td>\n",
       "      <td>0.61935</td>\n",
       "      <td>11.7926</td>\n",
       "    </tr>\n",
       "    <tr>\n",
       "      <th>1</th>\n",
       "      <td>1440</td>\n",
       "      <td>16096</td>\n",
       "      <td>17536</td>\n",
       "      <td>87.588</td>\n",
       "      <td>7.19245</td>\n",
       "      <td>80.3956</td>\n",
       "    </tr>\n",
       "  </tbody>\n",
       "</table>\n",
       "</div>"
      ],
      "text/plain": [
       "Class                              0      1    sum     p_t      p_p      p_n\n",
       "Are you a health professional?                                              \n",
       "0                                124   2361   2485  12.412  0.61935  11.7926\n",
       "1                               1440  16096  17536  87.588  7.19245  80.3956"
      ]
     },
     "execution_count": 43,
     "metadata": {},
     "output_type": "execute_result"
    }
   ],
   "source": [
    "set_crosstab('Are you a health professional?',both_data_unb)"
   ]
  },
  {
   "cell_type": "code",
   "execution_count": 44,
   "metadata": {
    "execution": {
     "iopub.execute_input": "2021-03-07T19:38:01.278653Z",
     "iopub.status.busy": "2021-03-07T19:38:01.277583Z",
     "iopub.status.idle": "2021-03-07T19:38:01.296233Z",
     "shell.execute_reply": "2021-03-07T19:38:01.295503Z"
    },
    "papermill": {
     "duration": 0.087038,
     "end_time": "2021-03-07T19:38:01.296348",
     "exception": false,
     "start_time": "2021-03-07T19:38:01.209310",
     "status": "completed"
    },
    "tags": []
   },
   "outputs": [
    {
     "name": "stdout",
     "output_type": "stream",
     "text": [
      "Dependent (reject H0)\n"
     ]
    }
   ],
   "source": [
    "test_statistic_chi2('Are you a health professional?',both_data_unb)"
   ]
  }
 ],
 "metadata": {
  "kernelspec": {
   "display_name": "Python 3",
   "language": "python",
   "name": "python3"
  },
  "language_info": {
   "codemirror_mode": {
    "name": "ipython",
    "version": 3
   },
   "file_extension": ".py",
   "mimetype": "text/x-python",
   "name": "python",
   "nbconvert_exporter": "python",
   "pygments_lexer": "ipython3",
   "version": "3.7.6"
  },
  "papermill": {
   "duration": 15.526177,
   "end_time": "2021-03-07T19:38:01.468776",
   "environment_variables": {},
   "exception": null,
   "input_path": "__notebook__.ipynb",
   "output_path": "__notebook__.ipynb",
   "parameters": {},
   "start_time": "2021-03-07T19:37:45.942599",
   "version": "2.1.0"
  }
 },
 "nbformat": 4,
 "nbformat_minor": 4
}
