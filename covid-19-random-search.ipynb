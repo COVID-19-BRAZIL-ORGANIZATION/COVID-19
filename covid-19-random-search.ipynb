{
 "cells": [
  {
   "cell_type": "code",
   "execution_count": 1,
   "metadata": {
    "_cell_guid": "b1076dfc-b9ad-4769-8c92-a6c4dae69d19",
    "_uuid": "8f2839f25d086af736a60e9eeb907d3b93b6e0e5",
    "execution": {
     "iopub.execute_input": "2021-03-07T20:34:29.959874Z",
     "iopub.status.busy": "2021-03-07T20:34:29.959158Z",
     "iopub.status.idle": "2021-03-07T20:34:31.927552Z",
     "shell.execute_reply": "2021-03-07T20:34:31.928267Z"
    },
    "papermill": {
     "duration": 1.986157,
     "end_time": "2021-03-07T20:34:31.928632",
     "exception": false,
     "start_time": "2021-03-07T20:34:29.942475",
     "status": "completed"
    },
    "tags": []
   },
   "outputs": [
    {
     "name": "stdout",
     "output_type": "stream",
     "text": [
      "/kaggle/input/covid19final-dataset/both_test_unbalanced.csv\n",
      "/kaggle/input/covid19final-dataset/pcr_unbalanced.csv\n",
      "/kaggle/input/covid19final-dataset/rapid_balanced.csv\n",
      "/kaggle/input/covid19final-dataset/both_test_balanced.csv\n",
      "/kaggle/input/covid19final-dataset/rapid_unbalanced.csv\n",
      "/kaggle/input/covid19final-dataset/pcr_balanced.csv\n"
     ]
    }
   ],
   "source": [
    "# This Python 3 environment comes with many helpful analytics libraries installed\n",
    "# It is defined by the kaggle/python Docker image: https://github.com/kaggle/docker-python\n",
    "# For example, here's several helpful packages to load\n",
    "\n",
    "import numpy as np # linear algebra\n",
    "import pandas as pd # data processing, CSV file I/O (e.g. pd.read_csv)\n",
    "from sklearn.model_selection import train_test_split\n",
    "from sklearn.preprocessing import OrdinalEncoder\n",
    "from sklearn.metrics import accuracy_score\n",
    "from sklearn import tree\n",
    "from sklearn.ensemble import RandomForestClassifier\n",
    "from sklearn.metrics import accuracy_score\n",
    "from sklearn.model_selection import KFold\n",
    "from sklearn.model_selection import RepeatedKFold\n",
    "from sklearn import svm\n",
    "from sklearn.metrics import accuracy_score\n",
    "from sklearn.metrics import confusion_matrix\n",
    "from sklearn.metrics import mean_absolute_error\n",
    "from sklearn.metrics import precision_score\n",
    "from sklearn import metrics\n",
    "from sklearn.metrics import precision_recall_curve\n",
    "from sklearn.model_selection import RepeatedStratifiedKFold\n",
    "from sklearn.ensemble import GradientBoostingClassifier\n",
    "from sklearn.datasets import make_classification\n",
    "import xgboost as xgb\n",
    "from sklearn.neural_network import MLPClassifier\n",
    "from sklearn.neighbors import KNeighborsClassifier\n",
    "import matplotlib.pyplot as plt\n",
    "import pickle\n",
    "from sklearn.metrics import brier_score_loss\n",
    "from sklearn.model_selection import GridSearchCV\n",
    "from sklearn.model_selection import RandomizedSearchCV\n",
    "from pprint import pprint\n",
    "from sklearn.linear_model import LogisticRegression\n",
    "from sklearn.ensemble import VotingClassifier \n",
    "# Input data files are available in the read-only \"../input/\" directory\n",
    "# For example, running this (by clicking run or pressing Shift+Enter) will list all files under the input directory\n",
    "\n",
    "import os\n",
    "for dirname, _, filenames in os.walk('/kaggle/input'):\n",
    "    for filename in filenames:\n",
    "        print(os.path.join(dirname, filename))\n",
    "\n",
    "# You can write up to 20GB to the current directory (/kaggle/working/) that gets preserved as output when you create a version using \"Save & Run All\" \n",
    "# You can also write temporary files to /kaggle/temp/, but they won't be saved outside of the current session"
   ]
  },
  {
   "cell_type": "code",
   "execution_count": 2,
   "metadata": {
    "execution": {
     "iopub.execute_input": "2021-03-07T20:34:31.968812Z",
     "iopub.status.busy": "2021-03-07T20:34:31.967632Z",
     "iopub.status.idle": "2021-03-07T20:34:32.080124Z",
     "shell.execute_reply": "2021-03-07T20:34:32.081064Z"
    },
    "papermill": {
     "duration": 0.138496,
     "end_time": "2021-03-07T20:34:32.081365",
     "exception": false,
     "start_time": "2021-03-07T20:34:31.942869",
     "status": "completed"
    },
    "tags": []
   },
   "outputs": [],
   "source": [
    "data_both= pd.read_csv(\"/kaggle/input/covid19final-dataset/both_test_balanced.csv\")\n",
    "data_both=data_both.astype(int)\n",
    "\n",
    "\n",
    "both_data_unb = pd.read_csv(\"/kaggle/input/covid19final-dataset/both_test_unbalanced.csv\")\n",
    "\n",
    "\n",
    "\n",
    "data_rapid = pd.read_csv(\"/kaggle/input/covid19final-dataset/rapid_balanced.csv\")\n",
    "data_rapid=data_rapid.astype(int)\n",
    "\n",
    "data_rapid_unb = pd.read_csv(\"/kaggle/input/covid19final-dataset/rapid_unbalanced.csv\")\n",
    "data_rapid_unb=data_rapid_unb.astype(int)\n",
    "\n",
    "\n",
    "data_pcr= pd.read_csv(\"/kaggle/input/covid19final-dataset/pcr_balanced.csv\")\n",
    "data_pcr=data_pcr.astype(int)\n",
    "\n",
    "data_pcr_unb= pd.read_csv(\"/kaggle/input/covid19final-dataset/pcr_unbalanced.csv\")\n",
    "data_pcr_unb=data_pcr_unb.astype(int)\n",
    "\n",
    "#choose data\n",
    "\n",
    "x,y=data_pcr.iloc[:,0:9],data_pcr['Class']"
   ]
  },
  {
   "cell_type": "code",
   "execution_count": 3,
   "metadata": {
    "execution": {
     "iopub.execute_input": "2021-03-07T20:34:32.119097Z",
     "iopub.status.busy": "2021-03-07T20:34:32.118367Z",
     "iopub.status.idle": "2021-03-07T20:34:32.121698Z",
     "shell.execute_reply": "2021-03-07T20:34:32.121168Z"
    },
    "papermill": {
     "duration": 0.022907,
     "end_time": "2021-03-07T20:34:32.121874",
     "exception": false,
     "start_time": "2021-03-07T20:34:32.098967",
     "status": "completed"
    },
    "tags": []
   },
   "outputs": [],
   "source": [
    "def run_random_search(x,y,model,params,n):\n",
    "    cv=RepeatedStratifiedKFold(n_splits=10, n_repeats=n, random_state=42)\n",
    "    #Making models with hyper parameters sets\n",
    "    random_search =  RandomizedSearchCV(model,params,cv=cv ,n_jobs=-1,verbose=2)\n",
    "    #Learning\n",
    "    result=random_search.fit(x,y)\n",
    "    print('Best Score: %s' % result.best_score_)\n",
    "    print('Best Hyperparameters: %s' % result.best_params_)"
   ]
  },
  {
   "cell_type": "markdown",
   "metadata": {
    "papermill": {
     "duration": 0.012087,
     "end_time": "2021-03-07T20:34:32.146692",
     "exception": false,
     "start_time": "2021-03-07T20:34:32.134605",
     "status": "completed"
    },
    "tags": []
   },
   "source": [
    "RANDOM FOREST"
   ]
  },
  {
   "cell_type": "code",
   "execution_count": 4,
   "metadata": {
    "execution": {
     "iopub.execute_input": "2021-03-07T20:34:32.178574Z",
     "iopub.status.busy": "2021-03-07T20:34:32.177833Z",
     "iopub.status.idle": "2021-03-07T20:34:32.181125Z",
     "shell.execute_reply": "2021-03-07T20:34:32.180462Z"
    },
    "papermill": {
     "duration": 0.021956,
     "end_time": "2021-03-07T20:34:32.181281",
     "exception": false,
     "start_time": "2021-03-07T20:34:32.159325",
     "status": "completed"
    },
    "tags": []
   },
   "outputs": [],
   "source": [
    "#x,y=data_both.iloc[:,0:9],data_both['Class']\n",
    "#x,y=both_data_unb.iloc[:,0:9],both_data_unb['Class']\n",
    "\n",
    "#making the instance\n",
    "model= RandomForestClassifier()\n",
    "params = {'bootstrap': [True,False],\n",
    "        'max_depth': [80, 90, 100, 110],\n",
    "        'max_features': [2, 3],\n",
    "        'min_samples_leaf': [3, 4, 5],\n",
    "        'min_samples_split': [8, 10, 12],\n",
    "        'n_estimators': [100, 200, 300, 1000]}\n",
    "#run_random_search(x,y,model,params,5)\n",
    "\n"
   ]
  },
  {
   "cell_type": "markdown",
   "metadata": {
    "papermill": {
     "duration": 0.01219,
     "end_time": "2021-03-07T20:34:32.206272",
     "exception": false,
     "start_time": "2021-03-07T20:34:32.194082",
     "status": "completed"
    },
    "tags": []
   },
   "source": [
    "DECISION TREE"
   ]
  },
  {
   "cell_type": "code",
   "execution_count": 5,
   "metadata": {
    "execution": {
     "iopub.execute_input": "2021-03-07T20:34:32.239158Z",
     "iopub.status.busy": "2021-03-07T20:34:32.238292Z",
     "iopub.status.idle": "2021-03-07T20:34:32.242294Z",
     "shell.execute_reply": "2021-03-07T20:34:32.242759Z"
    },
    "papermill": {
     "duration": 0.024057,
     "end_time": "2021-03-07T20:34:32.242946",
     "exception": false,
     "start_time": "2021-03-07T20:34:32.218889",
     "status": "completed"
    },
    "tags": []
   },
   "outputs": [],
   "source": [
    "#making the instance\n",
    "model= tree.DecisionTreeClassifier()\n",
    "params = {'max_features': ['auto', 'sqrt', 'log2',None],\n",
    "          'min_samples_split': [2,3,4,5,6,7,8,9,10,11,12,13,14,15], \n",
    "          'min_samples_leaf':[1,2,3,4,5,6,7,8,9,10,11],\n",
    "          'random_state':[0,1,42,None],\n",
    "          'max_depth': [80, 90, 100, 110,None]}\n",
    "\n",
    "#run_random_search(x,y,model,params,5)"
   ]
  },
  {
   "cell_type": "markdown",
   "metadata": {
    "papermill": {
     "duration": 0.012454,
     "end_time": "2021-03-07T20:34:32.268600",
     "exception": false,
     "start_time": "2021-03-07T20:34:32.256146",
     "status": "completed"
    },
    "tags": []
   },
   "source": [
    "SVM"
   ]
  },
  {
   "cell_type": "code",
   "execution_count": 6,
   "metadata": {
    "execution": {
     "iopub.execute_input": "2021-03-07T20:34:32.300833Z",
     "iopub.status.busy": "2021-03-07T20:34:32.299834Z",
     "iopub.status.idle": "2021-03-07T20:34:32.303681Z",
     "shell.execute_reply": "2021-03-07T20:34:32.302987Z"
    },
    "papermill": {
     "duration": 0.022434,
     "end_time": "2021-03-07T20:34:32.303844",
     "exception": false,
     "start_time": "2021-03-07T20:34:32.281410",
     "status": "completed"
    },
    "tags": []
   },
   "outputs": [],
   "source": [
    "\n",
    "#making the instance\n",
    "model= svm.SVC()\n",
    "\n",
    "params = {'C': [6,7,8,9,10,11,12], \n",
    "          'kernel': ['linear','rbf']}\n",
    "\n",
    "\n",
    "#run_random_search(x,y,model,params,5)"
   ]
  },
  {
   "cell_type": "markdown",
   "metadata": {
    "papermill": {
     "duration": 0.012516,
     "end_time": "2021-03-07T20:34:32.329594",
     "exception": false,
     "start_time": "2021-03-07T20:34:32.317078",
     "status": "completed"
    },
    "tags": []
   },
   "source": [
    "KNN"
   ]
  },
  {
   "cell_type": "code",
   "execution_count": 7,
   "metadata": {
    "execution": {
     "iopub.execute_input": "2021-03-07T20:34:32.363638Z",
     "iopub.status.busy": "2021-03-07T20:34:32.362771Z",
     "iopub.status.idle": "2021-03-07T20:34:32.365004Z",
     "shell.execute_reply": "2021-03-07T20:34:32.365519Z"
    },
    "papermill": {
     "duration": 0.021877,
     "end_time": "2021-03-07T20:34:32.365707",
     "exception": false,
     "start_time": "2021-03-07T20:34:32.343830",
     "status": "completed"
    },
    "tags": []
   },
   "outputs": [],
   "source": [
    "\n",
    "#making the instance\n",
    "model=  KNeighborsClassifier()\n",
    "\n",
    "params = {'n_neighbors':[5,6,7,8,9,10,15],\n",
    "          'leaf_size':[1,2,3,5,30],\n",
    "          'weights':['uniform', 'distance'],\n",
    "          'algorithm':['auto', 'ball_tree','kd_tree','brute'],\n",
    "          'n_jobs':[-1,None]}\n",
    "\n",
    "#run_random_search(x,y,model,params,5)"
   ]
  },
  {
   "cell_type": "markdown",
   "metadata": {
    "papermill": {
     "duration": 0.012696,
     "end_time": "2021-03-07T20:34:32.391809",
     "exception": false,
     "start_time": "2021-03-07T20:34:32.379113",
     "status": "completed"
    },
    "tags": []
   },
   "source": [
    "XGBOOST"
   ]
  },
  {
   "cell_type": "code",
   "execution_count": 8,
   "metadata": {
    "execution": {
     "iopub.execute_input": "2021-03-07T20:34:32.422393Z",
     "iopub.status.busy": "2021-03-07T20:34:32.421634Z",
     "iopub.status.idle": "2021-03-07T20:34:32.429637Z",
     "shell.execute_reply": "2021-03-07T20:34:32.428988Z"
    },
    "papermill": {
     "duration": 0.024494,
     "end_time": "2021-03-07T20:34:32.429795",
     "exception": false,
     "start_time": "2021-03-07T20:34:32.405301",
     "status": "completed"
    },
    "tags": []
   },
   "outputs": [
    {
     "data": {
      "text/plain": [
       "\"\\n#making the instance\\nmodel=  xgb.XGBClassifier()\\nparams = {\\n          'max_depth':[9,5,10,80,100],\\n          'min_child_weight':[1,2,3],\\n          'eta':[.1, .05, .01, .005,.2,.3],\\n        'n_estimators': [100,300,500,1000]}\\nx,y=data_both.iloc[:,0:9],data_both['Class']\\nrun_random_search(x,y,model,params)\\n\""
      ]
     },
     "execution_count": 8,
     "metadata": {},
     "output_type": "execute_result"
    }
   ],
   "source": [
    "'''\n",
    "#making the instance\n",
    "model=  xgb.XGBClassifier()\n",
    "params = {\n",
    "          'max_depth':[9,5,10,80,100],\n",
    "          'min_child_weight':[1,2,3],\n",
    "          'eta':[.1, .05, .01, .005,.2,.3],\n",
    "        'n_estimators': [100,300,500,1000]}\n",
    "x,y=data_both.iloc[:,0:9],data_both['Class']\n",
    "run_random_search(x,y,model,params)\n",
    "'''"
   ]
  },
  {
   "cell_type": "markdown",
   "metadata": {
    "papermill": {
     "duration": 0.014109,
     "end_time": "2021-03-07T20:34:32.457529",
     "exception": false,
     "start_time": "2021-03-07T20:34:32.443420",
     "status": "completed"
    },
    "tags": []
   },
   "source": [
    "GBC"
   ]
  },
  {
   "cell_type": "code",
   "execution_count": 9,
   "metadata": {
    "execution": {
     "iopub.execute_input": "2021-03-07T20:34:32.492872Z",
     "iopub.status.busy": "2021-03-07T20:34:32.492011Z",
     "iopub.status.idle": "2021-03-07T20:34:32.495030Z",
     "shell.execute_reply": "2021-03-07T20:34:32.494508Z"
    },
    "papermill": {
     "duration": 0.023764,
     "end_time": "2021-03-07T20:34:32.495181",
     "exception": false,
     "start_time": "2021-03-07T20:34:32.471417",
     "status": "completed"
    },
    "tags": []
   },
   "outputs": [],
   "source": [
    "#making the instance\n",
    "model= GradientBoostingClassifier()\n",
    "params = {'max_features': ['auto', 'sqrt', 'log2',None],\n",
    "          'min_samples_split': [2,3,4,5,6,7,8,9,10,11,12,13,14,15], \n",
    "          'min_samples_leaf':[1,2,3,4,5,6,7,8,9,10,11],\n",
    "          'random_state':[0,1,42,None],\n",
    "          'max_depth': [5,10,20,80,100,None],\n",
    "         'n_estimators': [100, 300, 500,1000]}\n",
    "                                        \n",
    "\n",
    "#run_random_search(x,y,model,params,1)"
   ]
  },
  {
   "cell_type": "markdown",
   "metadata": {
    "papermill": {
     "duration": 0.013479,
     "end_time": "2021-03-07T20:34:32.522454",
     "exception": false,
     "start_time": "2021-03-07T20:34:32.508975",
     "status": "completed"
    },
    "tags": []
   },
   "source": [
    "LR stronger regularization"
   ]
  },
  {
   "cell_type": "code",
   "execution_count": 10,
   "metadata": {
    "execution": {
     "iopub.execute_input": "2021-03-07T20:34:32.557731Z",
     "iopub.status.busy": "2021-03-07T20:34:32.557052Z",
     "iopub.status.idle": "2021-03-07T20:34:32.560218Z",
     "shell.execute_reply": "2021-03-07T20:34:32.559610Z"
    },
    "papermill": {
     "duration": 0.023929,
     "end_time": "2021-03-07T20:34:32.560366",
     "exception": false,
     "start_time": "2021-03-07T20:34:32.536437",
     "status": "completed"
    },
    "tags": []
   },
   "outputs": [],
   "source": [
    "model=LogisticRegression()\n",
    "params={\"penalty\":[\"l1\",\"l2\",'elasticnet', 'none'],'C':[0.9,0.8,0.7,0.6,0.5,0.1,0.2,0.3,0.4],\n",
    "     'solver':['newton-cg', 'lbfgs', 'sag', 'saga','liblinear'],'max_iter':[100,200,400,600,800,1000,1200]}\n",
    "\n",
    "\n",
    "\n",
    "#run_random_search(x,y,model,params,5)\n"
   ]
  },
  {
   "cell_type": "markdown",
   "metadata": {
    "papermill": {
     "duration": 0.013697,
     "end_time": "2021-03-07T20:34:32.587981",
     "exception": false,
     "start_time": "2021-03-07T20:34:32.574284",
     "status": "completed"
    },
    "tags": []
   },
   "source": [
    "LR"
   ]
  },
  {
   "cell_type": "code",
   "execution_count": 11,
   "metadata": {
    "execution": {
     "iopub.execute_input": "2021-03-07T20:34:32.623055Z",
     "iopub.status.busy": "2021-03-07T20:34:32.622303Z",
     "iopub.status.idle": "2021-03-07T20:34:32.626141Z",
     "shell.execute_reply": "2021-03-07T20:34:32.625561Z"
    },
    "papermill": {
     "duration": 0.024355,
     "end_time": "2021-03-07T20:34:32.626299",
     "exception": false,
     "start_time": "2021-03-07T20:34:32.601944",
     "status": "completed"
    },
    "tags": []
   },
   "outputs": [],
   "source": [
    "model=LogisticRegression()\n",
    "params={\"penalty\":[\"l1\",\"l2\",'elasticnet', 'none'],'C':[1.0,2.0,3.0,4.0,5.0],\n",
    "     'solver':['newton-cg', 'lbfgs', 'sag', 'saga','liblinear'],'max_iter':[100,200,400,600,800,1000,1200,None]}\n",
    "\n",
    "\n",
    "#run_random_search(x,y,model,params,5)"
   ]
  },
  {
   "cell_type": "markdown",
   "metadata": {
    "papermill": {
     "duration": 0.013825,
     "end_time": "2021-03-07T20:34:32.654723",
     "exception": false,
     "start_time": "2021-03-07T20:34:32.640898",
     "status": "completed"
    },
    "tags": []
   },
   "source": [
    "MLP"
   ]
  },
  {
   "cell_type": "code",
   "execution_count": 12,
   "metadata": {
    "execution": {
     "iopub.execute_input": "2021-03-07T20:34:32.689862Z",
     "iopub.status.busy": "2021-03-07T20:34:32.689154Z",
     "iopub.status.idle": "2021-03-07T20:34:32.692848Z",
     "shell.execute_reply": "2021-03-07T20:34:32.692161Z"
    },
    "papermill": {
     "duration": 0.024058,
     "end_time": "2021-03-07T20:34:32.693028",
     "exception": false,
     "start_time": "2021-03-07T20:34:32.668970",
     "status": "completed"
    },
    "tags": []
   },
   "outputs": [],
   "source": [
    "model=MLPClassifier()\n",
    "params = {\n",
    "    'activation': ['tanh', 'relu','lbfgs'],'random_state':[0,1,42,None],\n",
    "    'solver': ['sgd', 'adam'],'alpha': [0.0001, 0.05,1e-5],\n",
    "    'learning_rate': ['constant','adaptive'],'max_iter':[400,600,800,1000,1200,None]\n",
    "}\n",
    "\n",
    "#run_random_search(x,y,model,params,1)"
   ]
  }
 ],
 "metadata": {
  "kernelspec": {
   "display_name": "Python 3",
   "language": "python",
   "name": "python3"
  },
  "language_info": {
   "codemirror_mode": {
    "name": "ipython",
    "version": 3
   },
   "file_extension": ".py",
   "mimetype": "text/x-python",
   "name": "python",
   "nbconvert_exporter": "python",
   "pygments_lexer": "ipython3",
   "version": "3.7.9"
  },
  "papermill": {
   "default_parameters": {},
   "duration": 11.044727,
   "end_time": "2021-03-07T20:34:34.406301",
   "environment_variables": {},
   "exception": null,
   "input_path": "__notebook__.ipynb",
   "output_path": "__notebook__.ipynb",
   "parameters": {},
   "start_time": "2021-03-07T20:34:23.361574",
   "version": "2.2.2"
  }
 },
 "nbformat": 4,
 "nbformat_minor": 4
}
