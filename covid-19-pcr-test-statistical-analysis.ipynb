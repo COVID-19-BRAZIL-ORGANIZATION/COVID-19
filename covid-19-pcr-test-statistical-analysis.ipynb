{
 "cells": [
  {
   "cell_type": "code",
   "execution_count": 1,
   "metadata": {
    "_cell_guid": "b1076dfc-b9ad-4769-8c92-a6c4dae69d19",
    "_uuid": "8f2839f25d086af736a60e9eeb907d3b93b6e0e5",
    "execution": {
     "iopub.execute_input": "2021-03-07T19:58:20.237713Z",
     "iopub.status.busy": "2021-03-07T19:58:20.236956Z",
     "iopub.status.idle": "2021-03-07T19:58:21.377879Z",
     "shell.execute_reply": "2021-03-07T19:58:21.376887Z"
    },
    "papermill": {
     "duration": 1.193833,
     "end_time": "2021-03-07T19:58:21.378107",
     "exception": false,
     "start_time": "2021-03-07T19:58:20.184274",
     "status": "completed"
    },
    "tags": []
   },
   "outputs": [
    {
     "name": "stdout",
     "output_type": "stream",
     "text": [
      "/kaggle/input/covid19final-dataset/both_test_unbalanced.csv\n",
      "/kaggle/input/covid19final-dataset/pcr_unbalanced.csv\n",
      "/kaggle/input/covid19final-dataset/rapid_balanced.csv\n",
      "/kaggle/input/covid19final-dataset/both_test_balanced.csv\n",
      "/kaggle/input/covid19final-dataset/rapid_unbalanced.csv\n",
      "/kaggle/input/covid19final-dataset/pcr_balanced.csv\n"
     ]
    }
   ],
   "source": [
    "# This Python 3 environment comes with many helpful analytics libraries installed\n",
    "# It is defined by the kaggle/python Docker image: https://github.com/kaggle/docker-python\n",
    "# For example, here's several helpful packages to load\n",
    "\n",
    "import numpy as np # linear algebra\n",
    "import pandas as pd # data processing, CSV file I/O (e.g. pd.read_csv)\n",
    "from scipy import stats\n",
    "from scipy.stats import chi2\n",
    "import seaborn as sns \n",
    "import matplotlib\n",
    "import matplotlib.pyplot as plt\n",
    "# Input data files are available in the read-only \"../input/\" directory\n",
    "# For example, running this (by clicking run or pressing Shift+Enter) will list all files under the input directory\n",
    "\n",
    "import os\n",
    "for dirname, _, filenames in os.walk('/kaggle/input'):\n",
    "    for filename in filenames:\n",
    "        print(os.path.join(dirname, filename))\n",
    "\n",
    "# You can write up to 20GB to the current directory (/kaggle/working/) that gets preserved as output when you create a version using \"Save & Run All\" \n",
    "# You can also write temporary files to /kaggle/temp/, but they won't be saved outside of the current session"
   ]
  },
  {
   "cell_type": "code",
   "execution_count": 2,
   "metadata": {
    "_cell_guid": "79c7e3d0-c299-4dcb-8224-4455121ee9b0",
    "_uuid": "d629ff2d2480ee46fbb7e2d37f6b5fab8052498a",
    "execution": {
     "iopub.execute_input": "2021-03-07T19:58:21.470928Z",
     "iopub.status.busy": "2021-03-07T19:58:21.470204Z",
     "iopub.status.idle": "2021-03-07T19:58:21.495819Z",
     "shell.execute_reply": "2021-03-07T19:58:21.495166Z"
    },
    "papermill": {
     "duration": 0.074489,
     "end_time": "2021-03-07T19:58:21.495944",
     "exception": false,
     "start_time": "2021-03-07T19:58:21.421455",
     "status": "completed"
    },
    "tags": []
   },
   "outputs": [],
   "source": [
    "pcr = pd.read_csv(\"/kaggle/input/covid19final-dataset/pcr_balanced.csv\")\n",
    "\n",
    "pcr_unb = pd.read_csv(\"/kaggle/input/covid19final-dataset/pcr_unbalanced.csv\")\n",
    "\n",
    "\n"
   ]
  },
  {
   "cell_type": "markdown",
   "metadata": {
    "papermill": {
     "duration": 0.041566,
     "end_time": "2021-03-07T19:58:21.579335",
     "exception": false,
     "start_time": "2021-03-07T19:58:21.537769",
     "status": "completed"
    },
    "tags": []
   },
   "source": [
    "dictionary:\n",
    "* Class: 0 (positive) and 1(negative)\n",
    "1. sum: sum of total values with (0 and 1)\n",
    "1. pt: percentage of total values\n",
    "1. p_p: percentage of positive test result(pt)\n",
    "1. p_n: percentage of negative test result(pt)"
   ]
  },
  {
   "cell_type": "markdown",
   "metadata": {
    "papermill": {
     "duration": 0.041368,
     "end_time": "2021-03-07T19:58:21.662408",
     "exception": false,
     "start_time": "2021-03-07T19:58:21.621040",
     "status": "completed"
    },
    "tags": []
   },
   "source": [
    "# Setting cross tab with frequency distribution!"
   ]
  },
  {
   "cell_type": "code",
   "execution_count": 3,
   "metadata": {
    "execution": {
     "iopub.execute_input": "2021-03-07T19:58:21.770034Z",
     "iopub.status.busy": "2021-03-07T19:58:21.769113Z",
     "iopub.status.idle": "2021-03-07T19:58:21.774037Z",
     "shell.execute_reply": "2021-03-07T19:58:21.774578Z"
    },
    "papermill": {
     "duration": 0.070586,
     "end_time": "2021-03-07T19:58:21.774763",
     "exception": false,
     "start_time": "2021-03-07T19:58:21.704177",
     "status": "completed"
    },
    "tags": []
   },
   "outputs": [],
   "source": [
    "def set_crosstab(index_value,dt):\n",
    "    data=pd.crosstab(index=dt[index_value],columns=dt[\"Class\"])\n",
    "    data['sum']=None\n",
    "    data['p_t']=None\n",
    "    data['p_p']=None\n",
    "    data['p_n']=None\n",
    "    data.iloc[:1,2:3]=data[0][0]+data[1][0]\n",
    "    data.iloc[1:2,2:3]=data[0][1]+data[1][1]\n",
    "    data.iloc[:1,3:4]=data.iloc[:1,2:3].values[0][0]*100/len(dt)\n",
    "    data.iloc[1:2,3:4]=data.iloc[1:2,2:3].values[0][0]*100/len(dt)\n",
    "    data.iloc[:1,4:5]=data.iloc[:1,:1].values[0][0]*data.iloc[:1,3:4].values[0][0]/data.iloc[:1,2:3].values[0][0]\n",
    "    data.iloc[1:2,4:5]=data.iloc[1:2,:1].values[0][0]*data.iloc[1:2,3:4].values[0][0]/data.iloc[1:2,2:3].values[0][0]\n",
    "    data.iloc[:1,5:6]=data.iloc[:1,1:2].values[0][0]*data.iloc[:1,3:4].values[0][0]/data.iloc[:1,2:3].values[0][0]\n",
    "    data.iloc[1:2,5:6]=data.iloc[1:2,1:2].values[0][0]*data.iloc[1:2,3:4].values[0][0]/data.iloc[1:2,2:3].values[0][0]\n",
    "    return data\n",
    "    "
   ]
  },
  {
   "cell_type": "markdown",
   "metadata": {
    "papermill": {
     "duration": 0.04177,
     "end_time": "2021-03-07T19:58:21.859743",
     "exception": false,
     "start_time": "2021-03-07T19:58:21.817973",
     "status": "completed"
    },
    "tags": []
   },
   "source": [
    "# Chi2 test analyze!"
   ]
  },
  {
   "cell_type": "code",
   "execution_count": 4,
   "metadata": {
    "execution": {
     "iopub.execute_input": "2021-03-07T19:58:21.953521Z",
     "iopub.status.busy": "2021-03-07T19:58:21.952835Z",
     "iopub.status.idle": "2021-03-07T19:58:21.955969Z",
     "shell.execute_reply": "2021-03-07T19:58:21.955312Z"
    },
    "papermill": {
     "duration": 0.054242,
     "end_time": "2021-03-07T19:58:21.956093",
     "exception": false,
     "start_time": "2021-03-07T19:58:21.901851",
     "status": "completed"
    },
    "tags": []
   },
   "outputs": [],
   "source": [
    "def test_statistic_chi2(value,data):\n",
    "    test_result=pd.crosstab(index=data[value],columns=data[\"Class\"])\n",
    "\n",
    "    test_statistic, p_value, dof, expected=stats.chi2_contingency([test_result.iloc[0].values,\n",
    "                                           test_result.iloc[1].values],correction=True)\n",
    "    alpha = 0.01\n",
    "    if p_value <= alpha:\n",
    "        print('Dependent (reject H0)')\n",
    "    else:\n",
    "        print('Independent (fail to reject H0)')\n"
   ]
  },
  {
   "cell_type": "markdown",
   "metadata": {
    "papermill": {
     "duration": 0.042898,
     "end_time": "2021-03-07T19:58:22.041450",
     "exception": false,
     "start_time": "2021-03-07T19:58:21.998552",
     "status": "completed"
    },
    "tags": []
   },
   "source": [
    "# pcr test"
   ]
  },
  {
   "cell_type": "markdown",
   "metadata": {
    "papermill": {
     "duration": 0.042724,
     "end_time": "2021-03-07T19:58:22.126689",
     "exception": false,
     "start_time": "2021-03-07T19:58:22.083965",
     "status": "completed"
    },
    "tags": []
   },
   "source": [
    "# Symptom- Throat Pain"
   ]
  },
  {
   "cell_type": "markdown",
   "metadata": {
    "papermill": {
     "duration": 0.042071,
     "end_time": "2021-03-07T19:58:22.211015",
     "exception": false,
     "start_time": "2021-03-07T19:58:22.168944",
     "status": "completed"
    },
    "tags": []
   },
   "source": [
    "balanced dataset"
   ]
  },
  {
   "cell_type": "code",
   "execution_count": 5,
   "metadata": {
    "execution": {
     "iopub.execute_input": "2021-03-07T19:58:22.310227Z",
     "iopub.status.busy": "2021-03-07T19:58:22.309489Z",
     "iopub.status.idle": "2021-03-07T19:58:22.379473Z",
     "shell.execute_reply": "2021-03-07T19:58:22.378891Z"
    },
    "papermill": {
     "duration": 0.126498,
     "end_time": "2021-03-07T19:58:22.379626",
     "exception": false,
     "start_time": "2021-03-07T19:58:22.253128",
     "status": "completed"
    },
    "tags": []
   },
   "outputs": [
    {
     "data": {
      "text/html": [
       "<div>\n",
       "<style scoped>\n",
       "    .dataframe tbody tr th:only-of-type {\n",
       "        vertical-align: middle;\n",
       "    }\n",
       "\n",
       "    .dataframe tbody tr th {\n",
       "        vertical-align: top;\n",
       "    }\n",
       "\n",
       "    .dataframe thead th {\n",
       "        text-align: right;\n",
       "    }\n",
       "</style>\n",
       "<table border=\"1\" class=\"dataframe\">\n",
       "  <thead>\n",
       "    <tr style=\"text-align: right;\">\n",
       "      <th>Class</th>\n",
       "      <th>0</th>\n",
       "      <th>1</th>\n",
       "      <th>sum</th>\n",
       "      <th>p_t</th>\n",
       "      <th>p_p</th>\n",
       "      <th>p_n</th>\n",
       "    </tr>\n",
       "    <tr>\n",
       "      <th>Symptom- Throat Pain</th>\n",
       "      <th></th>\n",
       "      <th></th>\n",
       "      <th></th>\n",
       "      <th></th>\n",
       "      <th></th>\n",
       "      <th></th>\n",
       "    </tr>\n",
       "  </thead>\n",
       "  <tbody>\n",
       "    <tr>\n",
       "      <th>0</th>\n",
       "      <td>215</td>\n",
       "      <td>283</td>\n",
       "      <td>498</td>\n",
       "      <td>27.1834</td>\n",
       "      <td>11.7358</td>\n",
       "      <td>15.4476</td>\n",
       "    </tr>\n",
       "    <tr>\n",
       "      <th>1</th>\n",
       "      <td>701</td>\n",
       "      <td>633</td>\n",
       "      <td>1334</td>\n",
       "      <td>72.8166</td>\n",
       "      <td>38.2642</td>\n",
       "      <td>34.5524</td>\n",
       "    </tr>\n",
       "  </tbody>\n",
       "</table>\n",
       "</div>"
      ],
      "text/plain": [
       "Class                   0    1   sum      p_t      p_p      p_n\n",
       "Symptom- Throat Pain                                           \n",
       "0                     215  283   498  27.1834  11.7358  15.4476\n",
       "1                     701  633  1334  72.8166  38.2642  34.5524"
      ]
     },
     "execution_count": 5,
     "metadata": {},
     "output_type": "execute_result"
    }
   ],
   "source": [
    "set_crosstab('Symptom- Throat Pain',pcr)\n"
   ]
  },
  {
   "cell_type": "code",
   "execution_count": 6,
   "metadata": {
    "execution": {
     "iopub.execute_input": "2021-03-07T19:58:22.477767Z",
     "iopub.status.busy": "2021-03-07T19:58:22.476478Z",
     "iopub.status.idle": "2021-03-07T19:58:22.496894Z",
     "shell.execute_reply": "2021-03-07T19:58:22.496239Z"
    },
    "papermill": {
     "duration": 0.073311,
     "end_time": "2021-03-07T19:58:22.497035",
     "exception": false,
     "start_time": "2021-03-07T19:58:22.423724",
     "status": "completed"
    },
    "tags": []
   },
   "outputs": [
    {
     "name": "stdout",
     "output_type": "stream",
     "text": [
      "Dependent (reject H0)\n"
     ]
    }
   ],
   "source": [
    "test_statistic_chi2('Symptom- Throat Pain',pcr)"
   ]
  },
  {
   "cell_type": "markdown",
   "metadata": {
    "papermill": {
     "duration": 0.043793,
     "end_time": "2021-03-07T19:58:22.584673",
     "exception": false,
     "start_time": "2021-03-07T19:58:22.540880",
     "status": "completed"
    },
    "tags": []
   },
   "source": [
    "unbalanced dataset"
   ]
  },
  {
   "cell_type": "code",
   "execution_count": 7,
   "metadata": {
    "execution": {
     "iopub.execute_input": "2021-03-07T19:58:22.680577Z",
     "iopub.status.busy": "2021-03-07T19:58:22.679848Z",
     "iopub.status.idle": "2021-03-07T19:58:22.710436Z",
     "shell.execute_reply": "2021-03-07T19:58:22.709862Z"
    },
    "papermill": {
     "duration": 0.082061,
     "end_time": "2021-03-07T19:58:22.710573",
     "exception": false,
     "start_time": "2021-03-07T19:58:22.628512",
     "status": "completed"
    },
    "tags": []
   },
   "outputs": [
    {
     "data": {
      "text/html": [
       "<div>\n",
       "<style scoped>\n",
       "    .dataframe tbody tr th:only-of-type {\n",
       "        vertical-align: middle;\n",
       "    }\n",
       "\n",
       "    .dataframe tbody tr th {\n",
       "        vertical-align: top;\n",
       "    }\n",
       "\n",
       "    .dataframe thead th {\n",
       "        text-align: right;\n",
       "    }\n",
       "</style>\n",
       "<table border=\"1\" class=\"dataframe\">\n",
       "  <thead>\n",
       "    <tr style=\"text-align: right;\">\n",
       "      <th>Class</th>\n",
       "      <th>0</th>\n",
       "      <th>1</th>\n",
       "      <th>sum</th>\n",
       "      <th>p_t</th>\n",
       "      <th>p_p</th>\n",
       "      <th>p_n</th>\n",
       "    </tr>\n",
       "    <tr>\n",
       "      <th>Symptom- Throat Pain</th>\n",
       "      <th></th>\n",
       "      <th></th>\n",
       "      <th></th>\n",
       "      <th></th>\n",
       "      <th></th>\n",
       "      <th></th>\n",
       "    </tr>\n",
       "  </thead>\n",
       "  <tbody>\n",
       "    <tr>\n",
       "      <th>0</th>\n",
       "      <td>215</td>\n",
       "      <td>515</td>\n",
       "      <td>730</td>\n",
       "      <td>26.2684</td>\n",
       "      <td>7.7366</td>\n",
       "      <td>18.5318</td>\n",
       "    </tr>\n",
       "    <tr>\n",
       "      <th>1</th>\n",
       "      <td>701</td>\n",
       "      <td>1348</td>\n",
       "      <td>2049</td>\n",
       "      <td>73.7316</td>\n",
       "      <td>25.2249</td>\n",
       "      <td>48.5067</td>\n",
       "    </tr>\n",
       "  </tbody>\n",
       "</table>\n",
       "</div>"
      ],
      "text/plain": [
       "Class                   0     1   sum      p_t      p_p      p_n\n",
       "Symptom- Throat Pain                                            \n",
       "0                     215   515   730  26.2684   7.7366  18.5318\n",
       "1                     701  1348  2049  73.7316  25.2249  48.5067"
      ]
     },
     "execution_count": 7,
     "metadata": {},
     "output_type": "execute_result"
    }
   ],
   "source": [
    "set_crosstab('Symptom- Throat Pain',pcr_unb)"
   ]
  },
  {
   "cell_type": "code",
   "execution_count": 8,
   "metadata": {
    "execution": {
     "iopub.execute_input": "2021-03-07T19:58:22.823747Z",
     "iopub.status.busy": "2021-03-07T19:58:22.822990Z",
     "iopub.status.idle": "2021-03-07T19:58:22.846522Z",
     "shell.execute_reply": "2021-03-07T19:58:22.845922Z"
    },
    "papermill": {
     "duration": 0.088396,
     "end_time": "2021-03-07T19:58:22.846810",
     "exception": false,
     "start_time": "2021-03-07T19:58:22.758414",
     "status": "completed"
    },
    "tags": []
   },
   "outputs": [
    {
     "name": "stdout",
     "output_type": "stream",
     "text": [
      "Independent (fail to reject H0)\n"
     ]
    }
   ],
   "source": [
    "test_statistic_chi2('Symptom- Throat Pain',pcr_unb)\n"
   ]
  },
  {
   "cell_type": "markdown",
   "metadata": {
    "papermill": {
     "duration": 0.048593,
     "end_time": "2021-03-07T19:58:22.954768",
     "exception": false,
     "start_time": "2021-03-07T19:58:22.906175",
     "status": "completed"
    },
    "tags": []
   },
   "source": [
    "# Symptom- Dyspnea"
   ]
  },
  {
   "cell_type": "markdown",
   "metadata": {
    "papermill": {
     "duration": 0.044317,
     "end_time": "2021-03-07T19:58:23.043473",
     "exception": false,
     "start_time": "2021-03-07T19:58:22.999156",
     "status": "completed"
    },
    "tags": []
   },
   "source": [
    "balanced dataset"
   ]
  },
  {
   "cell_type": "code",
   "execution_count": 9,
   "metadata": {
    "execution": {
     "iopub.execute_input": "2021-03-07T19:58:23.142269Z",
     "iopub.status.busy": "2021-03-07T19:58:23.141227Z",
     "iopub.status.idle": "2021-03-07T19:58:23.167815Z",
     "shell.execute_reply": "2021-03-07T19:58:23.167107Z"
    },
    "papermill": {
     "duration": 0.079115,
     "end_time": "2021-03-07T19:58:23.167947",
     "exception": false,
     "start_time": "2021-03-07T19:58:23.088832",
     "status": "completed"
    },
    "tags": []
   },
   "outputs": [
    {
     "data": {
      "text/html": [
       "<div>\n",
       "<style scoped>\n",
       "    .dataframe tbody tr th:only-of-type {\n",
       "        vertical-align: middle;\n",
       "    }\n",
       "\n",
       "    .dataframe tbody tr th {\n",
       "        vertical-align: top;\n",
       "    }\n",
       "\n",
       "    .dataframe thead th {\n",
       "        text-align: right;\n",
       "    }\n",
       "</style>\n",
       "<table border=\"1\" class=\"dataframe\">\n",
       "  <thead>\n",
       "    <tr style=\"text-align: right;\">\n",
       "      <th>Class</th>\n",
       "      <th>0</th>\n",
       "      <th>1</th>\n",
       "      <th>sum</th>\n",
       "      <th>p_t</th>\n",
       "      <th>p_p</th>\n",
       "      <th>p_n</th>\n",
       "    </tr>\n",
       "    <tr>\n",
       "      <th>Symptom- Dyspnea</th>\n",
       "      <th></th>\n",
       "      <th></th>\n",
       "      <th></th>\n",
       "      <th></th>\n",
       "      <th></th>\n",
       "      <th></th>\n",
       "    </tr>\n",
       "  </thead>\n",
       "  <tbody>\n",
       "    <tr>\n",
       "      <th>0</th>\n",
       "      <td>254</td>\n",
       "      <td>298</td>\n",
       "      <td>552</td>\n",
       "      <td>30.131</td>\n",
       "      <td>13.8646</td>\n",
       "      <td>16.2664</td>\n",
       "    </tr>\n",
       "    <tr>\n",
       "      <th>1</th>\n",
       "      <td>662</td>\n",
       "      <td>618</td>\n",
       "      <td>1280</td>\n",
       "      <td>69.869</td>\n",
       "      <td>36.1354</td>\n",
       "      <td>33.7336</td>\n",
       "    </tr>\n",
       "  </tbody>\n",
       "</table>\n",
       "</div>"
      ],
      "text/plain": [
       "Class               0    1   sum     p_t      p_p      p_n\n",
       "Symptom- Dyspnea                                          \n",
       "0                 254  298   552  30.131  13.8646  16.2664\n",
       "1                 662  618  1280  69.869  36.1354  33.7336"
      ]
     },
     "execution_count": 9,
     "metadata": {},
     "output_type": "execute_result"
    }
   ],
   "source": [
    "set_crosstab('Symptom- Dyspnea',pcr)"
   ]
  },
  {
   "cell_type": "code",
   "execution_count": 10,
   "metadata": {
    "execution": {
     "iopub.execute_input": "2021-03-07T19:58:23.263060Z",
     "iopub.status.busy": "2021-03-07T19:58:23.262328Z",
     "iopub.status.idle": "2021-03-07T19:58:23.280352Z",
     "shell.execute_reply": "2021-03-07T19:58:23.280989Z"
    },
    "papermill": {
     "duration": 0.067402,
     "end_time": "2021-03-07T19:58:23.281162",
     "exception": false,
     "start_time": "2021-03-07T19:58:23.213760",
     "status": "completed"
    },
    "tags": []
   },
   "outputs": [
    {
     "name": "stdout",
     "output_type": "stream",
     "text": [
      "Independent (fail to reject H0)\n"
     ]
    }
   ],
   "source": [
    "test_statistic_chi2('Symptom- Dyspnea',pcr)"
   ]
  },
  {
   "cell_type": "markdown",
   "metadata": {
    "papermill": {
     "duration": 0.045818,
     "end_time": "2021-03-07T19:58:23.373150",
     "exception": false,
     "start_time": "2021-03-07T19:58:23.327332",
     "status": "completed"
    },
    "tags": []
   },
   "source": [
    "unbalanced dataset"
   ]
  },
  {
   "cell_type": "code",
   "execution_count": 11,
   "metadata": {
    "execution": {
     "iopub.execute_input": "2021-03-07T19:58:23.469938Z",
     "iopub.status.busy": "2021-03-07T19:58:23.469117Z",
     "iopub.status.idle": "2021-03-07T19:58:23.498961Z",
     "shell.execute_reply": "2021-03-07T19:58:23.499568Z"
    },
    "papermill": {
     "duration": 0.079931,
     "end_time": "2021-03-07T19:58:23.499775",
     "exception": false,
     "start_time": "2021-03-07T19:58:23.419844",
     "status": "completed"
    },
    "tags": []
   },
   "outputs": [
    {
     "data": {
      "text/html": [
       "<div>\n",
       "<style scoped>\n",
       "    .dataframe tbody tr th:only-of-type {\n",
       "        vertical-align: middle;\n",
       "    }\n",
       "\n",
       "    .dataframe tbody tr th {\n",
       "        vertical-align: top;\n",
       "    }\n",
       "\n",
       "    .dataframe thead th {\n",
       "        text-align: right;\n",
       "    }\n",
       "</style>\n",
       "<table border=\"1\" class=\"dataframe\">\n",
       "  <thead>\n",
       "    <tr style=\"text-align: right;\">\n",
       "      <th>Class</th>\n",
       "      <th>0</th>\n",
       "      <th>1</th>\n",
       "      <th>sum</th>\n",
       "      <th>p_t</th>\n",
       "      <th>p_p</th>\n",
       "      <th>p_n</th>\n",
       "    </tr>\n",
       "    <tr>\n",
       "      <th>Symptom- Dyspnea</th>\n",
       "      <th></th>\n",
       "      <th></th>\n",
       "      <th></th>\n",
       "      <th></th>\n",
       "      <th></th>\n",
       "      <th></th>\n",
       "    </tr>\n",
       "  </thead>\n",
       "  <tbody>\n",
       "    <tr>\n",
       "      <th>0</th>\n",
       "      <td>254</td>\n",
       "      <td>565</td>\n",
       "      <td>819</td>\n",
       "      <td>29.471</td>\n",
       "      <td>9.13998</td>\n",
       "      <td>20.3311</td>\n",
       "    </tr>\n",
       "    <tr>\n",
       "      <th>1</th>\n",
       "      <td>662</td>\n",
       "      <td>1298</td>\n",
       "      <td>1960</td>\n",
       "      <td>70.529</td>\n",
       "      <td>23.8215</td>\n",
       "      <td>46.7074</td>\n",
       "    </tr>\n",
       "  </tbody>\n",
       "</table>\n",
       "</div>"
      ],
      "text/plain": [
       "Class               0     1   sum     p_t      p_p      p_n\n",
       "Symptom- Dyspnea                                           \n",
       "0                 254   565   819  29.471  9.13998  20.3311\n",
       "1                 662  1298  1960  70.529  23.8215  46.7074"
      ]
     },
     "execution_count": 11,
     "metadata": {},
     "output_type": "execute_result"
    }
   ],
   "source": [
    "set_crosstab('Symptom- Dyspnea',pcr_unb)"
   ]
  },
  {
   "cell_type": "code",
   "execution_count": 12,
   "metadata": {
    "execution": {
     "iopub.execute_input": "2021-03-07T19:58:23.597391Z",
     "iopub.status.busy": "2021-03-07T19:58:23.596715Z",
     "iopub.status.idle": "2021-03-07T19:58:23.613909Z",
     "shell.execute_reply": "2021-03-07T19:58:23.614428Z"
    },
    "papermill": {
     "duration": 0.068231,
     "end_time": "2021-03-07T19:58:23.614588",
     "exception": false,
     "start_time": "2021-03-07T19:58:23.546357",
     "status": "completed"
    },
    "tags": []
   },
   "outputs": [
    {
     "name": "stdout",
     "output_type": "stream",
     "text": [
      "Independent (fail to reject H0)\n"
     ]
    }
   ],
   "source": [
    "test_statistic_chi2('Symptom- Dyspnea',pcr_unb)"
   ]
  },
  {
   "cell_type": "markdown",
   "metadata": {
    "papermill": {
     "duration": 0.047924,
     "end_time": "2021-03-07T19:58:23.709404",
     "exception": false,
     "start_time": "2021-03-07T19:58:23.661480",
     "status": "completed"
    },
    "tags": []
   },
   "source": [
    "# Symptom- Fever"
   ]
  },
  {
   "cell_type": "markdown",
   "metadata": {
    "papermill": {
     "duration": 0.047697,
     "end_time": "2021-03-07T19:58:23.805486",
     "exception": false,
     "start_time": "2021-03-07T19:58:23.757789",
     "status": "completed"
    },
    "tags": []
   },
   "source": [
    "balanced dataset"
   ]
  },
  {
   "cell_type": "code",
   "execution_count": 13,
   "metadata": {
    "execution": {
     "iopub.execute_input": "2021-03-07T19:58:23.908898Z",
     "iopub.status.busy": "2021-03-07T19:58:23.908200Z",
     "iopub.status.idle": "2021-03-07T19:58:23.937039Z",
     "shell.execute_reply": "2021-03-07T19:58:23.937623Z"
    },
    "papermill": {
     "duration": 0.084589,
     "end_time": "2021-03-07T19:58:23.937778",
     "exception": false,
     "start_time": "2021-03-07T19:58:23.853189",
     "status": "completed"
    },
    "tags": []
   },
   "outputs": [
    {
     "data": {
      "text/html": [
       "<div>\n",
       "<style scoped>\n",
       "    .dataframe tbody tr th:only-of-type {\n",
       "        vertical-align: middle;\n",
       "    }\n",
       "\n",
       "    .dataframe tbody tr th {\n",
       "        vertical-align: top;\n",
       "    }\n",
       "\n",
       "    .dataframe thead th {\n",
       "        text-align: right;\n",
       "    }\n",
       "</style>\n",
       "<table border=\"1\" class=\"dataframe\">\n",
       "  <thead>\n",
       "    <tr style=\"text-align: right;\">\n",
       "      <th>Class</th>\n",
       "      <th>0</th>\n",
       "      <th>1</th>\n",
       "      <th>sum</th>\n",
       "      <th>p_t</th>\n",
       "      <th>p_p</th>\n",
       "      <th>p_n</th>\n",
       "    </tr>\n",
       "    <tr>\n",
       "      <th>Symptom- Fever</th>\n",
       "      <th></th>\n",
       "      <th></th>\n",
       "      <th></th>\n",
       "      <th></th>\n",
       "      <th></th>\n",
       "      <th></th>\n",
       "    </tr>\n",
       "  </thead>\n",
       "  <tbody>\n",
       "    <tr>\n",
       "      <th>0</th>\n",
       "      <td>744</td>\n",
       "      <td>340</td>\n",
       "      <td>1084</td>\n",
       "      <td>59.1703</td>\n",
       "      <td>40.6114</td>\n",
       "      <td>18.559</td>\n",
       "    </tr>\n",
       "    <tr>\n",
       "      <th>1</th>\n",
       "      <td>172</td>\n",
       "      <td>576</td>\n",
       "      <td>748</td>\n",
       "      <td>40.8297</td>\n",
       "      <td>9.38865</td>\n",
       "      <td>31.441</td>\n",
       "    </tr>\n",
       "  </tbody>\n",
       "</table>\n",
       "</div>"
      ],
      "text/plain": [
       "Class             0    1   sum      p_t      p_p     p_n\n",
       "Symptom- Fever                                          \n",
       "0               744  340  1084  59.1703  40.6114  18.559\n",
       "1               172  576   748  40.8297  9.38865  31.441"
      ]
     },
     "execution_count": 13,
     "metadata": {},
     "output_type": "execute_result"
    }
   ],
   "source": [
    "set_crosstab('Symptom- Fever',pcr)"
   ]
  },
  {
   "cell_type": "code",
   "execution_count": 14,
   "metadata": {
    "execution": {
     "iopub.execute_input": "2021-03-07T19:58:24.036924Z",
     "iopub.status.busy": "2021-03-07T19:58:24.036083Z",
     "iopub.status.idle": "2021-03-07T19:58:24.055754Z",
     "shell.execute_reply": "2021-03-07T19:58:24.056359Z"
    },
    "papermill": {
     "duration": 0.071656,
     "end_time": "2021-03-07T19:58:24.056506",
     "exception": false,
     "start_time": "2021-03-07T19:58:23.984850",
     "status": "completed"
    },
    "tags": []
   },
   "outputs": [
    {
     "name": "stdout",
     "output_type": "stream",
     "text": [
      "Dependent (reject H0)\n"
     ]
    }
   ],
   "source": [
    "test_statistic_chi2('Symptom- Fever',pcr)"
   ]
  },
  {
   "cell_type": "markdown",
   "metadata": {
    "papermill": {
     "duration": 0.047538,
     "end_time": "2021-03-07T19:58:24.154785",
     "exception": false,
     "start_time": "2021-03-07T19:58:24.107247",
     "status": "completed"
    },
    "tags": []
   },
   "source": [
    "unbalanced dataset"
   ]
  },
  {
   "cell_type": "code",
   "execution_count": 15,
   "metadata": {
    "execution": {
     "iopub.execute_input": "2021-03-07T19:58:24.253805Z",
     "iopub.status.busy": "2021-03-07T19:58:24.252956Z",
     "iopub.status.idle": "2021-03-07T19:58:24.284339Z",
     "shell.execute_reply": "2021-03-07T19:58:24.284918Z"
    },
    "papermill": {
     "duration": 0.082804,
     "end_time": "2021-03-07T19:58:24.285060",
     "exception": false,
     "start_time": "2021-03-07T19:58:24.202256",
     "status": "completed"
    },
    "tags": []
   },
   "outputs": [
    {
     "data": {
      "text/html": [
       "<div>\n",
       "<style scoped>\n",
       "    .dataframe tbody tr th:only-of-type {\n",
       "        vertical-align: middle;\n",
       "    }\n",
       "\n",
       "    .dataframe tbody tr th {\n",
       "        vertical-align: top;\n",
       "    }\n",
       "\n",
       "    .dataframe thead th {\n",
       "        text-align: right;\n",
       "    }\n",
       "</style>\n",
       "<table border=\"1\" class=\"dataframe\">\n",
       "  <thead>\n",
       "    <tr style=\"text-align: right;\">\n",
       "      <th>Class</th>\n",
       "      <th>0</th>\n",
       "      <th>1</th>\n",
       "      <th>sum</th>\n",
       "      <th>p_t</th>\n",
       "      <th>p_p</th>\n",
       "      <th>p_n</th>\n",
       "    </tr>\n",
       "    <tr>\n",
       "      <th>Symptom- Fever</th>\n",
       "      <th></th>\n",
       "      <th></th>\n",
       "      <th></th>\n",
       "      <th></th>\n",
       "      <th></th>\n",
       "      <th></th>\n",
       "    </tr>\n",
       "  </thead>\n",
       "  <tbody>\n",
       "    <tr>\n",
       "      <th>0</th>\n",
       "      <td>744</td>\n",
       "      <td>665</td>\n",
       "      <td>1409</td>\n",
       "      <td>50.7017</td>\n",
       "      <td>26.7722</td>\n",
       "      <td>23.9295</td>\n",
       "    </tr>\n",
       "    <tr>\n",
       "      <th>1</th>\n",
       "      <td>172</td>\n",
       "      <td>1198</td>\n",
       "      <td>1370</td>\n",
       "      <td>49.2983</td>\n",
       "      <td>6.18928</td>\n",
       "      <td>43.109</td>\n",
       "    </tr>\n",
       "  </tbody>\n",
       "</table>\n",
       "</div>"
      ],
      "text/plain": [
       "Class             0     1   sum      p_t      p_p      p_n\n",
       "Symptom- Fever                                            \n",
       "0               744   665  1409  50.7017  26.7722  23.9295\n",
       "1               172  1198  1370  49.2983  6.18928   43.109"
      ]
     },
     "execution_count": 15,
     "metadata": {},
     "output_type": "execute_result"
    }
   ],
   "source": [
    "set_crosstab('Symptom- Fever',pcr_unb)"
   ]
  },
  {
   "cell_type": "code",
   "execution_count": 16,
   "metadata": {
    "execution": {
     "iopub.execute_input": "2021-03-07T19:58:24.385482Z",
     "iopub.status.busy": "2021-03-07T19:58:24.384863Z",
     "iopub.status.idle": "2021-03-07T19:58:24.405987Z",
     "shell.execute_reply": "2021-03-07T19:58:24.405431Z"
    },
    "papermill": {
     "duration": 0.072583,
     "end_time": "2021-03-07T19:58:24.406105",
     "exception": false,
     "start_time": "2021-03-07T19:58:24.333522",
     "status": "completed"
    },
    "tags": []
   },
   "outputs": [
    {
     "name": "stdout",
     "output_type": "stream",
     "text": [
      "Dependent (reject H0)\n"
     ]
    }
   ],
   "source": [
    "test_statistic_chi2('Symptom- Fever',pcr_unb)"
   ]
  },
  {
   "cell_type": "markdown",
   "metadata": {
    "papermill": {
     "duration": 0.048648,
     "end_time": "2021-03-07T19:58:24.503768",
     "exception": false,
     "start_time": "2021-03-07T19:58:24.455120",
     "status": "completed"
    },
    "tags": []
   },
   "source": [
    "# Symptom- Cough"
   ]
  },
  {
   "cell_type": "markdown",
   "metadata": {
    "papermill": {
     "duration": 0.048674,
     "end_time": "2021-03-07T19:58:24.602008",
     "exception": false,
     "start_time": "2021-03-07T19:58:24.553334",
     "status": "completed"
    },
    "tags": []
   },
   "source": [
    "balanced dataset"
   ]
  },
  {
   "cell_type": "code",
   "execution_count": 17,
   "metadata": {
    "execution": {
     "iopub.execute_input": "2021-03-07T19:58:24.708409Z",
     "iopub.status.busy": "2021-03-07T19:58:24.707725Z",
     "iopub.status.idle": "2021-03-07T19:58:24.736178Z",
     "shell.execute_reply": "2021-03-07T19:58:24.736858Z"
    },
    "papermill": {
     "duration": 0.086093,
     "end_time": "2021-03-07T19:58:24.737001",
     "exception": false,
     "start_time": "2021-03-07T19:58:24.650908",
     "status": "completed"
    },
    "tags": []
   },
   "outputs": [
    {
     "data": {
      "text/html": [
       "<div>\n",
       "<style scoped>\n",
       "    .dataframe tbody tr th:only-of-type {\n",
       "        vertical-align: middle;\n",
       "    }\n",
       "\n",
       "    .dataframe tbody tr th {\n",
       "        vertical-align: top;\n",
       "    }\n",
       "\n",
       "    .dataframe thead th {\n",
       "        text-align: right;\n",
       "    }\n",
       "</style>\n",
       "<table border=\"1\" class=\"dataframe\">\n",
       "  <thead>\n",
       "    <tr style=\"text-align: right;\">\n",
       "      <th>Class</th>\n",
       "      <th>0</th>\n",
       "      <th>1</th>\n",
       "      <th>sum</th>\n",
       "      <th>p_t</th>\n",
       "      <th>p_p</th>\n",
       "      <th>p_n</th>\n",
       "    </tr>\n",
       "    <tr>\n",
       "      <th>Symptom- Cough</th>\n",
       "      <th></th>\n",
       "      <th></th>\n",
       "      <th></th>\n",
       "      <th></th>\n",
       "      <th></th>\n",
       "      <th></th>\n",
       "    </tr>\n",
       "  </thead>\n",
       "  <tbody>\n",
       "    <tr>\n",
       "      <th>0</th>\n",
       "      <td>517</td>\n",
       "      <td>568</td>\n",
       "      <td>1085</td>\n",
       "      <td>59.2249</td>\n",
       "      <td>28.2205</td>\n",
       "      <td>31.0044</td>\n",
       "    </tr>\n",
       "    <tr>\n",
       "      <th>1</th>\n",
       "      <td>399</td>\n",
       "      <td>348</td>\n",
       "      <td>747</td>\n",
       "      <td>40.7751</td>\n",
       "      <td>21.7795</td>\n",
       "      <td>18.9956</td>\n",
       "    </tr>\n",
       "  </tbody>\n",
       "</table>\n",
       "</div>"
      ],
      "text/plain": [
       "Class             0    1   sum      p_t      p_p      p_n\n",
       "Symptom- Cough                                           \n",
       "0               517  568  1085  59.2249  28.2205  31.0044\n",
       "1               399  348   747  40.7751  21.7795  18.9956"
      ]
     },
     "execution_count": 17,
     "metadata": {},
     "output_type": "execute_result"
    }
   ],
   "source": [
    "set_crosstab('Symptom- Cough',pcr)"
   ]
  },
  {
   "cell_type": "code",
   "execution_count": 18,
   "metadata": {
    "execution": {
     "iopub.execute_input": "2021-03-07T19:58:24.846808Z",
     "iopub.status.busy": "2021-03-07T19:58:24.845642Z",
     "iopub.status.idle": "2021-03-07T19:58:24.863724Z",
     "shell.execute_reply": "2021-03-07T19:58:24.862963Z"
    },
    "papermill": {
     "duration": 0.076408,
     "end_time": "2021-03-07T19:58:24.863845",
     "exception": false,
     "start_time": "2021-03-07T19:58:24.787437",
     "status": "completed"
    },
    "tags": []
   },
   "outputs": [
    {
     "name": "stdout",
     "output_type": "stream",
     "text": [
      "Independent (fail to reject H0)\n"
     ]
    }
   ],
   "source": [
    "test_statistic_chi2('Symptom- Cough',pcr)"
   ]
  },
  {
   "cell_type": "markdown",
   "metadata": {
    "papermill": {
     "duration": 0.049645,
     "end_time": "2021-03-07T19:58:24.964095",
     "exception": false,
     "start_time": "2021-03-07T19:58:24.914450",
     "status": "completed"
    },
    "tags": []
   },
   "source": [
    "unbalanced dataset"
   ]
  },
  {
   "cell_type": "code",
   "execution_count": 19,
   "metadata": {
    "execution": {
     "iopub.execute_input": "2021-03-07T19:58:25.073040Z",
     "iopub.status.busy": "2021-03-07T19:58:25.071988Z",
     "iopub.status.idle": "2021-03-07T19:58:25.101449Z",
     "shell.execute_reply": "2021-03-07T19:58:25.101976Z"
    },
    "papermill": {
     "duration": 0.088398,
     "end_time": "2021-03-07T19:58:25.102136",
     "exception": false,
     "start_time": "2021-03-07T19:58:25.013738",
     "status": "completed"
    },
    "tags": []
   },
   "outputs": [
    {
     "data": {
      "text/html": [
       "<div>\n",
       "<style scoped>\n",
       "    .dataframe tbody tr th:only-of-type {\n",
       "        vertical-align: middle;\n",
       "    }\n",
       "\n",
       "    .dataframe tbody tr th {\n",
       "        vertical-align: top;\n",
       "    }\n",
       "\n",
       "    .dataframe thead th {\n",
       "        text-align: right;\n",
       "    }\n",
       "</style>\n",
       "<table border=\"1\" class=\"dataframe\">\n",
       "  <thead>\n",
       "    <tr style=\"text-align: right;\">\n",
       "      <th>Class</th>\n",
       "      <th>0</th>\n",
       "      <th>1</th>\n",
       "      <th>sum</th>\n",
       "      <th>p_t</th>\n",
       "      <th>p_p</th>\n",
       "      <th>p_n</th>\n",
       "    </tr>\n",
       "    <tr>\n",
       "      <th>Symptom- Cough</th>\n",
       "      <th></th>\n",
       "      <th></th>\n",
       "      <th></th>\n",
       "      <th></th>\n",
       "      <th></th>\n",
       "      <th></th>\n",
       "    </tr>\n",
       "  </thead>\n",
       "  <tbody>\n",
       "    <tr>\n",
       "      <th>0</th>\n",
       "      <td>517</td>\n",
       "      <td>1166</td>\n",
       "      <td>1683</td>\n",
       "      <td>60.5614</td>\n",
       "      <td>18.6038</td>\n",
       "      <td>41.9575</td>\n",
       "    </tr>\n",
       "    <tr>\n",
       "      <th>1</th>\n",
       "      <td>399</td>\n",
       "      <td>697</td>\n",
       "      <td>1096</td>\n",
       "      <td>39.4386</td>\n",
       "      <td>14.3577</td>\n",
       "      <td>25.081</td>\n",
       "    </tr>\n",
       "  </tbody>\n",
       "</table>\n",
       "</div>"
      ],
      "text/plain": [
       "Class             0     1   sum      p_t      p_p      p_n\n",
       "Symptom- Cough                                            \n",
       "0               517  1166  1683  60.5614  18.6038  41.9575\n",
       "1               399   697  1096  39.4386  14.3577   25.081"
      ]
     },
     "execution_count": 19,
     "metadata": {},
     "output_type": "execute_result"
    }
   ],
   "source": [
    "set_crosstab('Symptom- Cough',pcr_unb)"
   ]
  },
  {
   "cell_type": "code",
   "execution_count": 20,
   "metadata": {
    "execution": {
     "iopub.execute_input": "2021-03-07T19:58:25.270276Z",
     "iopub.status.busy": "2021-03-07T19:58:25.268970Z",
     "iopub.status.idle": "2021-03-07T19:58:25.286591Z",
     "shell.execute_reply": "2021-03-07T19:58:25.285935Z"
    },
    "papermill": {
     "duration": 0.132335,
     "end_time": "2021-03-07T19:58:25.286744",
     "exception": false,
     "start_time": "2021-03-07T19:58:25.154409",
     "status": "completed"
    },
    "tags": []
   },
   "outputs": [
    {
     "name": "stdout",
     "output_type": "stream",
     "text": [
      "Dependent (reject H0)\n"
     ]
    }
   ],
   "source": [
    "test_statistic_chi2('Symptom- Cough',pcr_unb)"
   ]
  },
  {
   "cell_type": "markdown",
   "metadata": {
    "papermill": {
     "duration": 0.05043,
     "end_time": "2021-03-07T19:58:25.388184",
     "exception": false,
     "start_time": "2021-03-07T19:58:25.337754",
     "status": "completed"
    },
    "tags": []
   },
   "source": [
    "# Symptom- Headache"
   ]
  },
  {
   "cell_type": "markdown",
   "metadata": {
    "papermill": {
     "duration": 0.05052,
     "end_time": "2021-03-07T19:58:25.489585",
     "exception": false,
     "start_time": "2021-03-07T19:58:25.439065",
     "status": "completed"
    },
    "tags": []
   },
   "source": [
    "balanced dataset"
   ]
  },
  {
   "cell_type": "code",
   "execution_count": 21,
   "metadata": {
    "execution": {
     "iopub.execute_input": "2021-03-07T19:58:25.600659Z",
     "iopub.status.busy": "2021-03-07T19:58:25.598908Z",
     "iopub.status.idle": "2021-03-07T19:58:25.629842Z",
     "shell.execute_reply": "2021-03-07T19:58:25.629162Z"
    },
    "papermill": {
     "duration": 0.089909,
     "end_time": "2021-03-07T19:58:25.629978",
     "exception": false,
     "start_time": "2021-03-07T19:58:25.540069",
     "status": "completed"
    },
    "tags": []
   },
   "outputs": [
    {
     "data": {
      "text/html": [
       "<div>\n",
       "<style scoped>\n",
       "    .dataframe tbody tr th:only-of-type {\n",
       "        vertical-align: middle;\n",
       "    }\n",
       "\n",
       "    .dataframe tbody tr th {\n",
       "        vertical-align: top;\n",
       "    }\n",
       "\n",
       "    .dataframe thead th {\n",
       "        text-align: right;\n",
       "    }\n",
       "</style>\n",
       "<table border=\"1\" class=\"dataframe\">\n",
       "  <thead>\n",
       "    <tr style=\"text-align: right;\">\n",
       "      <th>Class</th>\n",
       "      <th>0</th>\n",
       "      <th>1</th>\n",
       "      <th>sum</th>\n",
       "      <th>p_t</th>\n",
       "      <th>p_p</th>\n",
       "      <th>p_n</th>\n",
       "    </tr>\n",
       "    <tr>\n",
       "      <th>Symptom- Headache</th>\n",
       "      <th></th>\n",
       "      <th></th>\n",
       "      <th></th>\n",
       "      <th></th>\n",
       "      <th></th>\n",
       "      <th></th>\n",
       "    </tr>\n",
       "  </thead>\n",
       "  <tbody>\n",
       "    <tr>\n",
       "      <th>0</th>\n",
       "      <td>79</td>\n",
       "      <td>93</td>\n",
       "      <td>172</td>\n",
       "      <td>9.38865</td>\n",
       "      <td>4.31223</td>\n",
       "      <td>5.07642</td>\n",
       "    </tr>\n",
       "    <tr>\n",
       "      <th>1</th>\n",
       "      <td>837</td>\n",
       "      <td>823</td>\n",
       "      <td>1660</td>\n",
       "      <td>90.6114</td>\n",
       "      <td>45.6878</td>\n",
       "      <td>44.9236</td>\n",
       "    </tr>\n",
       "  </tbody>\n",
       "</table>\n",
       "</div>"
      ],
      "text/plain": [
       "Class                0    1   sum      p_t      p_p      p_n\n",
       "Symptom- Headache                                           \n",
       "0                   79   93   172  9.38865  4.31223  5.07642\n",
       "1                  837  823  1660  90.6114  45.6878  44.9236"
      ]
     },
     "execution_count": 21,
     "metadata": {},
     "output_type": "execute_result"
    }
   ],
   "source": [
    "set_crosstab('Symptom- Headache',pcr)"
   ]
  },
  {
   "cell_type": "code",
   "execution_count": 22,
   "metadata": {
    "execution": {
     "iopub.execute_input": "2021-03-07T19:58:25.742315Z",
     "iopub.status.busy": "2021-03-07T19:58:25.741430Z",
     "iopub.status.idle": "2021-03-07T19:58:25.758376Z",
     "shell.execute_reply": "2021-03-07T19:58:25.757707Z"
    },
    "papermill": {
     "duration": 0.076788,
     "end_time": "2021-03-07T19:58:25.758579",
     "exception": false,
     "start_time": "2021-03-07T19:58:25.681791",
     "status": "completed"
    },
    "tags": []
   },
   "outputs": [
    {
     "name": "stdout",
     "output_type": "stream",
     "text": [
      "Independent (fail to reject H0)\n"
     ]
    }
   ],
   "source": [
    "test_statistic_chi2('Symptom- Headache',pcr)"
   ]
  },
  {
   "cell_type": "markdown",
   "metadata": {
    "papermill": {
     "duration": 0.052663,
     "end_time": "2021-03-07T19:58:25.864212",
     "exception": false,
     "start_time": "2021-03-07T19:58:25.811549",
     "status": "completed"
    },
    "tags": []
   },
   "source": [
    "unbalanced dataset"
   ]
  },
  {
   "cell_type": "code",
   "execution_count": 23,
   "metadata": {
    "execution": {
     "iopub.execute_input": "2021-03-07T19:58:25.979787Z",
     "iopub.status.busy": "2021-03-07T19:58:25.978493Z",
     "iopub.status.idle": "2021-03-07T19:58:26.007417Z",
     "shell.execute_reply": "2021-03-07T19:58:26.007962Z"
    },
    "papermill": {
     "duration": 0.091212,
     "end_time": "2021-03-07T19:58:26.008123",
     "exception": false,
     "start_time": "2021-03-07T19:58:25.916911",
     "status": "completed"
    },
    "tags": []
   },
   "outputs": [
    {
     "data": {
      "text/html": [
       "<div>\n",
       "<style scoped>\n",
       "    .dataframe tbody tr th:only-of-type {\n",
       "        vertical-align: middle;\n",
       "    }\n",
       "\n",
       "    .dataframe tbody tr th {\n",
       "        vertical-align: top;\n",
       "    }\n",
       "\n",
       "    .dataframe thead th {\n",
       "        text-align: right;\n",
       "    }\n",
       "</style>\n",
       "<table border=\"1\" class=\"dataframe\">\n",
       "  <thead>\n",
       "    <tr style=\"text-align: right;\">\n",
       "      <th>Class</th>\n",
       "      <th>0</th>\n",
       "      <th>1</th>\n",
       "      <th>sum</th>\n",
       "      <th>p_t</th>\n",
       "      <th>p_p</th>\n",
       "      <th>p_n</th>\n",
       "    </tr>\n",
       "    <tr>\n",
       "      <th>Symptom- Headache</th>\n",
       "      <th></th>\n",
       "      <th></th>\n",
       "      <th></th>\n",
       "      <th></th>\n",
       "      <th></th>\n",
       "      <th></th>\n",
       "    </tr>\n",
       "  </thead>\n",
       "  <tbody>\n",
       "    <tr>\n",
       "      <th>0</th>\n",
       "      <td>79</td>\n",
       "      <td>190</td>\n",
       "      <td>269</td>\n",
       "      <td>9.67974</td>\n",
       "      <td>2.84275</td>\n",
       "      <td>6.83699</td>\n",
       "    </tr>\n",
       "    <tr>\n",
       "      <th>1</th>\n",
       "      <td>837</td>\n",
       "      <td>1673</td>\n",
       "      <td>2510</td>\n",
       "      <td>90.3203</td>\n",
       "      <td>30.1187</td>\n",
       "      <td>60.2015</td>\n",
       "    </tr>\n",
       "  </tbody>\n",
       "</table>\n",
       "</div>"
      ],
      "text/plain": [
       "Class                0     1   sum      p_t      p_p      p_n\n",
       "Symptom- Headache                                            \n",
       "0                   79   190   269  9.67974  2.84275  6.83699\n",
       "1                  837  1673  2510  90.3203  30.1187  60.2015"
      ]
     },
     "execution_count": 23,
     "metadata": {},
     "output_type": "execute_result"
    }
   ],
   "source": [
    "set_crosstab('Symptom- Headache',pcr_unb)"
   ]
  },
  {
   "cell_type": "code",
   "execution_count": 24,
   "metadata": {
    "execution": {
     "iopub.execute_input": "2021-03-07T19:58:26.119365Z",
     "iopub.status.busy": "2021-03-07T19:58:26.118578Z",
     "iopub.status.idle": "2021-03-07T19:58:26.137770Z",
     "shell.execute_reply": "2021-03-07T19:58:26.138350Z"
    },
    "papermill": {
     "duration": 0.076643,
     "end_time": "2021-03-07T19:58:26.138497",
     "exception": false,
     "start_time": "2021-03-07T19:58:26.061854",
     "status": "completed"
    },
    "tags": []
   },
   "outputs": [
    {
     "name": "stdout",
     "output_type": "stream",
     "text": [
      "Independent (fail to reject H0)\n"
     ]
    }
   ],
   "source": [
    "test_statistic_chi2('Symptom- Headache',pcr_unb)"
   ]
  },
  {
   "cell_type": "markdown",
   "metadata": {
    "papermill": {
     "duration": 0.053665,
     "end_time": "2021-03-07T19:58:26.246049",
     "exception": false,
     "start_time": "2021-03-07T19:58:26.192384",
     "status": "completed"
    },
    "tags": []
   },
   "source": [
    "# Symptom- Taste Disorders"
   ]
  },
  {
   "cell_type": "markdown",
   "metadata": {
    "papermill": {
     "duration": 0.053367,
     "end_time": "2021-03-07T19:58:26.353074",
     "exception": false,
     "start_time": "2021-03-07T19:58:26.299707",
     "status": "completed"
    },
    "tags": []
   },
   "source": [
    "balanced dataset"
   ]
  },
  {
   "cell_type": "code",
   "execution_count": 25,
   "metadata": {
    "execution": {
     "iopub.execute_input": "2021-03-07T19:58:26.464309Z",
     "iopub.status.busy": "2021-03-07T19:58:26.463565Z",
     "iopub.status.idle": "2021-03-07T19:58:26.496377Z",
     "shell.execute_reply": "2021-03-07T19:58:26.495744Z"
    },
    "papermill": {
     "duration": 0.08992,
     "end_time": "2021-03-07T19:58:26.496494",
     "exception": false,
     "start_time": "2021-03-07T19:58:26.406574",
     "status": "completed"
    },
    "tags": []
   },
   "outputs": [
    {
     "data": {
      "text/html": [
       "<div>\n",
       "<style scoped>\n",
       "    .dataframe tbody tr th:only-of-type {\n",
       "        vertical-align: middle;\n",
       "    }\n",
       "\n",
       "    .dataframe tbody tr th {\n",
       "        vertical-align: top;\n",
       "    }\n",
       "\n",
       "    .dataframe thead th {\n",
       "        text-align: right;\n",
       "    }\n",
       "</style>\n",
       "<table border=\"1\" class=\"dataframe\">\n",
       "  <thead>\n",
       "    <tr style=\"text-align: right;\">\n",
       "      <th>Class</th>\n",
       "      <th>0</th>\n",
       "      <th>1</th>\n",
       "      <th>sum</th>\n",
       "      <th>p_t</th>\n",
       "      <th>p_p</th>\n",
       "      <th>p_n</th>\n",
       "    </tr>\n",
       "    <tr>\n",
       "      <th>Symptom- Taste Disorders</th>\n",
       "      <th></th>\n",
       "      <th></th>\n",
       "      <th></th>\n",
       "      <th></th>\n",
       "      <th></th>\n",
       "      <th></th>\n",
       "    </tr>\n",
       "  </thead>\n",
       "  <tbody>\n",
       "    <tr>\n",
       "      <th>0</th>\n",
       "      <td>93</td>\n",
       "      <td>45</td>\n",
       "      <td>138</td>\n",
       "      <td>7.53275</td>\n",
       "      <td>5.07642</td>\n",
       "      <td>2.45633</td>\n",
       "    </tr>\n",
       "    <tr>\n",
       "      <th>1</th>\n",
       "      <td>823</td>\n",
       "      <td>871</td>\n",
       "      <td>1694</td>\n",
       "      <td>92.4672</td>\n",
       "      <td>44.9236</td>\n",
       "      <td>47.5437</td>\n",
       "    </tr>\n",
       "  </tbody>\n",
       "</table>\n",
       "</div>"
      ],
      "text/plain": [
       "Class                       0    1   sum      p_t      p_p      p_n\n",
       "Symptom- Taste Disorders                                           \n",
       "0                          93   45   138  7.53275  5.07642  2.45633\n",
       "1                         823  871  1694  92.4672  44.9236  47.5437"
      ]
     },
     "execution_count": 25,
     "metadata": {},
     "output_type": "execute_result"
    }
   ],
   "source": [
    "set_crosstab('Symptom- Taste Disorders',pcr)"
   ]
  },
  {
   "cell_type": "code",
   "execution_count": 26,
   "metadata": {
    "execution": {
     "iopub.execute_input": "2021-03-07T19:58:26.620530Z",
     "iopub.status.busy": "2021-03-07T19:58:26.619070Z",
     "iopub.status.idle": "2021-03-07T19:58:26.635407Z",
     "shell.execute_reply": "2021-03-07T19:58:26.636019Z"
    },
    "papermill": {
     "duration": 0.080694,
     "end_time": "2021-03-07T19:58:26.636192",
     "exception": false,
     "start_time": "2021-03-07T19:58:26.555498",
     "status": "completed"
    },
    "tags": []
   },
   "outputs": [
    {
     "name": "stdout",
     "output_type": "stream",
     "text": [
      "Dependent (reject H0)\n"
     ]
    }
   ],
   "source": [
    "test_statistic_chi2('Symptom- Taste Disorders',pcr)"
   ]
  },
  {
   "cell_type": "markdown",
   "metadata": {
    "papermill": {
     "duration": 0.05469,
     "end_time": "2021-03-07T19:58:26.746230",
     "exception": false,
     "start_time": "2021-03-07T19:58:26.691540",
     "status": "completed"
    },
    "tags": []
   },
   "source": [
    "unbalanced dataset"
   ]
  },
  {
   "cell_type": "code",
   "execution_count": 27,
   "metadata": {
    "execution": {
     "iopub.execute_input": "2021-03-07T19:58:26.868865Z",
     "iopub.status.busy": "2021-03-07T19:58:26.867759Z",
     "iopub.status.idle": "2021-03-07T19:58:26.897800Z",
     "shell.execute_reply": "2021-03-07T19:58:26.897096Z"
    },
    "papermill": {
     "duration": 0.095305,
     "end_time": "2021-03-07T19:58:26.897943",
     "exception": false,
     "start_time": "2021-03-07T19:58:26.802638",
     "status": "completed"
    },
    "tags": []
   },
   "outputs": [
    {
     "data": {
      "text/html": [
       "<div>\n",
       "<style scoped>\n",
       "    .dataframe tbody tr th:only-of-type {\n",
       "        vertical-align: middle;\n",
       "    }\n",
       "\n",
       "    .dataframe tbody tr th {\n",
       "        vertical-align: top;\n",
       "    }\n",
       "\n",
       "    .dataframe thead th {\n",
       "        text-align: right;\n",
       "    }\n",
       "</style>\n",
       "<table border=\"1\" class=\"dataframe\">\n",
       "  <thead>\n",
       "    <tr style=\"text-align: right;\">\n",
       "      <th>Class</th>\n",
       "      <th>0</th>\n",
       "      <th>1</th>\n",
       "      <th>sum</th>\n",
       "      <th>p_t</th>\n",
       "      <th>p_p</th>\n",
       "      <th>p_n</th>\n",
       "    </tr>\n",
       "    <tr>\n",
       "      <th>Symptom- Taste Disorders</th>\n",
       "      <th></th>\n",
       "      <th></th>\n",
       "      <th></th>\n",
       "      <th></th>\n",
       "      <th></th>\n",
       "      <th></th>\n",
       "    </tr>\n",
       "  </thead>\n",
       "  <tbody>\n",
       "    <tr>\n",
       "      <th>0</th>\n",
       "      <td>93</td>\n",
       "      <td>75</td>\n",
       "      <td>168</td>\n",
       "      <td>6.04534</td>\n",
       "      <td>3.34653</td>\n",
       "      <td>2.69881</td>\n",
       "    </tr>\n",
       "    <tr>\n",
       "      <th>1</th>\n",
       "      <td>823</td>\n",
       "      <td>1788</td>\n",
       "      <td>2611</td>\n",
       "      <td>93.9547</td>\n",
       "      <td>29.615</td>\n",
       "      <td>64.3397</td>\n",
       "    </tr>\n",
       "  </tbody>\n",
       "</table>\n",
       "</div>"
      ],
      "text/plain": [
       "Class                       0     1   sum      p_t      p_p      p_n\n",
       "Symptom- Taste Disorders                                            \n",
       "0                          93    75   168  6.04534  3.34653  2.69881\n",
       "1                         823  1788  2611  93.9547   29.615  64.3397"
      ]
     },
     "execution_count": 27,
     "metadata": {},
     "output_type": "execute_result"
    }
   ],
   "source": [
    "set_crosstab('Symptom- Taste Disorders',pcr_unb)"
   ]
  },
  {
   "cell_type": "code",
   "execution_count": 28,
   "metadata": {
    "execution": {
     "iopub.execute_input": "2021-03-07T19:58:27.018446Z",
     "iopub.status.busy": "2021-03-07T19:58:27.017389Z",
     "iopub.status.idle": "2021-03-07T19:58:27.038011Z",
     "shell.execute_reply": "2021-03-07T19:58:27.037094Z"
    },
    "papermill": {
     "duration": 0.08363,
     "end_time": "2021-03-07T19:58:27.038193",
     "exception": false,
     "start_time": "2021-03-07T19:58:26.954563",
     "status": "completed"
    },
    "tags": []
   },
   "outputs": [
    {
     "name": "stdout",
     "output_type": "stream",
     "text": [
      "Dependent (reject H0)\n"
     ]
    }
   ],
   "source": [
    "test_statistic_chi2('Symptom- Taste Disorders',pcr_unb)"
   ]
  },
  {
   "cell_type": "markdown",
   "metadata": {
    "papermill": {
     "duration": 0.071449,
     "end_time": "2021-03-07T19:58:27.180468",
     "exception": false,
     "start_time": "2021-03-07T19:58:27.109019",
     "status": "completed"
    },
    "tags": []
   },
   "source": [
    "# Symptom- Olfactory Disorders"
   ]
  },
  {
   "cell_type": "markdown",
   "metadata": {
    "papermill": {
     "duration": 0.064442,
     "end_time": "2021-03-07T19:58:27.302631",
     "exception": false,
     "start_time": "2021-03-07T19:58:27.238189",
     "status": "completed"
    },
    "tags": []
   },
   "source": [
    "balanced dataset"
   ]
  },
  {
   "cell_type": "code",
   "execution_count": 29,
   "metadata": {
    "execution": {
     "iopub.execute_input": "2021-03-07T19:58:27.442670Z",
     "iopub.status.busy": "2021-03-07T19:58:27.441573Z",
     "iopub.status.idle": "2021-03-07T19:58:27.456445Z",
     "shell.execute_reply": "2021-03-07T19:58:27.455909Z"
    },
    "papermill": {
     "duration": 0.093332,
     "end_time": "2021-03-07T19:58:27.456565",
     "exception": false,
     "start_time": "2021-03-07T19:58:27.363233",
     "status": "completed"
    },
    "tags": []
   },
   "outputs": [
    {
     "data": {
      "text/html": [
       "<div>\n",
       "<style scoped>\n",
       "    .dataframe tbody tr th:only-of-type {\n",
       "        vertical-align: middle;\n",
       "    }\n",
       "\n",
       "    .dataframe tbody tr th {\n",
       "        vertical-align: top;\n",
       "    }\n",
       "\n",
       "    .dataframe thead th {\n",
       "        text-align: right;\n",
       "    }\n",
       "</style>\n",
       "<table border=\"1\" class=\"dataframe\">\n",
       "  <thead>\n",
       "    <tr style=\"text-align: right;\">\n",
       "      <th>Class</th>\n",
       "      <th>0</th>\n",
       "      <th>1</th>\n",
       "      <th>sum</th>\n",
       "      <th>p_t</th>\n",
       "      <th>p_p</th>\n",
       "      <th>p_n</th>\n",
       "    </tr>\n",
       "    <tr>\n",
       "      <th>Symptom- Olfactory Disorders</th>\n",
       "      <th></th>\n",
       "      <th></th>\n",
       "      <th></th>\n",
       "      <th></th>\n",
       "      <th></th>\n",
       "      <th></th>\n",
       "    </tr>\n",
       "  </thead>\n",
       "  <tbody>\n",
       "    <tr>\n",
       "      <th>0</th>\n",
       "      <td>96</td>\n",
       "      <td>43</td>\n",
       "      <td>139</td>\n",
       "      <td>7.58734</td>\n",
       "      <td>5.24017</td>\n",
       "      <td>2.34716</td>\n",
       "    </tr>\n",
       "    <tr>\n",
       "      <th>1</th>\n",
       "      <td>820</td>\n",
       "      <td>873</td>\n",
       "      <td>1693</td>\n",
       "      <td>92.4127</td>\n",
       "      <td>44.7598</td>\n",
       "      <td>47.6528</td>\n",
       "    </tr>\n",
       "  </tbody>\n",
       "</table>\n",
       "</div>"
      ],
      "text/plain": [
       "Class                           0    1   sum      p_t      p_p      p_n\n",
       "Symptom- Olfactory Disorders                                           \n",
       "0                              96   43   139  7.58734  5.24017  2.34716\n",
       "1                             820  873  1693  92.4127  44.7598  47.6528"
      ]
     },
     "execution_count": 29,
     "metadata": {},
     "output_type": "execute_result"
    }
   ],
   "source": [
    "set_crosstab('Symptom- Olfactory Disorders',pcr)"
   ]
  },
  {
   "cell_type": "code",
   "execution_count": 30,
   "metadata": {
    "execution": {
     "iopub.execute_input": "2021-03-07T19:58:27.579754Z",
     "iopub.status.busy": "2021-03-07T19:58:27.578669Z",
     "iopub.status.idle": "2021-03-07T19:58:27.593555Z",
     "shell.execute_reply": "2021-03-07T19:58:27.592961Z"
    },
    "papermill": {
     "duration": 0.080071,
     "end_time": "2021-03-07T19:58:27.593705",
     "exception": false,
     "start_time": "2021-03-07T19:58:27.513634",
     "status": "completed"
    },
    "tags": []
   },
   "outputs": [
    {
     "name": "stdout",
     "output_type": "stream",
     "text": [
      "Dependent (reject H0)\n"
     ]
    }
   ],
   "source": [
    "test_statistic_chi2('Symptom- Olfactory Disorders',pcr)"
   ]
  },
  {
   "cell_type": "markdown",
   "metadata": {
    "papermill": {
     "duration": 0.05889,
     "end_time": "2021-03-07T19:58:27.709835",
     "exception": false,
     "start_time": "2021-03-07T19:58:27.650945",
     "status": "completed"
    },
    "tags": []
   },
   "source": [
    "unbalanced dataset"
   ]
  },
  {
   "cell_type": "code",
   "execution_count": 31,
   "metadata": {
    "execution": {
     "iopub.execute_input": "2021-03-07T19:58:27.836567Z",
     "iopub.status.busy": "2021-03-07T19:58:27.830926Z",
     "iopub.status.idle": "2021-03-07T19:58:27.866041Z",
     "shell.execute_reply": "2021-03-07T19:58:27.866631Z"
    },
    "papermill": {
     "duration": 0.099441,
     "end_time": "2021-03-07T19:58:27.866788",
     "exception": false,
     "start_time": "2021-03-07T19:58:27.767347",
     "status": "completed"
    },
    "tags": []
   },
   "outputs": [
    {
     "data": {
      "text/html": [
       "<div>\n",
       "<style scoped>\n",
       "    .dataframe tbody tr th:only-of-type {\n",
       "        vertical-align: middle;\n",
       "    }\n",
       "\n",
       "    .dataframe tbody tr th {\n",
       "        vertical-align: top;\n",
       "    }\n",
       "\n",
       "    .dataframe thead th {\n",
       "        text-align: right;\n",
       "    }\n",
       "</style>\n",
       "<table border=\"1\" class=\"dataframe\">\n",
       "  <thead>\n",
       "    <tr style=\"text-align: right;\">\n",
       "      <th>Class</th>\n",
       "      <th>0</th>\n",
       "      <th>1</th>\n",
       "      <th>sum</th>\n",
       "      <th>p_t</th>\n",
       "      <th>p_p</th>\n",
       "      <th>p_n</th>\n",
       "    </tr>\n",
       "    <tr>\n",
       "      <th>Symptom- Olfactory Disorders</th>\n",
       "      <th></th>\n",
       "      <th></th>\n",
       "      <th></th>\n",
       "      <th></th>\n",
       "      <th></th>\n",
       "      <th></th>\n",
       "    </tr>\n",
       "  </thead>\n",
       "  <tbody>\n",
       "    <tr>\n",
       "      <th>0</th>\n",
       "      <td>96</td>\n",
       "      <td>67</td>\n",
       "      <td>163</td>\n",
       "      <td>5.86542</td>\n",
       "      <td>3.45448</td>\n",
       "      <td>2.41094</td>\n",
       "    </tr>\n",
       "    <tr>\n",
       "      <th>1</th>\n",
       "      <td>820</td>\n",
       "      <td>1796</td>\n",
       "      <td>2616</td>\n",
       "      <td>94.1346</td>\n",
       "      <td>29.507</td>\n",
       "      <td>64.6276</td>\n",
       "    </tr>\n",
       "  </tbody>\n",
       "</table>\n",
       "</div>"
      ],
      "text/plain": [
       "Class                           0     1   sum      p_t      p_p      p_n\n",
       "Symptom- Olfactory Disorders                                            \n",
       "0                              96    67   163  5.86542  3.45448  2.41094\n",
       "1                             820  1796  2616  94.1346   29.507  64.6276"
      ]
     },
     "execution_count": 31,
     "metadata": {},
     "output_type": "execute_result"
    }
   ],
   "source": [
    "set_crosstab('Symptom- Olfactory Disorders',pcr_unb)"
   ]
  },
  {
   "cell_type": "code",
   "execution_count": 32,
   "metadata": {
    "execution": {
     "iopub.execute_input": "2021-03-07T19:58:27.989633Z",
     "iopub.status.busy": "2021-03-07T19:58:27.987398Z",
     "iopub.status.idle": "2021-03-07T19:58:28.007935Z",
     "shell.execute_reply": "2021-03-07T19:58:28.006916Z"
    },
    "papermill": {
     "duration": 0.083728,
     "end_time": "2021-03-07T19:58:28.008141",
     "exception": false,
     "start_time": "2021-03-07T19:58:27.924413",
     "status": "completed"
    },
    "tags": []
   },
   "outputs": [
    {
     "name": "stdout",
     "output_type": "stream",
     "text": [
      "Dependent (reject H0)\n"
     ]
    }
   ],
   "source": [
    "test_statistic_chi2('Symptom- Olfactory Disorders',pcr_unb)"
   ]
  },
  {
   "cell_type": "markdown",
   "metadata": {
    "papermill": {
     "duration": 0.05935,
     "end_time": "2021-03-07T19:58:28.128177",
     "exception": false,
     "start_time": "2021-03-07T19:58:28.068827",
     "status": "completed"
    },
    "tags": []
   },
   "source": [
    "# Symptom- Coryza"
   ]
  },
  {
   "cell_type": "markdown",
   "metadata": {
    "papermill": {
     "duration": 0.059746,
     "end_time": "2021-03-07T19:58:28.248477",
     "exception": false,
     "start_time": "2021-03-07T19:58:28.188731",
     "status": "completed"
    },
    "tags": []
   },
   "source": [
    "balanced dataset"
   ]
  },
  {
   "cell_type": "code",
   "execution_count": 33,
   "metadata": {
    "execution": {
     "iopub.execute_input": "2021-03-07T19:58:28.375098Z",
     "iopub.status.busy": "2021-03-07T19:58:28.374366Z",
     "iopub.status.idle": "2021-03-07T19:58:28.407424Z",
     "shell.execute_reply": "2021-03-07T19:58:28.406689Z"
    },
    "papermill": {
     "duration": 0.100191,
     "end_time": "2021-03-07T19:58:28.407553",
     "exception": false,
     "start_time": "2021-03-07T19:58:28.307362",
     "status": "completed"
    },
    "tags": []
   },
   "outputs": [
    {
     "data": {
      "text/html": [
       "<div>\n",
       "<style scoped>\n",
       "    .dataframe tbody tr th:only-of-type {\n",
       "        vertical-align: middle;\n",
       "    }\n",
       "\n",
       "    .dataframe tbody tr th {\n",
       "        vertical-align: top;\n",
       "    }\n",
       "\n",
       "    .dataframe thead th {\n",
       "        text-align: right;\n",
       "    }\n",
       "</style>\n",
       "<table border=\"1\" class=\"dataframe\">\n",
       "  <thead>\n",
       "    <tr style=\"text-align: right;\">\n",
       "      <th>Class</th>\n",
       "      <th>0</th>\n",
       "      <th>1</th>\n",
       "      <th>sum</th>\n",
       "      <th>p_t</th>\n",
       "      <th>p_p</th>\n",
       "      <th>p_n</th>\n",
       "    </tr>\n",
       "    <tr>\n",
       "      <th>Symptom- Coryza</th>\n",
       "      <th></th>\n",
       "      <th></th>\n",
       "      <th></th>\n",
       "      <th></th>\n",
       "      <th></th>\n",
       "      <th></th>\n",
       "    </tr>\n",
       "  </thead>\n",
       "  <tbody>\n",
       "    <tr>\n",
       "      <th>0</th>\n",
       "      <td>47</td>\n",
       "      <td>44</td>\n",
       "      <td>91</td>\n",
       "      <td>4.96725</td>\n",
       "      <td>2.5655</td>\n",
       "      <td>2.40175</td>\n",
       "    </tr>\n",
       "    <tr>\n",
       "      <th>1</th>\n",
       "      <td>869</td>\n",
       "      <td>872</td>\n",
       "      <td>1741</td>\n",
       "      <td>95.0328</td>\n",
       "      <td>47.4345</td>\n",
       "      <td>47.5983</td>\n",
       "    </tr>\n",
       "  </tbody>\n",
       "</table>\n",
       "</div>"
      ],
      "text/plain": [
       "Class              0    1   sum      p_t      p_p      p_n\n",
       "Symptom- Coryza                                           \n",
       "0                 47   44    91  4.96725   2.5655  2.40175\n",
       "1                869  872  1741  95.0328  47.4345  47.5983"
      ]
     },
     "execution_count": 33,
     "metadata": {},
     "output_type": "execute_result"
    }
   ],
   "source": [
    "set_crosstab('Symptom- Coryza',pcr)"
   ]
  },
  {
   "cell_type": "code",
   "execution_count": 34,
   "metadata": {
    "execution": {
     "iopub.execute_input": "2021-03-07T19:58:28.532790Z",
     "iopub.status.busy": "2021-03-07T19:58:28.532094Z",
     "iopub.status.idle": "2021-03-07T19:58:28.547784Z",
     "shell.execute_reply": "2021-03-07T19:58:28.547157Z"
    },
    "papermill": {
     "duration": 0.081921,
     "end_time": "2021-03-07T19:58:28.547912",
     "exception": false,
     "start_time": "2021-03-07T19:58:28.465991",
     "status": "completed"
    },
    "tags": []
   },
   "outputs": [
    {
     "name": "stdout",
     "output_type": "stream",
     "text": [
      "Independent (fail to reject H0)\n"
     ]
    }
   ],
   "source": [
    "test_statistic_chi2('Symptom- Coryza',pcr)"
   ]
  },
  {
   "cell_type": "markdown",
   "metadata": {
    "papermill": {
     "duration": 0.05828,
     "end_time": "2021-03-07T19:58:28.664969",
     "exception": false,
     "start_time": "2021-03-07T19:58:28.606689",
     "status": "completed"
    },
    "tags": []
   },
   "source": [
    "unbalanced dataset"
   ]
  },
  {
   "cell_type": "code",
   "execution_count": 35,
   "metadata": {
    "execution": {
     "iopub.execute_input": "2021-03-07T19:58:28.791912Z",
     "iopub.status.busy": "2021-03-07T19:58:28.791105Z",
     "iopub.status.idle": "2021-03-07T19:58:28.820505Z",
     "shell.execute_reply": "2021-03-07T19:58:28.819920Z"
    },
    "papermill": {
     "duration": 0.096669,
     "end_time": "2021-03-07T19:58:28.820633",
     "exception": false,
     "start_time": "2021-03-07T19:58:28.723964",
     "status": "completed"
    },
    "tags": []
   },
   "outputs": [
    {
     "data": {
      "text/html": [
       "<div>\n",
       "<style scoped>\n",
       "    .dataframe tbody tr th:only-of-type {\n",
       "        vertical-align: middle;\n",
       "    }\n",
       "\n",
       "    .dataframe tbody tr th {\n",
       "        vertical-align: top;\n",
       "    }\n",
       "\n",
       "    .dataframe thead th {\n",
       "        text-align: right;\n",
       "    }\n",
       "</style>\n",
       "<table border=\"1\" class=\"dataframe\">\n",
       "  <thead>\n",
       "    <tr style=\"text-align: right;\">\n",
       "      <th>Class</th>\n",
       "      <th>0</th>\n",
       "      <th>1</th>\n",
       "      <th>sum</th>\n",
       "      <th>p_t</th>\n",
       "      <th>p_p</th>\n",
       "      <th>p_n</th>\n",
       "    </tr>\n",
       "    <tr>\n",
       "      <th>Symptom- Coryza</th>\n",
       "      <th></th>\n",
       "      <th></th>\n",
       "      <th></th>\n",
       "      <th></th>\n",
       "      <th></th>\n",
       "      <th></th>\n",
       "    </tr>\n",
       "  </thead>\n",
       "  <tbody>\n",
       "    <tr>\n",
       "      <th>0</th>\n",
       "      <td>47</td>\n",
       "      <td>76</td>\n",
       "      <td>123</td>\n",
       "      <td>4.42605</td>\n",
       "      <td>1.69126</td>\n",
       "      <td>2.7348</td>\n",
       "    </tr>\n",
       "    <tr>\n",
       "      <th>1</th>\n",
       "      <td>869</td>\n",
       "      <td>1787</td>\n",
       "      <td>2656</td>\n",
       "      <td>95.5739</td>\n",
       "      <td>31.2702</td>\n",
       "      <td>64.3037</td>\n",
       "    </tr>\n",
       "  </tbody>\n",
       "</table>\n",
       "</div>"
      ],
      "text/plain": [
       "Class              0     1   sum      p_t      p_p      p_n\n",
       "Symptom- Coryza                                            \n",
       "0                 47    76   123  4.42605  1.69126   2.7348\n",
       "1                869  1787  2656  95.5739  31.2702  64.3037"
      ]
     },
     "execution_count": 35,
     "metadata": {},
     "output_type": "execute_result"
    }
   ],
   "source": [
    "set_crosstab('Symptom- Coryza',pcr_unb)"
   ]
  },
  {
   "cell_type": "code",
   "execution_count": 36,
   "metadata": {
    "execution": {
     "iopub.execute_input": "2021-03-07T19:58:28.951791Z",
     "iopub.status.busy": "2021-03-07T19:58:28.950681Z",
     "iopub.status.idle": "2021-03-07T19:58:28.967836Z",
     "shell.execute_reply": "2021-03-07T19:58:28.967260Z"
    },
    "papermill": {
     "duration": 0.085707,
     "end_time": "2021-03-07T19:58:28.967960",
     "exception": false,
     "start_time": "2021-03-07T19:58:28.882253",
     "status": "completed"
    },
    "tags": []
   },
   "outputs": [
    {
     "name": "stdout",
     "output_type": "stream",
     "text": [
      "Independent (fail to reject H0)\n"
     ]
    }
   ],
   "source": [
    "test_statistic_chi2('Symptom- Coryza',pcr_unb)"
   ]
  },
  {
   "cell_type": "markdown",
   "metadata": {
    "papermill": {
     "duration": 0.061363,
     "end_time": "2021-03-07T19:58:29.090317",
     "exception": false,
     "start_time": "2021-03-07T19:58:29.028954",
     "status": "completed"
    },
    "tags": []
   },
   "source": [
    "# Gender"
   ]
  },
  {
   "cell_type": "markdown",
   "metadata": {
    "papermill": {
     "duration": 0.059721,
     "end_time": "2021-03-07T19:58:29.211110",
     "exception": false,
     "start_time": "2021-03-07T19:58:29.151389",
     "status": "completed"
    },
    "tags": []
   },
   "source": [
    "balanced dataset"
   ]
  },
  {
   "cell_type": "code",
   "execution_count": 37,
   "metadata": {
    "execution": {
     "iopub.execute_input": "2021-03-07T19:58:29.338046Z",
     "iopub.status.busy": "2021-03-07T19:58:29.337307Z",
     "iopub.status.idle": "2021-03-07T19:58:29.365711Z",
     "shell.execute_reply": "2021-03-07T19:58:29.366275Z"
    },
    "papermill": {
     "duration": 0.095258,
     "end_time": "2021-03-07T19:58:29.366440",
     "exception": false,
     "start_time": "2021-03-07T19:58:29.271182",
     "status": "completed"
    },
    "tags": []
   },
   "outputs": [
    {
     "data": {
      "text/html": [
       "<div>\n",
       "<style scoped>\n",
       "    .dataframe tbody tr th:only-of-type {\n",
       "        vertical-align: middle;\n",
       "    }\n",
       "\n",
       "    .dataframe tbody tr th {\n",
       "        vertical-align: top;\n",
       "    }\n",
       "\n",
       "    .dataframe thead th {\n",
       "        text-align: right;\n",
       "    }\n",
       "</style>\n",
       "<table border=\"1\" class=\"dataframe\">\n",
       "  <thead>\n",
       "    <tr style=\"text-align: right;\">\n",
       "      <th>Class</th>\n",
       "      <th>0</th>\n",
       "      <th>1</th>\n",
       "      <th>sum</th>\n",
       "      <th>p_t</th>\n",
       "      <th>p_p</th>\n",
       "      <th>p_n</th>\n",
       "    </tr>\n",
       "    <tr>\n",
       "      <th>Gender</th>\n",
       "      <th></th>\n",
       "      <th></th>\n",
       "      <th></th>\n",
       "      <th></th>\n",
       "      <th></th>\n",
       "      <th></th>\n",
       "    </tr>\n",
       "  </thead>\n",
       "  <tbody>\n",
       "    <tr>\n",
       "      <th>0</th>\n",
       "      <td>210</td>\n",
       "      <td>647</td>\n",
       "      <td>857</td>\n",
       "      <td>46.7795</td>\n",
       "      <td>11.4629</td>\n",
       "      <td>35.3166</td>\n",
       "    </tr>\n",
       "    <tr>\n",
       "      <th>1</th>\n",
       "      <td>706</td>\n",
       "      <td>269</td>\n",
       "      <td>975</td>\n",
       "      <td>53.2205</td>\n",
       "      <td>38.5371</td>\n",
       "      <td>14.6834</td>\n",
       "    </tr>\n",
       "  </tbody>\n",
       "</table>\n",
       "</div>"
      ],
      "text/plain": [
       "Class     0    1  sum      p_t      p_p      p_n\n",
       "Gender                                          \n",
       "0       210  647  857  46.7795  11.4629  35.3166\n",
       "1       706  269  975  53.2205  38.5371  14.6834"
      ]
     },
     "execution_count": 37,
     "metadata": {},
     "output_type": "execute_result"
    }
   ],
   "source": [
    "set_crosstab('Gender',pcr)"
   ]
  },
  {
   "cell_type": "code",
   "execution_count": 38,
   "metadata": {
    "execution": {
     "iopub.execute_input": "2021-03-07T19:58:29.492836Z",
     "iopub.status.busy": "2021-03-07T19:58:29.492175Z",
     "iopub.status.idle": "2021-03-07T19:58:29.511848Z",
     "shell.execute_reply": "2021-03-07T19:58:29.511107Z"
    },
    "papermill": {
     "duration": 0.083519,
     "end_time": "2021-03-07T19:58:29.511966",
     "exception": false,
     "start_time": "2021-03-07T19:58:29.428447",
     "status": "completed"
    },
    "tags": []
   },
   "outputs": [
    {
     "name": "stdout",
     "output_type": "stream",
     "text": [
      "Dependent (reject H0)\n"
     ]
    }
   ],
   "source": [
    "test_statistic_chi2('Gender',pcr)"
   ]
  },
  {
   "cell_type": "markdown",
   "metadata": {
    "papermill": {
     "duration": 0.061101,
     "end_time": "2021-03-07T19:58:29.635679",
     "exception": false,
     "start_time": "2021-03-07T19:58:29.574578",
     "status": "completed"
    },
    "tags": []
   },
   "source": [
    "unbalanced dataset"
   ]
  },
  {
   "cell_type": "code",
   "execution_count": 39,
   "metadata": {
    "execution": {
     "iopub.execute_input": "2021-03-07T19:58:29.766952Z",
     "iopub.status.busy": "2021-03-07T19:58:29.764147Z",
     "iopub.status.idle": "2021-03-07T19:58:29.797696Z",
     "shell.execute_reply": "2021-03-07T19:58:29.797044Z"
    },
    "papermill": {
     "duration": 0.101298,
     "end_time": "2021-03-07T19:58:29.797831",
     "exception": false,
     "start_time": "2021-03-07T19:58:29.696533",
     "status": "completed"
    },
    "tags": []
   },
   "outputs": [
    {
     "data": {
      "text/html": [
       "<div>\n",
       "<style scoped>\n",
       "    .dataframe tbody tr th:only-of-type {\n",
       "        vertical-align: middle;\n",
       "    }\n",
       "\n",
       "    .dataframe tbody tr th {\n",
       "        vertical-align: top;\n",
       "    }\n",
       "\n",
       "    .dataframe thead th {\n",
       "        text-align: right;\n",
       "    }\n",
       "</style>\n",
       "<table border=\"1\" class=\"dataframe\">\n",
       "  <thead>\n",
       "    <tr style=\"text-align: right;\">\n",
       "      <th>Class</th>\n",
       "      <th>0</th>\n",
       "      <th>1</th>\n",
       "      <th>sum</th>\n",
       "      <th>p_t</th>\n",
       "      <th>p_p</th>\n",
       "      <th>p_n</th>\n",
       "    </tr>\n",
       "    <tr>\n",
       "      <th>Gender</th>\n",
       "      <th></th>\n",
       "      <th></th>\n",
       "      <th></th>\n",
       "      <th></th>\n",
       "      <th></th>\n",
       "      <th></th>\n",
       "    </tr>\n",
       "  </thead>\n",
       "  <tbody>\n",
       "    <tr>\n",
       "      <th>0</th>\n",
       "      <td>210</td>\n",
       "      <td>1320</td>\n",
       "      <td>1530</td>\n",
       "      <td>55.0558</td>\n",
       "      <td>7.55668</td>\n",
       "      <td>47.4991</td>\n",
       "    </tr>\n",
       "    <tr>\n",
       "      <th>1</th>\n",
       "      <td>706</td>\n",
       "      <td>543</td>\n",
       "      <td>1249</td>\n",
       "      <td>44.9442</td>\n",
       "      <td>25.4048</td>\n",
       "      <td>19.5394</td>\n",
       "    </tr>\n",
       "  </tbody>\n",
       "</table>\n",
       "</div>"
      ],
      "text/plain": [
       "Class     0     1   sum      p_t      p_p      p_n\n",
       "Gender                                            \n",
       "0       210  1320  1530  55.0558  7.55668  47.4991\n",
       "1       706   543  1249  44.9442  25.4048  19.5394"
      ]
     },
     "execution_count": 39,
     "metadata": {},
     "output_type": "execute_result"
    }
   ],
   "source": [
    "set_crosstab('Gender',pcr_unb)"
   ]
  },
  {
   "cell_type": "code",
   "execution_count": 40,
   "metadata": {
    "execution": {
     "iopub.execute_input": "2021-03-07T19:58:29.936485Z",
     "iopub.status.busy": "2021-03-07T19:58:29.929953Z",
     "iopub.status.idle": "2021-03-07T19:58:29.948962Z",
     "shell.execute_reply": "2021-03-07T19:58:29.948061Z"
    },
    "papermill": {
     "duration": 0.088471,
     "end_time": "2021-03-07T19:58:29.949113",
     "exception": false,
     "start_time": "2021-03-07T19:58:29.860642",
     "status": "completed"
    },
    "tags": []
   },
   "outputs": [
    {
     "name": "stdout",
     "output_type": "stream",
     "text": [
      "Dependent (reject H0)\n"
     ]
    }
   ],
   "source": [
    "test_statistic_chi2('Gender',pcr_unb)"
   ]
  },
  {
   "cell_type": "markdown",
   "metadata": {
    "papermill": {
     "duration": 0.063074,
     "end_time": "2021-03-07T19:58:30.075283",
     "exception": false,
     "start_time": "2021-03-07T19:58:30.012209",
     "status": "completed"
    },
    "tags": []
   },
   "source": [
    "# Are you a health professional?"
   ]
  },
  {
   "cell_type": "markdown",
   "metadata": {
    "papermill": {
     "duration": 0.063637,
     "end_time": "2021-03-07T19:58:30.200738",
     "exception": false,
     "start_time": "2021-03-07T19:58:30.137101",
     "status": "completed"
    },
    "tags": []
   },
   "source": [
    "balanced dataset"
   ]
  },
  {
   "cell_type": "code",
   "execution_count": 41,
   "metadata": {
    "execution": {
     "iopub.execute_input": "2021-03-07T19:58:30.339462Z",
     "iopub.status.busy": "2021-03-07T19:58:30.338402Z",
     "iopub.status.idle": "2021-03-07T19:58:30.367738Z",
     "shell.execute_reply": "2021-03-07T19:58:30.367023Z"
    },
    "papermill": {
     "duration": 0.101677,
     "end_time": "2021-03-07T19:58:30.367860",
     "exception": false,
     "start_time": "2021-03-07T19:58:30.266183",
     "status": "completed"
    },
    "tags": []
   },
   "outputs": [
    {
     "data": {
      "text/html": [
       "<div>\n",
       "<style scoped>\n",
       "    .dataframe tbody tr th:only-of-type {\n",
       "        vertical-align: middle;\n",
       "    }\n",
       "\n",
       "    .dataframe tbody tr th {\n",
       "        vertical-align: top;\n",
       "    }\n",
       "\n",
       "    .dataframe thead th {\n",
       "        text-align: right;\n",
       "    }\n",
       "</style>\n",
       "<table border=\"1\" class=\"dataframe\">\n",
       "  <thead>\n",
       "    <tr style=\"text-align: right;\">\n",
       "      <th>Class</th>\n",
       "      <th>0</th>\n",
       "      <th>1</th>\n",
       "      <th>sum</th>\n",
       "      <th>p_t</th>\n",
       "      <th>p_p</th>\n",
       "      <th>p_n</th>\n",
       "    </tr>\n",
       "    <tr>\n",
       "      <th>Are you a health professional?</th>\n",
       "      <th></th>\n",
       "      <th></th>\n",
       "      <th></th>\n",
       "      <th></th>\n",
       "      <th></th>\n",
       "      <th></th>\n",
       "    </tr>\n",
       "  </thead>\n",
       "  <tbody>\n",
       "    <tr>\n",
       "      <th>0</th>\n",
       "      <td>66</td>\n",
       "      <td>253</td>\n",
       "      <td>319</td>\n",
       "      <td>17.4127</td>\n",
       "      <td>3.60262</td>\n",
       "      <td>13.81</td>\n",
       "    </tr>\n",
       "    <tr>\n",
       "      <th>1</th>\n",
       "      <td>850</td>\n",
       "      <td>663</td>\n",
       "      <td>1513</td>\n",
       "      <td>82.5873</td>\n",
       "      <td>46.3974</td>\n",
       "      <td>36.19</td>\n",
       "    </tr>\n",
       "  </tbody>\n",
       "</table>\n",
       "</div>"
      ],
      "text/plain": [
       "Class                             0    1   sum      p_t      p_p    p_n\n",
       "Are you a health professional?                                         \n",
       "0                                66  253   319  17.4127  3.60262  13.81\n",
       "1                               850  663  1513  82.5873  46.3974  36.19"
      ]
     },
     "execution_count": 41,
     "metadata": {},
     "output_type": "execute_result"
    }
   ],
   "source": [
    "set_crosstab('Are you a health professional?',pcr)"
   ]
  },
  {
   "cell_type": "code",
   "execution_count": 42,
   "metadata": {
    "execution": {
     "iopub.execute_input": "2021-03-07T19:58:30.501463Z",
     "iopub.status.busy": "2021-03-07T19:58:30.500429Z",
     "iopub.status.idle": "2021-03-07T19:58:30.516752Z",
     "shell.execute_reply": "2021-03-07T19:58:30.515409Z"
    },
    "papermill": {
     "duration": 0.086156,
     "end_time": "2021-03-07T19:58:30.516996",
     "exception": false,
     "start_time": "2021-03-07T19:58:30.430840",
     "status": "completed"
    },
    "tags": []
   },
   "outputs": [
    {
     "name": "stdout",
     "output_type": "stream",
     "text": [
      "Dependent (reject H0)\n"
     ]
    }
   ],
   "source": [
    "test_statistic_chi2('Are you a health professional?',pcr)"
   ]
  },
  {
   "cell_type": "markdown",
   "metadata": {
    "papermill": {
     "duration": 0.062681,
     "end_time": "2021-03-07T19:58:30.644139",
     "exception": false,
     "start_time": "2021-03-07T19:58:30.581458",
     "status": "completed"
    },
    "tags": []
   },
   "source": [
    "unbalanced dataset"
   ]
  },
  {
   "cell_type": "code",
   "execution_count": 43,
   "metadata": {
    "execution": {
     "iopub.execute_input": "2021-03-07T19:58:30.790927Z",
     "iopub.status.busy": "2021-03-07T19:58:30.780415Z",
     "iopub.status.idle": "2021-03-07T19:58:30.809406Z",
     "shell.execute_reply": "2021-03-07T19:58:30.809971Z"
    },
    "papermill": {
     "duration": 0.102843,
     "end_time": "2021-03-07T19:58:30.810147",
     "exception": false,
     "start_time": "2021-03-07T19:58:30.707304",
     "status": "completed"
    },
    "tags": []
   },
   "outputs": [
    {
     "data": {
      "text/html": [
       "<div>\n",
       "<style scoped>\n",
       "    .dataframe tbody tr th:only-of-type {\n",
       "        vertical-align: middle;\n",
       "    }\n",
       "\n",
       "    .dataframe tbody tr th {\n",
       "        vertical-align: top;\n",
       "    }\n",
       "\n",
       "    .dataframe thead th {\n",
       "        text-align: right;\n",
       "    }\n",
       "</style>\n",
       "<table border=\"1\" class=\"dataframe\">\n",
       "  <thead>\n",
       "    <tr style=\"text-align: right;\">\n",
       "      <th>Class</th>\n",
       "      <th>0</th>\n",
       "      <th>1</th>\n",
       "      <th>sum</th>\n",
       "      <th>p_t</th>\n",
       "      <th>p_p</th>\n",
       "      <th>p_n</th>\n",
       "    </tr>\n",
       "    <tr>\n",
       "      <th>Are you a health professional?</th>\n",
       "      <th></th>\n",
       "      <th></th>\n",
       "      <th></th>\n",
       "      <th></th>\n",
       "      <th></th>\n",
       "      <th></th>\n",
       "    </tr>\n",
       "  </thead>\n",
       "  <tbody>\n",
       "    <tr>\n",
       "      <th>0</th>\n",
       "      <td>66</td>\n",
       "      <td>494</td>\n",
       "      <td>560</td>\n",
       "      <td>20.1511</td>\n",
       "      <td>2.37496</td>\n",
       "      <td>17.7762</td>\n",
       "    </tr>\n",
       "    <tr>\n",
       "      <th>1</th>\n",
       "      <td>850</td>\n",
       "      <td>1369</td>\n",
       "      <td>2219</td>\n",
       "      <td>79.8489</td>\n",
       "      <td>30.5865</td>\n",
       "      <td>49.2623</td>\n",
       "    </tr>\n",
       "  </tbody>\n",
       "</table>\n",
       "</div>"
      ],
      "text/plain": [
       "Class                             0     1   sum      p_t      p_p      p_n\n",
       "Are you a health professional?                                            \n",
       "0                                66   494   560  20.1511  2.37496  17.7762\n",
       "1                               850  1369  2219  79.8489  30.5865  49.2623"
      ]
     },
     "execution_count": 43,
     "metadata": {},
     "output_type": "execute_result"
    }
   ],
   "source": [
    "set_crosstab('Are you a health professional?',pcr_unb)"
   ]
  },
  {
   "cell_type": "code",
   "execution_count": 44,
   "metadata": {
    "execution": {
     "iopub.execute_input": "2021-03-07T19:58:30.943567Z",
     "iopub.status.busy": "2021-03-07T19:58:30.942913Z",
     "iopub.status.idle": "2021-03-07T19:58:30.960507Z",
     "shell.execute_reply": "2021-03-07T19:58:30.961576Z"
    },
    "papermill": {
     "duration": 0.086703,
     "end_time": "2021-03-07T19:58:30.961840",
     "exception": false,
     "start_time": "2021-03-07T19:58:30.875137",
     "status": "completed"
    },
    "tags": []
   },
   "outputs": [
    {
     "name": "stdout",
     "output_type": "stream",
     "text": [
      "Dependent (reject H0)\n"
     ]
    }
   ],
   "source": [
    "test_statistic_chi2('Are you a health professional?',pcr_unb)"
   ]
  }
 ],
 "metadata": {
  "kernelspec": {
   "display_name": "Python 3",
   "language": "python",
   "name": "python3"
  },
  "language_info": {
   "codemirror_mode": {
    "name": "ipython",
    "version": 3
   },
   "file_extension": ".py",
   "mimetype": "text/x-python",
   "name": "python",
   "nbconvert_exporter": "python",
   "pygments_lexer": "ipython3",
   "version": "3.7.6"
  },
  "papermill": {
   "duration": 16.167978,
   "end_time": "2021-03-07T19:58:31.137898",
   "environment_variables": {},
   "exception": null,
   "input_path": "__notebook__.ipynb",
   "output_path": "__notebook__.ipynb",
   "parameters": {},
   "start_time": "2021-03-07T19:58:14.969920",
   "version": "2.1.0"
  }
 },
 "nbformat": 4,
 "nbformat_minor": 4
}
